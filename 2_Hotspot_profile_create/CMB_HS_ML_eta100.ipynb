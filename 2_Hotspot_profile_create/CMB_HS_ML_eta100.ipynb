{
 "cells": [
  {
   "cell_type": "code",
   "execution_count": 1,
   "metadata": {},
   "outputs": [],
   "source": [
    "## make plots inline - for ipython notebooks\n",
    "%matplotlib inline\n",
    "\n",
    "from numpy import linspace, sqrt, array, pi, cos, sin, dot, exp, sinh, log, log10, cosh, sinh\n",
    "from numpy import atleast_1d, zeros, where, zeros_like\n",
    "import numpy as np\n",
    "from scipy.misc import derivative\n",
    "import matplotlib.pyplot as plt\n",
    "from pylab import loadtxt\n",
    "from numpy.linalg import norm as norm\n",
    "from matplotlib import rc, rcParams\n",
    "import matplotlib.cm as cm\n",
    "from scipy import interpolate\n",
    "import time\n",
    "import math\n",
    "import scipy.special as sp\n",
    "from scipy import integrate\n",
    "import matplotlib.ticker as ticker\n",
    "\n",
    "import matplotlib\n",
    "from classy import Class\n",
    "from scipy.optimize import fsolve\n",
    "from scipy.interpolate import interp1d\n",
    "# Make use of TeX\\ufeff\n",
    "# rc('text',usetex=True)\n",
    "# Change all fonts to 'Computer Modern'\n",
    "rc('font',**{'size':16, 'family':'serif','serif':['Times New Roman']})\n",
    "\n",
    "\n",
    "# Change all fonts to 'Computer Modern'\n",
    "rc('font',**{'size':16, 'family':'serif','serif':['Times New Roman']})\n",
    "rc('xtick.major', size=5, pad=10)\n",
    "rc('xtick', labelsize=16)\n",
    "rc('ytick.major', size=5, pad=10)\n",
    "rc('ytick', labelsize=16)\n",
    "\n",
    "plt.rcParams['figure.dpi'] = 125\n",
    "plt.rcParams['savefig.dpi'] = 300\n",
    "\n",
    "pcolors=['SteelBlue','Indigo','FireBrick','Coral','Tan','OliveDrab']"
   ]
  },
  {
   "cell_type": "code",
   "execution_count": 2,
   "metadata": {},
   "outputs": [],
   "source": [
    "# running CLASS once to get various background quantities\n",
    "k = 1.e-4  # 1/Mpc\n",
    "common_settings = {'output':'mPk',\n",
    "                   'k_output_values':k,\n",
    "                   'h':0.67810,\n",
    "                   'omega_b':0.02238280,\n",
    "                   'omega_cdm':0.1201075,\n",
    "                   'A_s':2.100549e-09 ,\n",
    "                   'n_s':0.9660499,\n",
    "                   'tau_reio':0.05430842,\n",
    "                   'YHe':0.2454,\n",
    "                   'compute damping scale':'yes',\n",
    "                   'gauge':'newtonian'}  \n",
    "\n",
    "M = Class()\n",
    "M.set(common_settings)\n",
    "M.compute()\n",
    "\n",
    "derived = M.get_current_derived_parameters(['tau_rec','conformal_age','z_rec'])\n",
    "thermo = M.get_thermodynamics()\n",
    "\n",
    "z_rec = derived['z_rec']\n",
    "tau_rec=derived['tau_rec']\n",
    "tau_0=derived['conformal_age']\n",
    "tau_0_minus_tau_rec_Mpc = (tau_0-tau_rec)\n",
    "tau_reio=4255.316282\n",
    "\n",
    "exp_kappa=thermo['exp(-kappa)']\n",
    "tau = thermo['conf. time [Mpc]']\n",
    "g = thermo['g [Mpc^-1]']\n",
    "\n",
    "exp_kappa_func=interpolate.interp1d(tau,exp_kappa,kind='cubic')\n",
    "g_func=interpolate.interp1d(tau,g,kind='cubic')"
   ]
  },
  {
   "cell_type": "code",
   "execution_count": 3,
   "metadata": {},
   "outputs": [],
   "source": [
    "k_list=np.linspace(1.e-4,5.e-1,300) # change based on what k-space resolution you need, max=1000\n",
    "\n",
    "#np.linspace(1.e-4,1.e-1,1000)\n",
    "tau_list1=np.linspace(200,tau_rec,100) # change based on what tau-space resolution you need, max=100\n",
    "tau_list2=np.linspace(tau_rec+1,1.e+3,300) # change based on what tau-space resolution you need, max=700\n",
    "tau_list=np.concatenate((tau_list1,tau_list2))\n",
    "\n",
    "tau_diff_list=tau_list[1:len(tau_list)]-tau_list[0:len(tau_list)-1] # time difference array needed to compute the Riemann sum"
   ]
  },
  {
   "cell_type": "code",
   "execution_count": 4,
   "metadata": {},
   "outputs": [],
   "source": [
    "# running CLASS for each k and storing phi, psi, theta etc. outputs in arrays\n",
    "\n",
    "phi_list=[]\n",
    "psi_list=[]\n",
    "theta_list=[]\n",
    "\n",
    "phi_prime_list=[]\n",
    "psi_prime_list=[]\n",
    "\n",
    "for k in k_list:\n",
    "    M.empty()\n",
    "    common_settings = {'output':'mPk',\n",
    "                   'k_output_values':k,\n",
    "                   'h':0.67810,\n",
    "                   'omega_b':0.02238280,\n",
    "                   'omega_cdm':0.1201075,\n",
    "                   'A_s':2.100549e-09 ,\n",
    "                   'n_s':0.9660499,\n",
    "                   'tau_reio':0.05430842,\n",
    "                   'YHe':0.2454,\n",
    "                   'compute damping scale':'yes', \n",
    "                   'gauge':'newtonian'} \n",
    "    M.set(common_settings)\n",
    "    M.compute()\n",
    "    all_k = M.get_perturbations()  \n",
    "    one_k = all_k['scalar'][0]      \n",
    "    tau_pert = one_k['tau [Mpc]']\n",
    "    Theta0 = 0.25*one_k['delta_g']\n",
    "    phi = one_k['phi']\n",
    "    psi = one_k['psi']\n",
    "    theta_b = one_k['theta_b']\n",
    "    a = one_k['a']\n",
    "    phi_func=interpolate.interp1d(tau_pert,phi,kind='cubic')\n",
    "    psi_func=interpolate.interp1d(tau_pert,psi,kind='cubic')\n",
    "    theta0_func=interpolate.interp1d(tau_pert,Theta0,kind='cubic')   \n",
    "    \n",
    "    phi_list.append(np.append(k,phi_func(tau_list))) # first index is the k value\n",
    "    psi_list.append(np.append(k,psi_func(tau_list)))\n",
    "    theta_list.append(np.append(k,theta0_func(tau_list)))    \n",
    "    phi_prime_list.append(np.append(k,derivative(phi_func,tau_list,dx=0.1)))\n",
    "    psi_prime_list.append(np.append(k,derivative(psi_func,tau_list,dx=0.1)))\n",
    "    "
   ]
  },
  {
   "cell_type": "code",
   "execution_count": 5,
   "metadata": {},
   "outputs": [
    {
     "data": {
      "text/plain": [
       "0.0"
      ]
     },
     "execution_count": 5,
     "metadata": {},
     "output_type": "execute_result"
    }
   ],
   "source": [
    "## 99th entry gives tau_rec\n",
    "tau_list[99]-tau_rec"
   ]
  },
  {
   "cell_type": "code",
   "execution_count": 6,
   "metadata": {},
   "outputs": [],
   "source": [
    "tau_diff_list=tau_list[1:len(tau_list)]-tau_list[0:len(tau_list)-1] # time difference array needed to compute the Riemann sum\n",
    "k_diff_list=k_list[1:len(k_list)]-k_list[0:len(k_list)-1] # k difference array needed to compute Riemann sum\n",
    "\n",
    "def func(x): # defines the curvature perturbation in momentum space\n",
    "    return sp.sici(x)[0]-np.sin(x) #sici returns {si(x), ci(x)} as tuples\n",
    "\n",
    "phidot=59**2\n",
    "g=1\n",
    "prefac=-g/phidot*(4*np.pi)/(2*np.pi)**3*2.7*1.e+6"
   ]
  },
  {
   "cell_type": "markdown",
   "metadata": {},
   "source": [
    "### ISW Transfer function, need to evaluate only once"
   ]
  },
  {
   "cell_type": "code",
   "execution_count": 7,
   "metadata": {},
   "outputs": [],
   "source": [
    "# ISW transfer function, f_ISW(k,l) in the draft\n",
    "\n",
    "f_ISW = np.zeros_like(k_list)\n",
    "\n",
    "for ell in np.arange(1,600):\n",
    "    sum_over_k = []\n",
    "    for n in range(len(k_list)):\n",
    "        k_val=psi_prime_list[n][0] # first value gives the k\n",
    "        integrand_time=exp_kappa_func(tau_list)*(psi_prime_list[n][1:len(tau_list)+1]+phi_prime_list[n][1:len(tau_list)+1])*sp.spherical_jn(ell,k_val*(tau_0-tau_list)) # the integrand for time integral\n",
    "        integral_time=np.sum(integrand_time[0:len(integrand_time)-1]*tau_diff_list) # time integral done using Riemann sum\n",
    "        sum_over_k.append(integral_time)\n",
    "    f_ISW = np.vstack((f_ISW, sum_over_k))\n",
    "        "
   ]
  },
  {
   "cell_type": "markdown",
   "metadata": {},
   "source": [
    "### SW Transfer function, need to evaluate only once"
   ]
  },
  {
   "cell_type": "code",
   "execution_count": 8,
   "metadata": {},
   "outputs": [],
   "source": [
    "# SW transfer function, f_SW(k,l) in the draft\n",
    "\n",
    "f_SW = np.zeros_like(k_list)\n",
    "\n",
    "for ell in np.arange(1, 2000):\n",
    "    sum_over_k_SW = [] \n",
    "    for n in range(len(k_list)):\n",
    "        k_val=psi_prime_list[n][0] # first value gives the k\n",
    "        integrand_time_SW = (psi_list[n][99]+theta_list[n][99])*sp.spherical_jn(ell,k_val*(tau_0-tau_rec)) ## 99 implies evaluation at tau_rec\n",
    "        sum_over_k_SW.append(integrand_time_SW)\n",
    "    f_SW = np.vstack((f_SW, sum_over_k_SW))\n"
   ]
  },
  {
   "cell_type": "markdown",
   "metadata": {},
   "source": [
    "### ISW for single eta_HS"
   ]
  },
  {
   "cell_type": "code",
   "execution_count": 9,
   "metadata": {},
   "outputs": [
    {
     "name": "stdout",
     "output_type": "stream",
     "text": [
      "the ISW amplitude is 2.23584696973667\n"
     ]
    }
   ],
   "source": [
    "# the full computation of ISW, with new tau_rec dependence, single etap and single eta_HS\n",
    "eta_HS = tau_rec\n",
    "\n",
    "etap=100\n",
    "\n",
    "\n",
    "integrand_list=[]\n",
    "ell_count=1\n",
    "for ell in np.arange(1,600):\n",
    "    sum_over_k=[]\n",
    "    for n in range(len(k_list)): # loops over all k values for each ell\n",
    "        k_val=psi_prime_list[n][0] # first value gives the k\n",
    "        integrand_full=prefac*f_ISW[ell_count][n]*func(k_val*etap)*sp.spherical_jn(ell,k_val*(tau_0-eta_HS))*(2*ell+1)/k_val # the integrand for k integral\n",
    "        sum_over_k.append(integrand_full) \n",
    "    integrand_list.append(np.sum(sum_over_k[0:len(sum_over_k)-1]*k_diff_list)) # k integral done using Riemann sum\n",
    "    ell_count += 1\n",
    "\n",
    "print('the ISW amplitude is',np.sum(integrand_list))  # finally summing over ell  "
   ]
  },
  {
   "cell_type": "markdown",
   "metadata": {},
   "source": [
    "### SW for single eta_HS"
   ]
  },
  {
   "cell_type": "code",
   "execution_count": 10,
   "metadata": {},
   "outputs": [
    {
     "name": "stdout",
     "output_type": "stream",
     "text": [
      "the SW amplitude is 7.818788269392195\n"
     ]
    }
   ],
   "source": [
    "# the full computation of SW piece, code structure same as ISW piece, new tau_rec dependence, single etap\n",
    "eta_HS = tau_rec\n",
    "\n",
    "etap=100\n",
    "\n",
    "\n",
    "integrand_list=[]\n",
    "ell_count=1\n",
    "for ell in np.arange(1,2000):\n",
    "    sum_over_k=[]\n",
    "    for n in range(len(k_list)):\n",
    "        k_val=psi_prime_list[n][0]        \n",
    "        integrand_full=prefac*f_SW[ell_count][n]*func(k_val*etap)*sp.spherical_jn(ell,k_val*(tau_0-eta_HS))*(2*ell+1)/k_val\n",
    "        sum_over_k.append(integrand_full)\n",
    "    integrand_list.append(np.sum(sum_over_k[0:len(sum_over_k)-1]*k_diff_list))\n",
    "    ell_count +=1\n",
    "\n",
    "print('the SW amplitude is',np.sum(integrand_list))"
   ]
  },
  {
   "cell_type": "markdown",
   "metadata": {},
   "source": [
    "### Central temperature scan for different eta_HS, ISW piece"
   ]
  },
  {
   "cell_type": "code",
   "execution_count": 11,
   "metadata": {},
   "outputs": [
    {
     "data": {
      "text/plain": [
       "280.62745874925827"
      ]
     },
     "execution_count": 11,
     "metadata": {},
     "output_type": "execute_result"
    }
   ],
   "source": [
    "tau_rec"
   ]
  },
  {
   "cell_type": "code",
   "execution_count": 12,
   "metadata": {},
   "outputs": [
    {
     "name": "stdout",
     "output_type": "stream",
     "text": [
      "the ISW amplitude is 0.12929005359192955\n",
      "the ISW amplitude is 0.18602632925875823\n",
      "the ISW amplitude is 0.24636421288678356\n",
      "the ISW amplitude is 0.3101335046766124\n",
      "the ISW amplitude is 0.3771894157256799\n",
      "the ISW amplitude is 0.4474088213360513\n",
      "the ISW amplitude is 0.5206820260638362\n",
      "the ISW amplitude is 0.5969037808491731\n",
      "the ISW amplitude is 0.6759643007799475\n",
      "the ISW amplitude is 0.7577403042861046\n",
      "the ISW amplitude is 0.8420887807976623\n",
      "the ISW amplitude is 0.9288452916194738\n",
      "the ISW amplitude is 1.0178283209941488\n",
      "the ISW amplitude is 1.1088500261975853\n",
      "the ISW amplitude is 1.2017279398452505\n",
      "the ISW amplitude is 1.2962911954924825\n",
      "the ISW amplitude is 1.392378824903996\n",
      "the ISW amplitude is 1.4898285664585442\n",
      "the ISW amplitude is 1.5884578188066327\n",
      "the ISW amplitude is 1.6880423826612256\n",
      "the ISW amplitude is 1.7882955131556937\n",
      "the ISW amplitude is 1.8888501211434041\n",
      "the ISW amplitude is 1.9892509126026732\n",
      "the ISW amplitude is 2.0889566363720675\n",
      "the ISW amplitude is 2.1873501667032142\n",
      "the ISW amplitude is 2.2837630269662323\n",
      "the ISW amplitude is 2.3775113958002043\n",
      "the ISW amplitude is 2.4679232964977413\n",
      "the ISW amplitude is 2.55435173007256\n",
      "the ISW amplitude is 2.636188655816342\n",
      "the ISW amplitude is 2.712881944674619\n",
      "the ISW amplitude is 2.7839456228315758\n",
      "the ISW amplitude is 2.8489644849611264\n",
      "the ISW amplitude is 2.9075971907328073\n",
      "the ISW amplitude is 2.959575770507305\n",
      "the ISW amplitude is 3.0047027581720185\n",
      "the ISW amplitude is 3.042848779815506\n",
      "the ISW amplitude is 3.073949129070771\n",
      "the ISW amplitude is 3.09799961821272\n",
      "the ISW amplitude is 3.115053495089092\n",
      "the ISW amplitude is 3.1252183219013525\n",
      "the ISW amplitude is 3.1286530378183697\n",
      "the ISW amplitude is 3.125566347152624\n",
      "the ISW amplitude is 3.116214648195343\n",
      "the ISW amplitude is 3.1008986729632104\n",
      "the ISW amplitude is 3.079959127897533\n",
      "the ISW amplitude is 3.053769725079477\n",
      "the ISW amplitude is 3.022728092580262\n",
      "the ISW amplitude is 2.987246267315525\n",
      "the ISW amplitude is 2.9477397000446683\n"
     ]
    }
   ],
   "source": [
    "etap=100\n",
    "\n",
    "\n",
    "ISW_central_list=[]\n",
    "\n",
    "for eta_HS in np.linspace(tau_rec-etap, tau_rec+etap, 50):\n",
    "    integrand_list=[]\n",
    "    ell_count=1\n",
    "    for ell in np.arange(1,600):\n",
    "        sum_over_k=[]\n",
    "        for n in range(len(k_list)): # loops over all k values for each ell\n",
    "            k_val=psi_prime_list[n][0] # first value gives the k\n",
    "            integrand_full=prefac*f_ISW[ell_count][n]*func(k_val*etap)*sp.spherical_jn(ell,k_val*(tau_0-eta_HS))*(2*ell+1)/k_val # the integrand for k integral\n",
    "            sum_over_k.append(integrand_full) \n",
    "        integrand_list.append(np.sum(sum_over_k[0:len(sum_over_k)-1]*k_diff_list)) # k integral done using Riemann sum\n",
    "        ell_count += 1\n",
    "    print('the ISW amplitude is',np.sum(integrand_list))  # finally summing over ell  \n",
    "    ISW_central_list.append(np.sum(integrand_list))"
   ]
  },
  {
   "cell_type": "markdown",
   "metadata": {},
   "source": [
    "### Central temperature scan for different eta_HS, SW piece"
   ]
  },
  {
   "cell_type": "code",
   "execution_count": 13,
   "metadata": {},
   "outputs": [
    {
     "name": "stdout",
     "output_type": "stream",
     "text": [
      "the SW amplitude is 6.199675515600964\n",
      "the SW amplitude is 6.158575964223498\n",
      "the SW amplitude is 6.084467069117766\n",
      "the SW amplitude is 5.958172721802426\n",
      "the SW amplitude is 5.774540851631006\n",
      "the SW amplitude is 5.536479533926986\n",
      "the SW amplitude is 5.245281228284194\n",
      "the SW amplitude is 4.900669789977809\n",
      "the SW amplitude is 4.499967595319777\n",
      "the SW amplitude is 4.038844814713165\n",
      "the SW amplitude is 3.5228290753845686\n",
      "the SW amplitude is 2.9838680073786827\n",
      "the SW amplitude is 2.494889136228543\n",
      "the SW amplitude is 2.165747190127377\n",
      "the SW amplitude is 2.10049238966935\n",
      "the SW amplitude is 2.3420643958071254\n",
      "the SW amplitude is 2.8544073792508358\n",
      "the SW amplitude is 3.547583171362973\n",
      "the SW amplitude is 4.321119382604847\n",
      "the SW amplitude is 5.100515949420194\n",
      "the SW amplitude is 5.84147288182781\n",
      "the SW amplitude is 6.512217467468999\n",
      "the SW amplitude is 7.086306759804062\n",
      "the SW amplitude is 7.530936256714634\n",
      "the SW amplitude is 7.784933748827798\n",
      "the SW amplitude is 7.785192306442054\n",
      "the SW amplitude is 7.5316942399440725\n",
      "the SW amplitude is 7.087569387422674\n",
      "the SW amplitude is 6.514078853323989\n",
      "the SW amplitude is 5.844085252419724\n",
      "the SW amplitude is 5.104010946667633\n",
      "the SW amplitude is 4.325492082945143\n",
      "the SW amplitude is 3.5525289983164003\n",
      "the SW amplitude is 2.859225744640007\n",
      "the SW amplitude is 2.3457364898249007\n",
      "the SW amplitude is 2.101915084070739\n",
      "the SW amplitude is 2.1640189424192897\n",
      "the SW amplitude is 2.4894794876269724\n",
      "the SW amplitude is 2.9745872744105\n",
      "the SW amplitude is 3.5097422073176103\n",
      "the SW amplitude is 4.022288997857434\n",
      "the SW amplitude is 4.480658055424555\n",
      "the SW amplitude is 4.8798242553532765\n",
      "the SW amplitude is 5.224686072340779\n",
      "the SW amplitude is 5.518399098180091\n",
      "the SW amplitude is 5.76145145227623\n",
      "the SW amplitude is 5.952298519000298\n",
      "the SW amplitude is 6.087055431166195\n",
      "the SW amplitude is 6.169162545381308\n",
      "the SW amplitude is 6.215861536846271\n"
     ]
    }
   ],
   "source": [
    "etap=100\n",
    "\n",
    "SW_central_list=[]\n",
    "\n",
    "for eta_HS in np.linspace(tau_rec-etap, tau_rec+etap, 50):\n",
    "    integrand_list=[]\n",
    "    ell_count=1\n",
    "    for ell in np.arange(1,2000):\n",
    "        sum_over_k=[]\n",
    "        for n in range(len(k_list)):\n",
    "            k_val=psi_prime_list[n][0]        \n",
    "            integrand_full=prefac*f_SW[ell_count][n]*func(k_val*etap)*sp.spherical_jn(ell,k_val*(tau_0-eta_HS))*(2*ell+1)/k_val\n",
    "            sum_over_k.append(integrand_full)\n",
    "        integrand_list.append(np.sum(sum_over_k[0:len(sum_over_k)-1]*k_diff_list))\n",
    "        ell_count +=1\n",
    "    print('the SW amplitude is',np.sum(integrand_list))\n",
    "    SW_central_list.append(np.sum(integrand_list))"
   ]
  },
  {
   "cell_type": "code",
   "execution_count": 14,
   "metadata": {},
   "outputs": [
    {
     "name": "stderr",
     "output_type": "stream",
     "text": [
      "findfont: Font family ['serif'] not found. Falling back to DejaVu Sans.\n",
      "findfont: Generic family 'serif' not found because none of the following families were found: Times New Roman\n"
     ]
    },
    {
     "data": {
      "image/png": "[encoded data removed]",
      "text/plain": [
       "<Figure size 750x500 with 1 Axes>"
      ]
     },
     "metadata": {
      "needs_background": "light"
     },
     "output_type": "display_data"
    }
   ],
   "source": [
    "plt.plot(np.linspace(tau_rec-etap, tau_rec+etap, 50), ISW_central_list, label='ISW')\n",
    "plt.plot(np.linspace(tau_rec-etap, tau_rec+etap, 50), SW_central_list, label='SW')\n",
    "plt.plot(np.linspace(tau_rec-etap, tau_rec+etap, 50), np.array(SW_central_list)+np.array(ISW_central_list), label='Total')\n",
    "plt.xlabel('eta_HS')\n",
    "plt.ylabel('T_central')\n",
    "plt.legend()\n",
    "plt.axvline(x=tau_rec, color='gray')\n",
    "plt.tight_layout()\n",
    "plt.savefig('eta100_central_temp.pdf')"
   ]
  },
  {
   "cell_type": "code",
   "execution_count": 25,
   "metadata": {},
   "outputs": [
    {
     "data": {
      "text/plain": [
       "array([0.0001])"
      ]
     },
     "execution_count": 25,
     "metadata": {},
     "output_type": "execute_result"
    }
   ],
   "source": [
    "np.logspace(-4.0, -1.0, num=1)"
   ]
  },
  {
   "cell_type": "markdown",
   "metadata": {},
   "source": [
    "### Temperature angular profilescan for different \\eta_HS, SW piece"
   ]
  },
  {
   "cell_type": "code",
   "execution_count": 15,
   "metadata": {},
   "outputs": [
    {
     "name": "stdout",
     "output_type": "stream",
     "text": [
      "180.62745874925827\n",
      "184.7090914023195\n",
      "188.7907240553807\n",
      "192.87235670844194\n",
      "196.95398936150318\n",
      "201.03562201456438\n",
      "205.11725466762562\n",
      "209.19888732068685\n",
      "213.28051997374806\n",
      "217.3621526268093\n",
      "221.4437852798705\n",
      "225.52541793293173\n",
      "229.60705058599297\n",
      "233.68868323905417\n",
      "237.7703158921154\n",
      "241.85194854517664\n",
      "245.93358119823785\n",
      "250.01521385129908\n",
      "254.09684650436031\n",
      "258.1784791574215\n",
      "262.2601118104827\n",
      "266.341744463544\n",
      "270.4233771166052\n",
      "274.50500976966646\n",
      "278.58664242272766\n",
      "282.66827507578887\n",
      "286.7499077288501\n",
      "290.83154038191134\n",
      "294.91317303497254\n",
      "298.9948056880338\n",
      "303.076438341095\n",
      "307.1580709941562\n",
      "311.2397036472174\n",
      "315.3213363002787\n",
      "319.4029689533399\n",
      "323.48460160640116\n",
      "327.56623425946236\n",
      "331.64786691252357\n",
      "335.7294995655848\n",
      "339.81113221864604\n",
      "343.89276487170724\n",
      "347.9743975247685\n",
      "352.0560301778297\n",
      "356.1376628308909\n",
      "360.2192954839521\n",
      "364.3009281370134\n",
      "368.3825607900746\n",
      "372.46419344313585\n",
      "376.54582609619706\n",
      "380.62745874925827\n"
     ]
    }
   ],
   "source": [
    "etap=100\n",
    "\n",
    "eta_HS_arr = np.linspace(tau_rec-etap, tau_rec+etap, 50)\n",
    "ang_arr = np.logspace(-3.7, -0.7, num=100)\n",
    "\n",
    "SW_angle_arr=np.zeros_like(ang_arr)\n",
    "\n",
    "for eta_HS in eta_HS_arr:\n",
    "    print(eta_HS)\n",
    "    SW_angle_temp = [] \n",
    "    for ang in ang_arr:\n",
    "        \n",
    "        integrand_list=[]\n",
    "        ell_count=1\n",
    "        for ell in np.arange(1,2000): \n",
    "            sum_over_k=[]\n",
    "            for n in range(len(k_list)):\n",
    "                k_val=psi_prime_list[n][0]\n",
    "                \n",
    "                integrand_full=prefac*f_SW[ell_count][n]*func(k_val*etap)*sp.eval_legendre(ell,np.cos(ang))*sp.spherical_jn(ell,k_val*(tau_0-eta_HS))*(2*ell+1)/k_val\n",
    "                sum_over_k.append(integrand_full)\n",
    "            integrand_list.append(np.sum(sum_over_k[0:len(sum_over_k)-1]*k_diff_list))\n",
    "            ell_count +=1\n",
    "        # print('the SW amplitude is',np.sum(integrand_list))\n",
    "        SW_angle_temp.append(np.sum(integrand_list))\n",
    "        \n",
    "    SW_angle_arr = np.vstack((SW_angle_arr, SW_angle_temp))\n",
    "np.savetxt('SW_stack_eta100.txt', SW_angle_arr)"
   ]
  },
  {
   "cell_type": "code",
   "execution_count": 36,
   "metadata": {},
   "outputs": [],
   "source": [
    "#np.savetxt('SW_stack_eta100_bkup.txt', SW_angle_arr)"
   ]
  },
  {
   "cell_type": "code",
   "execution_count": 42,
   "metadata": {},
   "outputs": [
    {
     "data": {
      "text/plain": [
       "array([[0.00000000e+00, 0.00000000e+00, 0.00000000e+00, ...,\n",
       "        0.00000000e+00, 0.00000000e+00, 0.00000000e+00],\n",
       "       [6.19807466e+00, 6.19784044e+00, 6.19757291e+00, ...,\n",
       "        4.12495380e-04, 4.17120294e-04, 2.68248993e-04],\n",
       "       [6.15447606e+00, 6.15387178e+00, 6.15318011e+00, ...,\n",
       "        3.44944379e-04, 3.58956813e-04, 2.30856499e-04],\n",
       "       ...,\n",
       "       [6.08149705e+00, 6.08067634e+00, 6.07973647e+00, ...,\n",
       "        7.15432256e-05, 8.39894052e-05, 2.02266576e-04],\n",
       "       [6.16470332e+00, 6.16404567e+00, 6.16329279e+00, ...,\n",
       "        1.74583278e-04, 1.71995750e-04, 2.86204054e-04],\n",
       "       [6.21364924e+00, 6.21332438e+00, 6.21295293e+00, ...,\n",
       "        2.46496337e-04, 2.33427242e-04, 3.44952326e-04]])"
      ]
     },
     "execution_count": 42,
     "metadata": {},
     "output_type": "execute_result"
    }
   ],
   "source": [
    "SW_angle_arr"
   ]
  },
  {
   "cell_type": "code",
   "execution_count": 43,
   "metadata": {},
   "outputs": [
    {
     "data": {
      "text/plain": [
       "[<matplotlib.lines.Line2D at 0x7f17bf197b50>]"
      ]
     },
     "execution_count": 43,
     "metadata": {},
     "output_type": "execute_result"
    },
    {
     "data": {
      "image/png": "[encoded data removed]",
      "text/plain": [
       "<Figure size 750x500 with 1 Axes>"
      ]
     },
     "metadata": {
      "needs_background": "light"
     },
     "output_type": "display_data"
    }
   ],
   "source": [
    "plt.plot(eta_HS_arr, SW_angle_arr.T[0][1:])"
   ]
  },
  {
   "cell_type": "code",
   "execution_count": 20,
   "metadata": {},
   "outputs": [
    {
     "data": {
      "text/plain": [
       "<matplotlib.legend.Legend at 0x7f18204001f0>"
      ]
     },
     "execution_count": 20,
     "metadata": {},
     "output_type": "execute_result"
    },
    {
     "data": {
      "image/png": "[encoded data removed]",
      "text/plain": [
       "<Figure size 750x500 with 1 Axes>"
      ]
     },
     "metadata": {
      "needs_background": "light"
     },
     "output_type": "display_data"
    }
   ],
   "source": [
    "plt.plot(ang_arr, SW_angle_arr[24], label='SW Contribution')\n",
    "#plt.xscale('log')\n",
    "plt.xlabel('Angle from the center of the hotspot')\n",
    "plt.ylabel('$\\delta T~[\\mu K]$')\n",
    "plt.legend()"
   ]
  },
  {
   "cell_type": "markdown",
   "metadata": {},
   "source": [
    "### Temperature angular profilescan for different \\eta_HS, ISW piece"
   ]
  },
  {
   "cell_type": "code",
   "execution_count": 18,
   "metadata": {},
   "outputs": [],
   "source": [
    "etap=100\n",
    "\n",
    "eta_HS_arr = np.linspace(tau_rec-etap, tau_rec+etap, 50)\n",
    "ang_arr = np.logspace(-3.7, -0.7, num=100)\n",
    "\n",
    "ISW_angle_arr=np.zeros_like(ang_arr)\n",
    "\n",
    "for eta_HS in eta_HS_arr:\n",
    "    ISW_angle_temp = [] \n",
    "    for ang in ang_arr:\n",
    "        \n",
    "        integrand_list=[]\n",
    "        ell_count=1\n",
    "        for ell in np.arange(1,600):\n",
    "            sum_over_k=[]\n",
    "            for n in range(len(k_list)):\n",
    "                k_val=psi_prime_list[n][0]\n",
    "                \n",
    "                integrand_full=prefac*f_ISW[ell_count][n]*func(k_val*etap)*sp.eval_legendre(ell,np.cos(ang))*sp.spherical_jn(ell,k_val*(tau_0-eta_HS))*(2*ell+1)/k_val\n",
    "                sum_over_k.append(integrand_full)\n",
    "            integrand_list.append(np.sum(sum_over_k[0:len(sum_over_k)-1]*k_diff_list))\n",
    "            ell_count +=1\n",
    "        # print('the SW amplitude is',np.sum(integrand_list))\n",
    "        ISW_angle_temp.append(np.sum(integrand_list))\n",
    "        \n",
    "    ISW_angle_arr = np.vstack((ISW_angle_arr, ISW_angle_temp))"
   ]
  },
  {
   "cell_type": "code",
   "execution_count": 19,
   "metadata": {},
   "outputs": [],
   "source": [
    "np.savetxt('ISW_stack_eta100.txt', ISW_angle_arr)"
   ]
  },
  {
   "cell_type": "code",
   "execution_count": 33,
   "metadata": {},
   "outputs": [],
   "source": [
    "ISW_angle_arr = np.loadtxt('../ISW_stack.txt')"
   ]
  },
  {
   "cell_type": "code",
   "execution_count": 40,
   "metadata": {},
   "outputs": [],
   "source": [
    "ISW_angle_arr = np.loadtxt('ISW_stack_eta100_bkup.txt')"
   ]
  },
  {
   "cell_type": "code",
   "execution_count": 41,
   "metadata": {},
   "outputs": [
    {
     "data": {
      "text/plain": [
       "<matplotlib.legend.Legend at 0x7f17bf36d8e0>"
      ]
     },
     "execution_count": 41,
     "metadata": {},
     "output_type": "execute_result"
    },
    {
     "data": {
      "image/png": "[encoded data removed]",
      "text/plain": [
       "<Figure size 750x500 with 1 Axes>"
      ]
     },
     "metadata": {
      "needs_background": "light"
     },
     "output_type": "display_data"
    }
   ],
   "source": [
    "ang_arr = np.logspace(-3.7, -0.7, num=100)\n",
    "plt.plot(ang_arr, ISW_angle_arr[24], label='ISW Contribution')\n",
    "#plt.xscale('log')\n",
    "plt.xlabel('Angle from the center of the hotspot')\n",
    "plt.ylabel('$\\delta T~[\\mu K]$')\n",
    "plt.legend()"
   ]
  },
  {
   "cell_type": "code",
   "execution_count": 28,
   "metadata": {},
   "outputs": [
    {
     "data": {
      "text/plain": [
       "277.3621526268093"
      ]
     },
     "execution_count": 28,
     "metadata": {},
     "output_type": "execute_result"
    }
   ],
   "source": [
    "eta_HS_arr[24]"
   ]
  },
  {
   "cell_type": "markdown",
   "metadata": {},
   "source": [
    "# Old"
   ]
  },
  {
   "cell_type": "code",
   "execution_count": 52,
   "metadata": {},
   "outputs": [],
   "source": [
    "etap=160\n",
    "eta_HS_arr = np.linspace(tau_rec-etap, tau_rec+etap, 5)\n",
    "ang_arr = np.linspace(0.07, 0.2, num=10)\n",
    "\n",
    "ISW_angle_arr_n=np.zeros_like(ang_arr)\n",
    "\n",
    "for eta_HS in eta_HS_arr:\n",
    "    ISW_angle_temp = [] \n",
    "    for ang in ang_arr:\n",
    "        \n",
    "        integrand_list=[]\n",
    "        ell_count=1\n",
    "        for ell in np.arange(1,600):\n",
    "            sum_over_k=[]\n",
    "            for n in range(len(k_list)):\n",
    "                k_val=psi_prime_list[n][0]\n",
    "                \n",
    "                integrand_full=prefac*f_ISW[ell_count][n]*func(k_val*etap)*sp.eval_legendre(ell,np.cos(ang))*sp.spherical_jn(ell,k_val*(tau_0-eta_HS))*(2*ell+1)/k_val\n",
    "                sum_over_k.append(integrand_full)\n",
    "            integrand_list.append(np.sum(sum_over_k[0:len(sum_over_k)-1]*k_diff_list))\n",
    "            ell_count +=1\n",
    "        # print('the SW amplitude is',np.sum(integrand_list))\n",
    "        ISW_angle_temp.append(np.sum(integrand_list))\n",
    "        \n",
    "    ISW_angle_arr_n = np.vstack((ISW_angle_arr_n, ISW_angle_temp))"
   ]
  },
  {
   "cell_type": "code",
   "execution_count": 45,
   "metadata": {},
   "outputs": [
    {
     "name": "stdout",
     "output_type": "stream",
     "text": [
      "the ISW amplitude is 5.611001349298974\n"
     ]
    }
   ],
   "source": [
    "# the full computation of ISW, with new tau_rec dependence, single etap and single eta_HS\n",
    "eta_HS = tau_rec\n",
    "\n",
    "etap=160\n",
    "integrand_list=[]\n",
    "for ell in np.arange(20,600):\n",
    "    sum_over_k=[]\n",
    "    for n in range(len(k_list)): # loops over all k values for each ell\n",
    "        k_val=psi_prime_list[n][0] # first value gives the k\n",
    "        integrand_time=exp_kappa_func(tau_list)*(psi_prime_list[n][1:len(tau_list)+1]+phi_prime_list[n][1:len(tau_list)+1])*sp.spherical_jn(ell,k_val*(tau_0-tau_list)) # the integrand for time integral\n",
    "        integral_time=np.sum(integrand_time[0:len(integrand_time)-1]*tau_diff_list) # time integral done using Riemann sum\n",
    "        \n",
    "        integrand_full=prefac*integral_time*func(k_val*etap)*sp.spherical_jn(ell,k_val*(tau_0-tau_rec))*(2*ell+1)/k_val # the integrand for k integral\n",
    "        sum_over_k.append(integrand_full) \n",
    "    integrand_list.append(np.sum(sum_over_k[0:len(sum_over_k)-1]*k_diff_list)) # k integral done using Riemann sum\n",
    "\n",
    "print('the ISW amplitude is',np.sum(integrand_list))  # finally summing over ell  "
   ]
  },
  {
   "cell_type": "code",
   "execution_count": 11,
   "metadata": {},
   "outputs": [
    {
     "name": "stdout",
     "output_type": "stream",
     "text": [
      "the SW amplitude is 28.663737220837334\n"
     ]
    }
   ],
   "source": [
    "# the full computation of SW piece, code structure same as ISW piece, new tau_rec dependence, single etap\n",
    "etap=160\n",
    "integrand_list=[]\n",
    "for ell in np.arange(20,2000):\n",
    "    sum_over_k=[]\n",
    "    for n in range(len(k_list)):\n",
    "        k_val=psi_prime_list[n][0]\n",
    "        integrand_time=g_func(tau_list)*(psi_list[n][1:len(tau_list)+1]+theta_list[n][1:len(tau_list)+1])*sp.spherical_jn(ell,k_val*(tau_0-tau_list))\n",
    "        integral_time=np.sum(integrand_time[0:len(integrand_time)-1]*tau_diff_list)\n",
    "        \n",
    "        integrand_full=prefac*integral_time*func(k_val*etap)*sp.spherical_jn(ell,k_val*(tau_0-tau_rec))*(2*ell+1)/k_val\n",
    "        sum_over_k.append(integrand_full)\n",
    "    integrand_list.append(np.sum(sum_over_k[0:len(sum_over_k)-1]*k_diff_list))\n",
    "\n",
    "print('the SW amplitude is',np.sum(integrand_list))    "
   ]
  },
  {
   "cell_type": "code",
   "execution_count": null,
   "metadata": {},
   "outputs": [],
   "source": []
  }
 ],
 "metadata": {
  "kernelspec": {
   "display_name": "Python 3 (ipykernel)",
   "language": "python",
   "name": "python3"
  },
  "language_info": {
   "codemirror_mode": {
    "name": "ipython",
    "version": 3
   },
   "file_extension": ".py",
   "mimetype": "text/x-python",
   "name": "python",
   "nbconvert_exporter": "python",
   "pygments_lexer": "ipython3",
   "version": "3.9.7"
  }
 },
 "nbformat": 4,
 "nbformat_minor": 4
}
