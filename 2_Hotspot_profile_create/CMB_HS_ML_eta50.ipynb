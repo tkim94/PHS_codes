{
 "cells": [
  {
   "cell_type": "code",
   "execution_count": 1,
   "metadata": {},
   "outputs": [],
   "source": [
    "## make plots inline - for ipython notebooks\n",
    "%matplotlib inline\n",
    "\n",
    "from numpy import linspace, sqrt, array, pi, cos, sin, dot, exp, sinh, log, log10, cosh, sinh\n",
    "from numpy import atleast_1d, zeros, where, zeros_like\n",
    "import numpy as np\n",
    "from scipy.misc import derivative\n",
    "import matplotlib.pyplot as plt\n",
    "from pylab import loadtxt\n",
    "from numpy.linalg import norm as norm\n",
    "from matplotlib import rc, rcParams\n",
    "import matplotlib.cm as cm\n",
    "from scipy import interpolate\n",
    "import time\n",
    "import math\n",
    "import scipy.special as sp\n",
    "from scipy import integrate\n",
    "import matplotlib.ticker as ticker\n",
    "\n",
    "import matplotlib\n",
    "from classy import Class\n",
    "from scipy.optimize import fsolve\n",
    "from scipy.interpolate import interp1d\n",
    "# Make use of TeX\\ufeff\n",
    "# rc('text',usetex=True)\n",
    "# Change all fonts to 'Computer Modern'\n",
    "rc('font',**{'size':16, 'family':'serif','serif':['Times New Roman']})\n",
    "\n",
    "\n",
    "# Change all fonts to 'Computer Modern'\n",
    "rc('font',**{'size':16, 'family':'serif','serif':['Times New Roman']})\n",
    "rc('xtick.major', size=5, pad=10)\n",
    "rc('xtick', labelsize=16)\n",
    "rc('ytick.major', size=5, pad=10)\n",
    "rc('ytick', labelsize=16)\n",
    "\n",
    "plt.rcParams['figure.dpi'] = 125\n",
    "plt.rcParams['savefig.dpi'] = 300\n",
    "\n",
    "pcolors=['SteelBlue','Indigo','FireBrick','Coral','Tan','OliveDrab']"
   ]
  },
  {
   "cell_type": "code",
   "execution_count": 2,
   "metadata": {},
   "outputs": [],
   "source": [
    "# running CLASS once to get various background quantities\n",
    "k = 1.e-4  # 1/Mpc\n",
    "common_settings = {'output':'mPk',\n",
    "                   'k_output_values':k,\n",
    "                   'h':0.67810,\n",
    "                   'omega_b':0.02238280,\n",
    "                   'omega_cdm':0.1201075,\n",
    "                   'A_s':2.100549e-09 ,\n",
    "                   'n_s':0.9660499,\n",
    "                   'tau_reio':0.05430842,\n",
    "                   'YHe':0.2454,\n",
    "                   'compute damping scale':'yes',\n",
    "                   'gauge':'newtonian'}  \n",
    "\n",
    "M = Class()\n",
    "M.set(common_settings)\n",
    "M.compute()\n",
    "\n",
    "derived = M.get_current_derived_parameters(['tau_rec','conformal_age','z_rec'])\n",
    "thermo = M.get_thermodynamics()\n",
    "\n",
    "z_rec = derived['z_rec']\n",
    "tau_rec=derived['tau_rec']\n",
    "tau_0=derived['conformal_age']\n",
    "tau_0_minus_tau_rec_Mpc = (tau_0-tau_rec)\n",
    "tau_reio=4255.316282\n",
    "\n",
    "exp_kappa=thermo['exp(-kappa)']\n",
    "tau = thermo['conf. time [Mpc]']\n",
    "g = thermo['g [Mpc^-1]']\n",
    "\n",
    "exp_kappa_func=interpolate.interp1d(tau,exp_kappa,kind='cubic')\n",
    "g_func=interpolate.interp1d(tau,g,kind='cubic')"
   ]
  },
  {
   "cell_type": "code",
   "execution_count": 3,
   "metadata": {},
   "outputs": [],
   "source": [
    "k_list=np.linspace(1.e-4,5.e-1,300) # change based on what k-space resolution you need, max=1000\n",
    "\n",
    "#np.linspace(1.e-4,1.e-1,1000)\n",
    "tau_list1=np.linspace(200,tau_rec,100) # change based on what tau-space resolution you need, max=100\n",
    "tau_list2=np.linspace(tau_rec+1,1.e+3,300) # change based on what tau-space resolution you need, max=700\n",
    "tau_list=np.concatenate((tau_list1,tau_list2))\n",
    "\n",
    "tau_diff_list=tau_list[1:len(tau_list)]-tau_list[0:len(tau_list)-1] # time difference array needed to compute the Riemann sum"
   ]
  },
  {
   "cell_type": "code",
   "execution_count": 4,
   "metadata": {},
   "outputs": [],
   "source": [
    "# running CLASS for each k and storing phi, psi, theta etc. outputs in arrays\n",
    "\n",
    "phi_list=[]\n",
    "psi_list=[]\n",
    "theta_list=[]\n",
    "\n",
    "phi_prime_list=[]\n",
    "psi_prime_list=[]\n",
    "\n",
    "for k in k_list:\n",
    "    M.empty()\n",
    "    common_settings = {'output':'mPk',\n",
    "                   'k_output_values':k,\n",
    "                   'h':0.67810,\n",
    "                   'omega_b':0.02238280,\n",
    "                   'omega_cdm':0.1201075,\n",
    "                   'A_s':2.100549e-09 ,\n",
    "                   'n_s':0.9660499,\n",
    "                   'tau_reio':0.05430842,\n",
    "                   'YHe':0.2454,\n",
    "                   'compute damping scale':'yes', \n",
    "                   'gauge':'newtonian'} \n",
    "    M.set(common_settings)\n",
    "    M.compute()\n",
    "    all_k = M.get_perturbations()  \n",
    "    one_k = all_k['scalar'][0]      \n",
    "    tau_pert = one_k['tau [Mpc]']\n",
    "    Theta0 = 0.25*one_k['delta_g']\n",
    "    phi = one_k['phi']\n",
    "    psi = one_k['psi']\n",
    "    theta_b = one_k['theta_b']\n",
    "    a = one_k['a']\n",
    "    phi_func=interpolate.interp1d(tau_pert,phi,kind='cubic')\n",
    "    psi_func=interpolate.interp1d(tau_pert,psi,kind='cubic')\n",
    "    theta0_func=interpolate.interp1d(tau_pert,Theta0,kind='cubic')   \n",
    "    \n",
    "    phi_list.append(np.append(k,phi_func(tau_list))) # first index is the k value\n",
    "    psi_list.append(np.append(k,psi_func(tau_list)))\n",
    "    theta_list.append(np.append(k,theta0_func(tau_list)))    \n",
    "    phi_prime_list.append(np.append(k,derivative(phi_func,tau_list,dx=0.1)))\n",
    "    psi_prime_list.append(np.append(k,derivative(psi_func,tau_list,dx=0.1)))\n",
    "    "
   ]
  },
  {
   "cell_type": "code",
   "execution_count": 5,
   "metadata": {},
   "outputs": [
    {
     "data": {
      "text/plain": [
       "0.0"
      ]
     },
     "execution_count": 5,
     "metadata": {},
     "output_type": "execute_result"
    }
   ],
   "source": [
    "## 99th entry gives tau_rec\n",
    "tau_list[99]-tau_rec"
   ]
  },
  {
   "cell_type": "code",
   "execution_count": 6,
   "metadata": {},
   "outputs": [],
   "source": [
    "tau_diff_list=tau_list[1:len(tau_list)]-tau_list[0:len(tau_list)-1] # time difference array needed to compute the Riemann sum\n",
    "k_diff_list=k_list[1:len(k_list)]-k_list[0:len(k_list)-1] # k difference array needed to compute Riemann sum\n",
    "\n",
    "def func(x): # defines the curvature perturbation in momentum space\n",
    "    return sp.sici(x)[0]-np.sin(x) #sici returns {si(x), ci(x)} as tuples\n",
    "\n",
    "phidot=59**2\n",
    "g=1\n",
    "prefac=-g/phidot*(4*np.pi)/(2*np.pi)**3*2.7*1.e+6"
   ]
  },
  {
   "cell_type": "markdown",
   "metadata": {},
   "source": [
    "### ISW Transfer function, need to evaluate only once"
   ]
  },
  {
   "cell_type": "code",
   "execution_count": 7,
   "metadata": {},
   "outputs": [],
   "source": [
    "# ISW transfer function, f_ISW(k,l) in the draft\n",
    "\n",
    "f_ISW = np.zeros_like(k_list)\n",
    "\n",
    "for ell in np.arange(1,600):\n",
    "    sum_over_k = []\n",
    "    for n in range(len(k_list)):\n",
    "        k_val=psi_prime_list[n][0] # first value gives the k\n",
    "        integrand_time=exp_kappa_func(tau_list)*(psi_prime_list[n][1:len(tau_list)+1]+phi_prime_list[n][1:len(tau_list)+1])*sp.spherical_jn(ell,k_val*(tau_0-tau_list)) # the integrand for time integral\n",
    "        integral_time=np.sum(integrand_time[0:len(integrand_time)-1]*tau_diff_list) # time integral done using Riemann sum\n",
    "        sum_over_k.append(integral_time)\n",
    "    f_ISW = np.vstack((f_ISW, sum_over_k))\n",
    "        "
   ]
  },
  {
   "cell_type": "markdown",
   "metadata": {},
   "source": [
    "### SW Transfer function, need to evaluate only once"
   ]
  },
  {
   "cell_type": "code",
   "execution_count": 8,
   "metadata": {},
   "outputs": [],
   "source": [
    "# SW transfer function, f_SW(k,l) in the draft\n",
    "\n",
    "f_SW = np.zeros_like(k_list)\n",
    "\n",
    "for ell in np.arange(1, 2000):\n",
    "    sum_over_k_SW = [] \n",
    "    for n in range(len(k_list)):\n",
    "        k_val=psi_prime_list[n][0] # first value gives the k\n",
    "        integrand_time_SW = (psi_list[n][99]+theta_list[n][99])*sp.spherical_jn(ell,k_val*(tau_0-tau_rec)) ## 99 implies evaluation at tau_rec\n",
    "        sum_over_k_SW.append(integrand_time_SW)\n",
    "    f_SW = np.vstack((f_SW, sum_over_k_SW))\n"
   ]
  },
  {
   "cell_type": "markdown",
   "metadata": {},
   "source": [
    "### ISW for single eta_HS"
   ]
  },
  {
   "cell_type": "code",
   "execution_count": 9,
   "metadata": {},
   "outputs": [
    {
     "name": "stdout",
     "output_type": "stream",
     "text": [
      "the ISW amplitude is 0.3516140545755999\n"
     ]
    }
   ],
   "source": [
    "# the full computation of ISW, with new tau_rec dependence, single etap and single eta_HS\n",
    "eta_HS = tau_rec\n",
    "\n",
    "etap=50\n",
    "\n",
    "\n",
    "integrand_list=[]\n",
    "ell_count=1\n",
    "for ell in np.arange(1,600):\n",
    "    sum_over_k=[]\n",
    "    for n in range(len(k_list)): # loops over all k values for each ell\n",
    "        k_val=psi_prime_list[n][0] # first value gives the k\n",
    "        integrand_full=prefac*f_ISW[ell_count][n]*func(k_val*etap)*sp.spherical_jn(ell,k_val*(tau_0-eta_HS))*(2*ell+1)/k_val # the integrand for k integral\n",
    "        sum_over_k.append(integrand_full) \n",
    "    integrand_list.append(np.sum(sum_over_k[0:len(sum_over_k)-1]*k_diff_list)) # k integral done using Riemann sum\n",
    "    ell_count += 1\n",
    "\n",
    "print('the ISW amplitude is',np.sum(integrand_list))  # finally summing over ell  "
   ]
  },
  {
   "cell_type": "markdown",
   "metadata": {},
   "source": [
    "### SW for single eta_HS"
   ]
  },
  {
   "cell_type": "code",
   "execution_count": 10,
   "metadata": {},
   "outputs": [
    {
     "name": "stdout",
     "output_type": "stream",
     "text": [
      "the SW amplitude is 5.156139133009607\n"
     ]
    }
   ],
   "source": [
    "# the full computation of SW piece, code structure same as ISW piece, new tau_rec dependence, single etap\n",
    "eta_HS = tau_rec\n",
    "\n",
    "etap=50\n",
    "\n",
    "\n",
    "integrand_list=[]\n",
    "ell_count=1\n",
    "for ell in np.arange(1,2000):\n",
    "    sum_over_k=[]\n",
    "    for n in range(len(k_list)):\n",
    "        k_val=psi_prime_list[n][0]        \n",
    "        integrand_full=prefac*f_SW[ell_count][n]*func(k_val*etap)*sp.spherical_jn(ell,k_val*(tau_0-eta_HS))*(2*ell+1)/k_val\n",
    "        sum_over_k.append(integrand_full)\n",
    "    integrand_list.append(np.sum(sum_over_k[0:len(sum_over_k)-1]*k_diff_list))\n",
    "    ell_count +=1\n",
    "\n",
    "print('the SW amplitude is',np.sum(integrand_list))"
   ]
  },
  {
   "cell_type": "markdown",
   "metadata": {},
   "source": [
    "### Central temperature scan for different eta_HS, ISW piece"
   ]
  },
  {
   "cell_type": "code",
   "execution_count": 11,
   "metadata": {},
   "outputs": [
    {
     "data": {
      "text/plain": [
       "280.62745874925827"
      ]
     },
     "execution_count": 11,
     "metadata": {},
     "output_type": "execute_result"
    }
   ],
   "source": [
    "tau_rec"
   ]
  },
  {
   "cell_type": "code",
   "execution_count": 12,
   "metadata": {},
   "outputs": [
    {
     "name": "stdout",
     "output_type": "stream",
     "text": [
      "the ISW amplitude is 0.1545356606494374\n",
      "the ISW amplitude is 0.15857953842009215\n",
      "the ISW amplitude is 0.16281549776378537\n",
      "the ISW amplitude is 0.1672820709508538\n",
      "the ISW amplitude is 0.17201610664702002\n",
      "the ISW amplitude is 0.1770523040238694\n",
      "the ISW amplitude is 0.1824228191549087\n",
      "the ISW amplitude is 0.1881568486269825\n",
      "the ISW amplitude is 0.19428012804077846\n",
      "the ISW amplitude is 0.2008143621597564\n",
      "the ISW amplitude is 0.20777666123701788\n",
      "the ISW amplitude is 0.21517904933832205\n",
      "the ISW amplitude is 0.22302805138582643\n",
      "the ISW amplitude is 0.231324317659717\n",
      "the ISW amplitude is 0.24006225739322928\n",
      "the ISW amplitude is 0.2492297176596244\n",
      "the ISW amplitude is 0.2588077981361865\n",
      "the ISW amplitude is 0.26877087860093374\n",
      "the ISW amplitude is 0.2790868568997893\n",
      "the ISW amplitude is 0.289717517854569\n",
      "the ISW amplitude is 0.30061895290953367\n",
      "the ISW amplitude is 0.3117420380431941\n",
      "the ISW amplitude is 0.3230330822119827\n",
      "the ISW amplitude is 0.3344347791868331\n",
      "the ISW amplitude is 0.3458874878554288\n",
      "the ISW amplitude is 0.3573306893521272\n",
      "the ISW amplitude is 0.36870434977507094\n",
      "the ISW amplitude is 0.3799499512874105\n",
      "the ISW amplitude is 0.3910111302892735\n",
      "the ISW amplitude is 0.4018340627521483\n",
      "the ISW amplitude is 0.41236782873352673\n",
      "the ISW amplitude is 0.42256491762880605\n",
      "the ISW amplitude is 0.43238186816273755\n",
      "the ISW amplitude is 0.441779900573925\n",
      "the ISW amplitude is 0.45072538370456616\n",
      "the ISW amplitude is 0.45919007616290297\n",
      "the ISW amplitude is 0.46715119622072\n",
      "the ISW amplitude is 0.47459141764018914\n",
      "the ISW amplitude is 0.4814988392630159\n",
      "the ISW amplitude is 0.4878668948915905\n",
      "the ISW amplitude is 0.4936941355771791\n",
      "the ISW amplitude is 0.49898385681302426\n",
      "the ISW amplitude is 0.5037436157690139\n",
      "the ISW amplitude is 0.5079847193319234\n",
      "the ISW amplitude is 0.5117217309153013\n",
      "the ISW amplitude is 0.5149719765406944\n",
      "the ISW amplitude is 0.5177549949676028\n",
      "the ISW amplitude is 0.5200919102761825\n",
      "the ISW amplitude is 0.5220047821994137\n",
      "the ISW amplitude is 0.5235160420115288\n"
     ]
    }
   ],
   "source": [
    "etap=50\n",
    "\n",
    "\n",
    "ISW_central_list=[]\n",
    "\n",
    "for eta_HS in np.linspace(tau_rec-etap, tau_rec+etap, 50):\n",
    "    integrand_list=[]\n",
    "    ell_count=1\n",
    "    for ell in np.arange(1,600):\n",
    "        sum_over_k=[]\n",
    "        for n in range(len(k_list)): # loops over all k values for each ell\n",
    "            k_val=psi_prime_list[n][0] # first value gives the k\n",
    "            integrand_full=prefac*f_ISW[ell_count][n]*func(k_val*etap)*sp.spherical_jn(ell,k_val*(tau_0-eta_HS))*(2*ell+1)/k_val # the integrand for k integral\n",
    "            sum_over_k.append(integrand_full) \n",
    "        integrand_list.append(np.sum(sum_over_k[0:len(sum_over_k)-1]*k_diff_list)) # k integral done using Riemann sum\n",
    "        ell_count += 1\n",
    "    print('the ISW amplitude is',np.sum(integrand_list))  # finally summing over ell  \n",
    "    ISW_central_list.append(np.sum(integrand_list))"
   ]
  },
  {
   "cell_type": "markdown",
   "metadata": {},
   "source": [
    "### Central temperature scan for different eta_HS, SW piece"
   ]
  },
  {
   "cell_type": "code",
   "execution_count": 13,
   "metadata": {},
   "outputs": [
    {
     "name": "stdout",
     "output_type": "stream",
     "text": [
      "the SW amplitude is 0.27633680470530164\n",
      "the SW amplitude is 0.41611391142802967\n",
      "the SW amplitude is 0.5728393297549867\n",
      "the SW amplitude is 0.746003627390279\n",
      "the SW amplitude is 0.9336900968562989\n",
      "the SW amplitude is 1.133446650582263\n",
      "the SW amplitude is 1.3431818115590373\n",
      "the SW amplitude is 1.5615494156582297\n",
      "the SW amplitude is 1.7877132360044974\n",
      "the SW amplitude is 2.0208455181210843\n",
      "the SW amplitude is 2.2598427443927873\n",
      "the SW amplitude is 2.503454839139615\n",
      "the SW amplitude is 2.750593078730143\n",
      "the SW amplitude is 3.0003988957142558\n",
      "the SW amplitude is 3.2518864528004277\n",
      "the SW amplitude is 3.5034025572377994\n",
      "the SW amplitude is 3.7523662811197873\n",
      "the SW amplitude is 3.9955186931081252\n",
      "the SW amplitude is 4.229403206463342\n",
      "the SW amplitude is 4.450475136882041\n",
      "the SW amplitude is 4.654465791808105\n",
      "the SW amplitude is 4.835310017160772\n",
      "the SW amplitude is 4.984559001189932\n",
      "the SW amplitude is 5.092179969976157\n",
      "the SW amplitude is 5.148871073204155\n",
      "the SW amplitude is 5.148971006509896\n",
      "the SW amplitude is 5.09247349874397\n",
      "the SW amplitude is 4.985030075083734\n",
      "the SW amplitude is 4.835939370794777\n",
      "the SW amplitude is 4.6552373927998545\n",
      "the SW amplitude is 4.451379190689314\n",
      "the SW amplitude is 4.230435122391081\n",
      "the SW amplitude is 3.9966760788816282\n",
      "the SW amplitude is 3.7536466777310267\n",
      "the SW amplitude is 3.504803084927136\n",
      "the SW amplitude is 3.253404406996389\n",
      "the SW amplitude is 3.0020314882203287\n",
      "the SW amplitude is 2.7523355182523774\n",
      "the SW amplitude is 2.5052976466573167\n",
      "the SW amplitude is 2.2617699063212306\n",
      "the SW amplitude is 2.0228341256611975\n",
      "the SW amplitude is 1.7897336105170938\n",
      "the SW amplitude is 1.5635640724312716\n",
      "the SW amplitude is 1.345142783008065\n",
      "the SW amplitude is 1.135292759244678\n",
      "the SW amplitude is 0.9353468032874501\n",
      "the SW amplitude is 0.7473868263432659\n",
      "the SW amplitude is 0.5738615836968459\n",
      "the SW amplitude is 0.4166892872215562\n",
      "the SW amplitude is 0.2763807275336432\n"
     ]
    }
   ],
   "source": [
    "etap=50\n",
    "\n",
    "SW_central_list=[]\n",
    "\n",
    "for eta_HS in np.linspace(tau_rec-etap, tau_rec+etap, 50):\n",
    "    integrand_list=[]\n",
    "    ell_count=1\n",
    "    for ell in np.arange(1,2000):\n",
    "        sum_over_k=[]\n",
    "        for n in range(len(k_list)):\n",
    "            k_val=psi_prime_list[n][0]        \n",
    "            integrand_full=prefac*f_SW[ell_count][n]*func(k_val*etap)*sp.spherical_jn(ell,k_val*(tau_0-eta_HS))*(2*ell+1)/k_val\n",
    "            sum_over_k.append(integrand_full)\n",
    "        integrand_list.append(np.sum(sum_over_k[0:len(sum_over_k)-1]*k_diff_list))\n",
    "        ell_count +=1\n",
    "    print('the SW amplitude is',np.sum(integrand_list))\n",
    "    SW_central_list.append(np.sum(integrand_list))"
   ]
  },
  {
   "cell_type": "code",
   "execution_count": 14,
   "metadata": {},
   "outputs": [
    {
     "name": "stderr",
     "output_type": "stream",
     "text": [
      "findfont: Font family ['serif'] not found. Falling back to DejaVu Sans.\n",
      "findfont: Generic family 'serif' not found because none of the following families were found: Times New Roman\n"
     ]
    },
    {
     "data": {
      "image/png": "[encoded data removed]",
      "text/plain": [
       "<Figure size 750x500 with 1 Axes>"
      ]
     },
     "metadata": {
      "needs_background": "light"
     },
     "output_type": "display_data"
    }
   ],
   "source": [
    "plt.plot(np.linspace(tau_rec-etap, tau_rec+etap, 50), ISW_central_list, label='ISW')\n",
    "plt.plot(np.linspace(tau_rec-etap, tau_rec+etap, 50), SW_central_list, label='SW')\n",
    "plt.plot(np.linspace(tau_rec-etap, tau_rec+etap, 50), np.array(SW_central_list)+np.array(ISW_central_list), label='Total')\n",
    "plt.xlabel('eta_HS')\n",
    "plt.ylabel('T_central')\n",
    "plt.legend()\n",
    "plt.axvline(x=tau_rec, color='gray')\n",
    "plt.tight_layout()\n",
    "plt.savefig('eta50_central_temp.pdf')"
   ]
  },
  {
   "cell_type": "code",
   "execution_count": 25,
   "metadata": {},
   "outputs": [
    {
     "data": {
      "text/plain": [
       "array([0.0001])"
      ]
     },
     "execution_count": 25,
     "metadata": {},
     "output_type": "execute_result"
    }
   ],
   "source": [
    "np.logspace(-4.0, -1.0, num=1)"
   ]
  },
  {
   "cell_type": "markdown",
   "metadata": {},
   "source": [
    "### Temperature angular profilescan for different \\eta_HS, SW piece"
   ]
  },
  {
   "cell_type": "code",
   "execution_count": 15,
   "metadata": {},
   "outputs": [
    {
     "name": "stdout",
     "output_type": "stream",
     "text": [
      "230.62745874925827\n",
      "232.66827507578887\n",
      "234.7090914023195\n",
      "236.7499077288501\n",
      "238.7907240553807\n",
      "240.83154038191134\n",
      "242.87235670844194\n",
      "244.91317303497254\n",
      "246.95398936150318\n",
      "248.99480568803378\n",
      "251.03562201456438\n",
      "253.076438341095\n",
      "255.11725466762562\n",
      "257.1580709941562\n",
      "259.1988873206868\n",
      "261.2397036472174\n",
      "263.2805199737481\n",
      "265.3213363002787\n",
      "267.3621526268093\n",
      "269.4029689533399\n",
      "271.4437852798705\n",
      "273.48460160640116\n",
      "275.52541793293176\n",
      "277.56623425946236\n",
      "279.60705058599297\n",
      "281.64786691252357\n",
      "283.68868323905417\n",
      "285.7294995655848\n",
      "287.77031589211543\n",
      "289.81113221864604\n",
      "291.85194854517664\n",
      "293.89276487170724\n",
      "295.93358119823785\n",
      "297.9743975247685\n",
      "300.0152138512991\n",
      "302.0560301778297\n",
      "304.0968465043603\n",
      "306.1376628308909\n",
      "308.1784791574215\n",
      "310.2192954839521\n",
      "312.2601118104827\n",
      "314.3009281370134\n",
      "316.341744463544\n",
      "318.3825607900746\n",
      "320.4233771166052\n",
      "322.46419344313585\n",
      "324.50500976966646\n",
      "326.54582609619706\n",
      "328.58664242272766\n",
      "330.62745874925827\n"
     ]
    }
   ],
   "source": [
    "etap=50\n",
    "\n",
    "eta_HS_arr = np.linspace(tau_rec-etap, tau_rec+etap, 50)\n",
    "ang_arr = np.logspace(-3.7, -0.7, num=100)\n",
    "\n",
    "SW_angle_arr=np.zeros_like(ang_arr)\n",
    "\n",
    "for eta_HS in eta_HS_arr:\n",
    "    print(eta_HS)\n",
    "    SW_angle_temp = [] \n",
    "    for ang in ang_arr:\n",
    "        \n",
    "        integrand_list=[]\n",
    "        ell_count=1\n",
    "        for ell in np.arange(1,2000): \n",
    "            sum_over_k=[]\n",
    "            for n in range(len(k_list)):\n",
    "                k_val=psi_prime_list[n][0]\n",
    "                \n",
    "                integrand_full=prefac*f_SW[ell_count][n]*func(k_val*etap)*sp.eval_legendre(ell,np.cos(ang))*sp.spherical_jn(ell,k_val*(tau_0-eta_HS))*(2*ell+1)/k_val\n",
    "                sum_over_k.append(integrand_full)\n",
    "            integrand_list.append(np.sum(sum_over_k[0:len(sum_over_k)-1]*k_diff_list))\n",
    "            ell_count +=1\n",
    "        # print('the SW amplitude is',np.sum(integrand_list))\n",
    "        SW_angle_temp.append(np.sum(integrand_list))\n",
    "        \n",
    "    SW_angle_arr = np.vstack((SW_angle_arr, SW_angle_temp))\n",
    "    np.savetxt('SW_stack_eta50.txt', SW_angle_arr)"
   ]
  },
  {
   "cell_type": "code",
   "execution_count": 16,
   "metadata": {},
   "outputs": [
    {
     "data": {
      "text/plain": [
       "[<matplotlib.lines.Line2D at 0x7f0505db3df0>]"
      ]
     },
     "execution_count": 16,
     "metadata": {},
     "output_type": "execute_result"
    },
    {
     "data": {
      "image/png": "[encoded data removed]",
      "text/plain": [
       "<Figure size 750x500 with 1 Axes>"
      ]
     },
     "metadata": {
      "needs_background": "light"
     },
     "output_type": "display_data"
    }
   ],
   "source": [
    "plt.plot(eta_HS_arr, SW_angle_arr.T[0][1:])"
   ]
  },
  {
   "cell_type": "code",
   "execution_count": 17,
   "metadata": {},
   "outputs": [
    {
     "data": {
      "text/plain": [
       "<matplotlib.legend.Legend at 0x7f0558656b50>"
      ]
     },
     "execution_count": 17,
     "metadata": {},
     "output_type": "execute_result"
    },
    {
     "data": {
      "image/png": "[encoded data removed]",
      "text/plain": [
       "<Figure size 750x500 with 1 Axes>"
      ]
     },
     "metadata": {
      "needs_background": "light"
     },
     "output_type": "display_data"
    }
   ],
   "source": [
    "plt.plot(ang_arr, SW_angle_arr[24], label='SW Contribution')\n",
    "#plt.xscale('log')\n",
    "plt.xlabel('Angle from the center of the hotspot')\n",
    "plt.ylabel('$\\delta T~[\\mu K]$')\n",
    "plt.legend()"
   ]
  },
  {
   "cell_type": "markdown",
   "metadata": {},
   "source": [
    "### Temperature angular profilescan for different \\eta_HS, ISW piece"
   ]
  },
  {
   "cell_type": "code",
   "execution_count": 18,
   "metadata": {},
   "outputs": [],
   "source": [
    "etap=50\n",
    "\n",
    "eta_HS_arr = np.linspace(tau_rec-etap, tau_rec+etap, 50)\n",
    "ang_arr = np.logspace(-3.7, -0.7, num=100)\n",
    "\n",
    "ISW_angle_arr=np.zeros_like(ang_arr)\n",
    "\n",
    "for eta_HS in eta_HS_arr:\n",
    "    ISW_angle_temp = [] \n",
    "    for ang in ang_arr:\n",
    "        \n",
    "        integrand_list=[]\n",
    "        ell_count=1\n",
    "        for ell in np.arange(1,600):\n",
    "            sum_over_k=[]\n",
    "            for n in range(len(k_list)):\n",
    "                k_val=psi_prime_list[n][0]\n",
    "                \n",
    "                integrand_full=prefac*f_ISW[ell_count][n]*func(k_val*etap)*sp.eval_legendre(ell,np.cos(ang))*sp.spherical_jn(ell,k_val*(tau_0-eta_HS))*(2*ell+1)/k_val\n",
    "                sum_over_k.append(integrand_full)\n",
    "            integrand_list.append(np.sum(sum_over_k[0:len(sum_over_k)-1]*k_diff_list))\n",
    "            ell_count +=1\n",
    "        # print('the SW amplitude is',np.sum(integrand_list))\n",
    "        ISW_angle_temp.append(np.sum(integrand_list))\n",
    "        \n",
    "    ISW_angle_arr = np.vstack((ISW_angle_arr, ISW_angle_temp))"
   ]
  },
  {
   "cell_type": "code",
   "execution_count": 21,
   "metadata": {},
   "outputs": [],
   "source": [
    "np.savetxt('ISW_stack_eta50.txt', ISW_angle_arr)"
   ]
  },
  {
   "cell_type": "code",
   "execution_count": 33,
   "metadata": {},
   "outputs": [],
   "source": [
    "ISW_angle_arr = np.loadtxt('../ISW_stack.txt')"
   ]
  },
  {
   "cell_type": "code",
   "execution_count": 31,
   "metadata": {},
   "outputs": [],
   "source": [
    "ISW_angle_arr = np.loadtxt('ISW_stack_eta100.txt')"
   ]
  },
  {
   "cell_type": "code",
   "execution_count": 34,
   "metadata": {},
   "outputs": [
    {
     "data": {
      "text/plain": [
       "<matplotlib.legend.Legend at 0x7f17bf3be370>"
      ]
     },
     "execution_count": 34,
     "metadata": {},
     "output_type": "execute_result"
    },
    {
     "data": {
      "image/png": "[encoded data removed]",
      "text/plain": [
       "<Figure size 750x500 with 1 Axes>"
      ]
     },
     "metadata": {
      "needs_background": "light"
     },
     "output_type": "display_data"
    }
   ],
   "source": [
    "ang_arr = np.logspace(-3.7, -0.7, num=100)\n",
    "plt.plot(ang_arr, ISW_angle_arr[24], label='ISW Contribution')\n",
    "#plt.xscale('log')\n",
    "plt.xlabel('Angle from the center of the hotspot')\n",
    "plt.ylabel('$\\delta T~[\\mu K]$')\n",
    "plt.legend()"
   ]
  },
  {
   "cell_type": "code",
   "execution_count": 28,
   "metadata": {},
   "outputs": [
    {
     "data": {
      "text/plain": [
       "277.3621526268093"
      ]
     },
     "execution_count": 28,
     "metadata": {},
     "output_type": "execute_result"
    }
   ],
   "source": [
    "eta_HS_arr[24]"
   ]
  },
  {
   "cell_type": "markdown",
   "metadata": {},
   "source": [
    "# Old"
   ]
  },
  {
   "cell_type": "code",
   "execution_count": 52,
   "metadata": {},
   "outputs": [],
   "source": [
    "etap=160\n",
    "eta_HS_arr = np.linspace(tau_rec-etap, tau_rec+etap, 5)\n",
    "ang_arr = np.linspace(0.07, 0.2, num=10)\n",
    "\n",
    "ISW_angle_arr_n=np.zeros_like(ang_arr)\n",
    "\n",
    "for eta_HS in eta_HS_arr:\n",
    "    ISW_angle_temp = [] \n",
    "    for ang in ang_arr:\n",
    "        \n",
    "        integrand_list=[]\n",
    "        ell_count=1\n",
    "        for ell in np.arange(1,600):\n",
    "            sum_over_k=[]\n",
    "            for n in range(len(k_list)):\n",
    "                k_val=psi_prime_list[n][0]\n",
    "                \n",
    "                integrand_full=prefac*f_ISW[ell_count][n]*func(k_val*etap)*sp.eval_legendre(ell,np.cos(ang))*sp.spherical_jn(ell,k_val*(tau_0-eta_HS))*(2*ell+1)/k_val\n",
    "                sum_over_k.append(integrand_full)\n",
    "            integrand_list.append(np.sum(sum_over_k[0:len(sum_over_k)-1]*k_diff_list))\n",
    "            ell_count +=1\n",
    "        # print('the SW amplitude is',np.sum(integrand_list))\n",
    "        ISW_angle_temp.append(np.sum(integrand_list))\n",
    "        \n",
    "    ISW_angle_arr_n = np.vstack((ISW_angle_arr_n, ISW_angle_temp))"
   ]
  },
  {
   "cell_type": "code",
   "execution_count": 45,
   "metadata": {},
   "outputs": [
    {
     "name": "stdout",
     "output_type": "stream",
     "text": [
      "the ISW amplitude is 5.611001349298974\n"
     ]
    }
   ],
   "source": [
    "# the full computation of ISW, with new tau_rec dependence, single etap and single eta_HS\n",
    "eta_HS = tau_rec\n",
    "\n",
    "etap=160\n",
    "integrand_list=[]\n",
    "for ell in np.arange(20,600):\n",
    "    sum_over_k=[]\n",
    "    for n in range(len(k_list)): # loops over all k values for each ell\n",
    "        k_val=psi_prime_list[n][0] # first value gives the k\n",
    "        integrand_time=exp_kappa_func(tau_list)*(psi_prime_list[n][1:len(tau_list)+1]+phi_prime_list[n][1:len(tau_list)+1])*sp.spherical_jn(ell,k_val*(tau_0-tau_list)) # the integrand for time integral\n",
    "        integral_time=np.sum(integrand_time[0:len(integrand_time)-1]*tau_diff_list) # time integral done using Riemann sum\n",
    "        \n",
    "        integrand_full=prefac*integral_time*func(k_val*etap)*sp.spherical_jn(ell,k_val*(tau_0-tau_rec))*(2*ell+1)/k_val # the integrand for k integral\n",
    "        sum_over_k.append(integrand_full) \n",
    "    integrand_list.append(np.sum(sum_over_k[0:len(sum_over_k)-1]*k_diff_list)) # k integral done using Riemann sum\n",
    "\n",
    "print('the ISW amplitude is',np.sum(integrand_list))  # finally summing over ell  "
   ]
  },
  {
   "cell_type": "code",
   "execution_count": 11,
   "metadata": {},
   "outputs": [
    {
     "name": "stdout",
     "output_type": "stream",
     "text": [
      "the SW amplitude is 28.663737220837334\n"
     ]
    }
   ],
   "source": [
    "# the full computation of SW piece, code structure same as ISW piece, new tau_rec dependence, single etap\n",
    "etap=160\n",
    "integrand_list=[]\n",
    "for ell in np.arange(20,2000):\n",
    "    sum_over_k=[]\n",
    "    for n in range(len(k_list)):\n",
    "        k_val=psi_prime_list[n][0]\n",
    "        integrand_time=g_func(tau_list)*(psi_list[n][1:len(tau_list)+1]+theta_list[n][1:len(tau_list)+1])*sp.spherical_jn(ell,k_val*(tau_0-tau_list))\n",
    "        integral_time=np.sum(integrand_time[0:len(integrand_time)-1]*tau_diff_list)\n",
    "        \n",
    "        integrand_full=prefac*integral_time*func(k_val*etap)*sp.spherical_jn(ell,k_val*(tau_0-tau_rec))*(2*ell+1)/k_val\n",
    "        sum_over_k.append(integrand_full)\n",
    "    integrand_list.append(np.sum(sum_over_k[0:len(sum_over_k)-1]*k_diff_list))\n",
    "\n",
    "print('the SW amplitude is',np.sum(integrand_list))    "
   ]
  },
  {
   "cell_type": "code",
   "execution_count": null,
   "metadata": {},
   "outputs": [],
   "source": []
  }
 ],
 "metadata": {
  "kernelspec": {
   "display_name": "Python 3 (ipykernel)",
   "language": "python",
   "name": "python3"
  },
  "language_info": {
   "codemirror_mode": {
    "name": "ipython",
    "version": 3
   },
   "file_extension": ".py",
   "mimetype": "text/x-python",
   "name": "python",
   "nbconvert_exporter": "python",
   "pygments_lexer": "ipython3",
   "version": "3.9.7"
  }
 },
 "nbformat": 4,
 "nbformat_minor": 4
}
