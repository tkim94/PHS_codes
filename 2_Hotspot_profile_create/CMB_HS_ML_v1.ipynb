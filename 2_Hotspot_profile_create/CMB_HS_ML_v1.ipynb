{
 "cells": [
  {
   "cell_type": "code",
   "execution_count": 1,
   "metadata": {},
   "outputs": [],
   "source": [
    "## make plots inline - for ipython notebooks\n",
    "%matplotlib inline\n",
    "\n",
    "from numpy import linspace, sqrt, array, pi, cos, sin, dot, exp, sinh, log, log10, cosh, sinh\n",
    "from numpy import atleast_1d, zeros, where, zeros_like\n",
    "import numpy as np\n",
    "from scipy.misc import derivative\n",
    "import matplotlib.pyplot as plt\n",
    "from pylab import loadtxt\n",
    "from numpy.linalg import norm as norm\n",
    "from matplotlib import rc, rcParams\n",
    "import matplotlib.cm as cm\n",
    "from scipy import interpolate\n",
    "import time\n",
    "import math\n",
    "import scipy.special as sp\n",
    "from scipy import integrate\n",
    "import matplotlib.ticker as ticker\n",
    "\n",
    "import matplotlib\n",
    "from classy import Class\n",
    "from scipy.optimize import fsolve\n",
    "from scipy.interpolate import interp1d\n",
    "# Make use of TeX\\ufeff\n",
    "# rc('text',usetex=True)\n",
    "# Change all fonts to 'Computer Modern'\n",
    "rc('font',**{'size':16, 'family':'serif','serif':['Times New Roman']})\n",
    "\n",
    "\n",
    "# Change all fonts to 'Computer Modern'\n",
    "rc('font',**{'size':16, 'family':'serif','serif':['Times New Roman']})\n",
    "rc('xtick.major', size=5, pad=10)\n",
    "rc('xtick', labelsize=16)\n",
    "rc('ytick.major', size=5, pad=10)\n",
    "rc('ytick', labelsize=16)\n",
    "\n",
    "plt.rcParams['figure.dpi'] = 125\n",
    "plt.rcParams['savefig.dpi'] = 300\n",
    "\n",
    "pcolors=['SteelBlue','Indigo','FireBrick','Coral','Tan','OliveDrab']"
   ]
  },
  {
   "cell_type": "code",
   "execution_count": 2,
   "metadata": {},
   "outputs": [],
   "source": [
    "# running CLASS once to get various background quantities\n",
    "k = 1.e-4  # 1/Mpc\n",
    "common_settings = {'output':'mPk',\n",
    "                   'k_output_values':k,\n",
    "                   'h':0.67810,\n",
    "                   'omega_b':0.02238280,\n",
    "                   'omega_cdm':0.1201075,\n",
    "                   'A_s':2.100549e-09 ,\n",
    "                   'n_s':0.9660499,\n",
    "                   'tau_reio':0.05430842,\n",
    "                   'YHe':0.2454,\n",
    "                   'compute damping scale':'yes',\n",
    "                   'gauge':'newtonian'}  \n",
    "\n",
    "M = Class()\n",
    "M.set(common_settings)\n",
    "M.compute()\n",
    "\n",
    "derived = M.get_current_derived_parameters(['tau_rec','conformal_age','z_rec'])\n",
    "thermo = M.get_thermodynamics()\n",
    "\n",
    "z_rec = derived['z_rec']\n",
    "tau_rec=derived['tau_rec']\n",
    "tau_0=derived['conformal_age']\n",
    "tau_0_minus_tau_rec_Mpc = (tau_0-tau_rec)\n",
    "tau_reio=4255.316282\n",
    "\n",
    "exp_kappa=thermo['exp(-kappa)']\n",
    "tau = thermo['conf. time [Mpc]']\n",
    "g = thermo['g [Mpc^-1]']\n",
    "\n",
    "exp_kappa_func=interpolate.interp1d(tau,exp_kappa,kind='cubic')\n",
    "g_func=interpolate.interp1d(tau,g,kind='cubic')"
   ]
  },
  {
   "cell_type": "code",
   "execution_count": 3,
   "metadata": {},
   "outputs": [],
   "source": [
    "k_list=np.linspace(1.e-4,5.e-1,300) # change based on what k-space resolution you need, max=1000\n",
    "\n",
    "#np.linspace(1.e-4,1.e-1,1000)\n",
    "tau_list1=np.linspace(200,tau_rec,100) # change based on what tau-space resolution you need, max=100\n",
    "tau_list2=np.linspace(tau_rec+1,1.e+3,300) # change based on what tau-space resolution you need, max=700\n",
    "tau_list=np.concatenate((tau_list1,tau_list2))\n",
    "\n",
    "tau_diff_list=tau_list[1:len(tau_list)]-tau_list[0:len(tau_list)-1] # time difference array needed to compute the Riemann sum"
   ]
  },
  {
   "cell_type": "code",
   "execution_count": 4,
   "metadata": {},
   "outputs": [
    {
     "ename": "KeyboardInterrupt",
     "evalue": "",
     "output_type": "error",
     "traceback": [
      "\u001b[0;31m---------------------------------------------------------------------------\u001b[0m",
      "\u001b[0;31mKeyboardInterrupt\u001b[0m                         Traceback (most recent call last)",
      "\u001b[0;32m/tmp/ipykernel_348297/2777565644.py\u001b[0m in \u001b[0;36m<module>\u001b[0;34m\u001b[0m\n\u001b[1;32m     22\u001b[0m                    'gauge':'newtonian'} \n\u001b[1;32m     23\u001b[0m     \u001b[0mM\u001b[0m\u001b[0;34m.\u001b[0m\u001b[0mset\u001b[0m\u001b[0;34m(\u001b[0m\u001b[0mcommon_settings\u001b[0m\u001b[0;34m)\u001b[0m\u001b[0;34m\u001b[0m\u001b[0;34m\u001b[0m\u001b[0m\n\u001b[0;32m---> 24\u001b[0;31m     \u001b[0mM\u001b[0m\u001b[0;34m.\u001b[0m\u001b[0mcompute\u001b[0m\u001b[0;34m(\u001b[0m\u001b[0;34m)\u001b[0m\u001b[0;34m\u001b[0m\u001b[0;34m\u001b[0m\u001b[0m\n\u001b[0m\u001b[1;32m     25\u001b[0m     \u001b[0mall_k\u001b[0m \u001b[0;34m=\u001b[0m \u001b[0mM\u001b[0m\u001b[0;34m.\u001b[0m\u001b[0mget_perturbations\u001b[0m\u001b[0;34m(\u001b[0m\u001b[0;34m)\u001b[0m\u001b[0;34m\u001b[0m\u001b[0;34m\u001b[0m\u001b[0m\n\u001b[1;32m     26\u001b[0m     \u001b[0mone_k\u001b[0m \u001b[0;34m=\u001b[0m \u001b[0mall_k\u001b[0m\u001b[0;34m[\u001b[0m\u001b[0;34m'scalar'\u001b[0m\u001b[0;34m]\u001b[0m\u001b[0;34m[\u001b[0m\u001b[0;36m0\u001b[0m\u001b[0;34m]\u001b[0m\u001b[0;34m\u001b[0m\u001b[0;34m\u001b[0m\u001b[0m\n",
      "\u001b[0;31mKeyboardInterrupt\u001b[0m: "
     ]
    }
   ],
   "source": [
    "# running CLASS for each k and storing phi, psi, theta etc. outputs in arrays\n",
    "\n",
    "phi_list=[]\n",
    "psi_list=[]\n",
    "theta_list=[]\n",
    "\n",
    "phi_prime_list=[]\n",
    "psi_prime_list=[]\n",
    "\n",
    "for k in k_list:\n",
    "    M.empty()\n",
    "    common_settings = {'output':'mPk',\n",
    "                   'k_output_values':k,\n",
    "                   'h':0.67810,\n",
    "                   'omega_b':0.02238280,\n",
    "                   'omega_cdm':0.1201075,\n",
    "                   'A_s':2.100549e-09 ,\n",
    "                   'n_s':0.9660499,\n",
    "                   'tau_reio':0.05430842,\n",
    "                   'YHe':0.2454,\n",
    "                   'compute damping scale':'yes', \n",
    "                   'gauge':'newtonian'} \n",
    "    M.set(common_settings)\n",
    "    M.compute()\n",
    "    all_k = M.get_perturbations()  \n",
    "    one_k = all_k['scalar'][0]      \n",
    "    tau_pert = one_k['tau [Mpc]']\n",
    "    Theta0 = 0.25*one_k['delta_g']\n",
    "    phi = one_k['phi']\n",
    "    psi = one_k['psi']\n",
    "    theta_b = one_k['theta_b']\n",
    "    a = one_k['a']\n",
    "    phi_func=interpolate.interp1d(tau_pert,phi,kind='cubic')\n",
    "    psi_func=interpolate.interp1d(tau_pert,psi,kind='cubic')\n",
    "    theta0_func=interpolate.interp1d(tau_pert,Theta0,kind='cubic')   \n",
    "    \n",
    "    phi_list.append(np.append(k,phi_func(tau_list))) # first index is the k value\n",
    "    psi_list.append(np.append(k,psi_func(tau_list)))\n",
    "    theta_list.append(np.append(k,theta0_func(tau_list)))    \n",
    "    phi_prime_list.append(np.append(k,derivative(phi_func,tau_list,dx=0.1)))\n",
    "    psi_prime_list.append(np.append(k,derivative(psi_func,tau_list,dx=0.1)))\n",
    "    "
   ]
  },
  {
   "cell_type": "code",
   "execution_count": null,
   "metadata": {},
   "outputs": [],
   "source": [
    "## 99th entry gives tau_rec\n",
    "tau_list[99]-tau_rec"
   ]
  },
  {
   "cell_type": "code",
   "execution_count": null,
   "metadata": {},
   "outputs": [],
   "source": [
    "tau_diff_list=tau_list[1:len(tau_list)]-tau_list[0:len(tau_list)-1] # time difference array needed to compute the Riemann sum\n",
    "k_diff_list=k_list[1:len(k_list)]-k_list[0:len(k_list)-1] # k difference array needed to compute Riemann sum\n",
    "\n",
    "def func(x): # defines the curvature perturbation in momentum space\n",
    "    return sp.sici(x)[0]-np.sin(x) #sici returns {si(x), ci(x)} as tuples\n",
    "\n",
    "phidot=59**2\n",
    "g=1\n",
    "prefac=-g/phidot*(4*np.pi)/(2*np.pi)**3*2.7*1.e+6"
   ]
  },
  {
   "cell_type": "markdown",
   "metadata": {},
   "source": [
    "### ISW Transfer function, need to evaluate only once"
   ]
  },
  {
   "cell_type": "code",
   "execution_count": 7,
   "metadata": {},
   "outputs": [],
   "source": [
    "# ISW transfer function, f_ISW(k,l) in the draft\n",
    "\n",
    "f_ISW = np.zeros_like(k_list)\n",
    "\n",
    "for ell in np.arange(1,600):\n",
    "    sum_over_k = []\n",
    "    for n in range(len(k_list)):\n",
    "        k_val=psi_prime_list[n][0] # first value gives the k\n",
    "        integrand_time=exp_kappa_func(tau_list)*(psi_prime_list[n][1:len(tau_list)+1]+phi_prime_list[n][1:len(tau_list)+1])*sp.spherical_jn(ell,k_val*(tau_0-tau_list)) # the integrand for time integral\n",
    "        integral_time=np.sum(integrand_time[0:len(integrand_time)-1]*tau_diff_list) # time integral done using Riemann sum\n",
    "        sum_over_k.append(integral_time)\n",
    "    f_ISW = np.vstack((f_ISW, sum_over_k))\n",
    "        "
   ]
  },
  {
   "cell_type": "markdown",
   "metadata": {},
   "source": [
    "### SW Transfer function, need to evaluate only once"
   ]
  },
  {
   "cell_type": "code",
   "execution_count": 8,
   "metadata": {},
   "outputs": [],
   "source": [
    "# SW transfer function, f_SW(k,l) in the draft\n",
    "\n",
    "f_SW = np.zeros_like(k_list)\n",
    "\n",
    "for ell in np.arange(1, 2000):\n",
    "    sum_over_k_SW = [] \n",
    "    for n in range(len(k_list)):\n",
    "        k_val=psi_prime_list[n][0] # first value gives the k\n",
    "        integrand_time_SW = (psi_list[n][99]+theta_list[n][99])*sp.spherical_jn(ell,k_val*(tau_0-tau_rec)) ## 99 implies evaluation at tau_rec\n",
    "        sum_over_k_SW.append(integrand_time_SW)\n",
    "    f_SW = np.vstack((f_SW, sum_over_k_SW))\n"
   ]
  },
  {
   "cell_type": "markdown",
   "metadata": {},
   "source": [
    "### ISW for single eta_HS"
   ]
  },
  {
   "cell_type": "code",
   "execution_count": 9,
   "metadata": {},
   "outputs": [
    {
     "name": "stdout",
     "output_type": "stream",
     "text": [
      "the ISW amplitude is 5.567161160751347\n"
     ]
    }
   ],
   "source": [
    "# the full computation of ISW, with new tau_rec dependence, single etap and single eta_HS\n",
    "eta_HS = tau_rec\n",
    "\n",
    "etap=160\n",
    "integrand_list=[]\n",
    "ell_count=1\n",
    "for ell in np.arange(1,600):\n",
    "    sum_over_k=[]\n",
    "    for n in range(len(k_list)): # loops over all k values for each ell\n",
    "        k_val=psi_prime_list[n][0] # first value gives the k\n",
    "        integrand_full=prefac*f_ISW[ell_count][n]*func(k_val*etap)*sp.spherical_jn(ell,k_val*(tau_0-eta_HS))*(2*ell+1)/k_val # the integrand for k integral\n",
    "        sum_over_k.append(integrand_full) \n",
    "    integrand_list.append(np.sum(sum_over_k[0:len(sum_over_k)-1]*k_diff_list)) # k integral done using Riemann sum\n",
    "    ell_count += 1\n",
    "\n",
    "print('the ISW amplitude is',np.sum(integrand_list))  # finally summing over ell  "
   ]
  },
  {
   "cell_type": "markdown",
   "metadata": {},
   "source": [
    "### SW for single eta_HS"
   ]
  },
  {
   "cell_type": "code",
   "execution_count": 10,
   "metadata": {},
   "outputs": [
    {
     "name": "stdout",
     "output_type": "stream",
     "text": [
      "the SW amplitude is 37.34049754329359\n"
     ]
    }
   ],
   "source": [
    "# the full computation of SW piece, code structure same as ISW piece, new tau_rec dependence, single etap\n",
    "eta_HS = tau_rec\n",
    "\n",
    "etap=160\n",
    "integrand_list=[]\n",
    "ell_count=1\n",
    "for ell in np.arange(1,2000):\n",
    "    sum_over_k=[]\n",
    "    for n in range(len(k_list)):\n",
    "        k_val=psi_prime_list[n][0]        \n",
    "        integrand_full=prefac*f_SW[ell_count][n]*func(k_val*etap)*sp.spherical_jn(ell,k_val*(tau_0-eta_HS))*(2*ell+1)/k_val\n",
    "        sum_over_k.append(integrand_full)\n",
    "    integrand_list.append(np.sum(sum_over_k[0:len(sum_over_k)-1]*k_diff_list))\n",
    "    ell_count +=1\n",
    "\n",
    "print('the SW amplitude is',np.sum(integrand_list))"
   ]
  },
  {
   "cell_type": "markdown",
   "metadata": {},
   "source": [
    "### Central temperature scan for different eta_HS, ISW piece"
   ]
  },
  {
   "cell_type": "code",
   "execution_count": 11,
   "metadata": {},
   "outputs": [
    {
     "data": {
      "text/plain": [
       "280.62745874925827"
      ]
     },
     "execution_count": 11,
     "metadata": {},
     "output_type": "execute_result"
    }
   ],
   "source": [
    "tau_rec"
   ]
  },
  {
   "cell_type": "code",
   "execution_count": 12,
   "metadata": {},
   "outputs": [
    {
     "name": "stdout",
     "output_type": "stream",
     "text": [
      "the ISW amplitude is -0.42849288625622806\n",
      "the ISW amplitude is -0.40032925577416045\n",
      "the ISW amplitude is -0.3562665495490699\n",
      "the ISW amplitude is -0.29297247565371404\n",
      "the ISW amplitude is -0.20741081946497902\n",
      "the ISW amplitude is -0.09739635974010385\n",
      "the ISW amplitude is 0.0381297948060374\n",
      "the ISW amplitude is 0.19914023050653437\n",
      "the ISW amplitude is 0.38476075443222013\n",
      "the ISW amplitude is 0.5935751001888889\n",
      "the ISW amplitude is 0.8238962044725764\n",
      "the ISW amplitude is 1.0739702794082715\n",
      "the ISW amplitude is 1.3421103568797972\n",
      "the ISW amplitude is 1.6267564133256935\n",
      "the ISW amplitude is 1.92647693654833\n",
      "the ISW amplitude is 2.239932697498121\n",
      "the ISW amplitude is 2.5658136915935494\n",
      "the ISW amplitude is 2.902753632772006\n",
      "the ISW amplitude is 3.249233258963054\n",
      "the ISW amplitude is 3.6034761388112306\n",
      "the ISW amplitude is 3.9633390669818915\n",
      "the ISW amplitude is 4.326191838038352\n",
      "the ISW amplitude is 4.688804497871335\n",
      "the ISW amplitude is 5.0472762206663875\n",
      "the ISW amplitude is 5.397070823250462\n",
      "the ISW amplitude is 5.733190106170138\n",
      "the ISW amplitude is 6.050551998968011\n",
      "the ISW amplitude is 6.344427817865489\n",
      "the ISW amplitude is 6.610808334344721\n",
      "the ISW amplitude is 6.846681481026435\n",
      "the ISW amplitude is 7.050099589414602\n",
      "the ISW amplitude is 7.220087078767984\n",
      "the ISW amplitude is 7.3564625981546214\n",
      "the ISW amplitude is 7.459648625410949\n",
      "the ISW amplitude is 7.530499294255058\n",
      "the ISW amplitude is 7.570163707106698\n",
      "the ISW amplitude is 7.57998407236298\n",
      "the ISW amplitude is 7.561431150195998\n",
      "the ISW amplitude is 7.5160651200716515\n",
      "the ISW amplitude is 7.445515452177101\n",
      "the ISW amplitude is 7.351475613796275\n",
      "the ISW amplitude is 7.235713341792731\n",
      "the ISW amplitude is 7.100090359272683\n",
      "the ISW amplitude is 6.94658578483125\n",
      "the ISW amplitude is 6.777316869833899\n",
      "the ISW amplitude is 6.594550980922282\n",
      "the ISW amplitude is 6.400694421290667\n",
      "the ISW amplitude is 6.19824521106723\n",
      "the ISW amplitude is 5.989710023908354\n",
      "the ISW amplitude is 5.777505035547264\n"
     ]
    }
   ],
   "source": [
    "etap=160\n",
    "ISW_central_list=[]\n",
    "\n",
    "for eta_HS in np.linspace(tau_rec-etap, tau_rec+etap, 50):\n",
    "    integrand_list=[]\n",
    "    ell_count=1\n",
    "    for ell in np.arange(1,600):\n",
    "        sum_over_k=[]\n",
    "        for n in range(len(k_list)): # loops over all k values for each ell\n",
    "            k_val=psi_prime_list[n][0] # first value gives the k\n",
    "            integrand_full=prefac*f_ISW[ell_count][n]*func(k_val*etap)*sp.spherical_jn(ell,k_val*(tau_0-eta_HS))*(2*ell+1)/k_val # the integrand for k integral\n",
    "            sum_over_k.append(integrand_full) \n",
    "        integrand_list.append(np.sum(sum_over_k[0:len(sum_over_k)-1]*k_diff_list)) # k integral done using Riemann sum\n",
    "        ell_count += 1\n",
    "    print('the ISW amplitude is',np.sum(integrand_list))  # finally summing over ell  \n",
    "    ISW_central_list.append(np.sum(integrand_list))"
   ]
  },
  {
   "cell_type": "markdown",
   "metadata": {},
   "source": [
    "### Central temperature scan for different eta_HS, SW piece"
   ]
  },
  {
   "cell_type": "code",
   "execution_count": 13,
   "metadata": {},
   "outputs": [
    {
     "name": "stdout",
     "output_type": "stream",
     "text": [
      "the SW amplitude is -0.3068990097513077\n",
      "the SW amplitude is 1.428253966029198\n",
      "the SW amplitude is 3.6780458332928654\n",
      "the SW amplitude is 6.061427032758577\n",
      "the SW amplitude is 8.121602270301153\n",
      "the SW amplitude is 9.678105303967094\n",
      "the SW amplitude is 10.802055475642689\n",
      "the SW amplitude is 11.683940784340397\n",
      "the SW amplitude is 12.505895946307987\n",
      "the SW amplitude is 13.335170676403962\n",
      "the SW amplitude is 14.14591153192042\n",
      "the SW amplitude is 14.90196987333788\n",
      "the SW amplitude is 15.60851657229311\n",
      "the SW amplitude is 16.306354728111252\n",
      "the SW amplitude is 17.052222540616853\n",
      "the SW amplitude is 17.898105542170185\n",
      "the SW amplitude is 18.89284844742452\n",
      "the SW amplitude is 20.08558105244186\n",
      "the SW amplitude is 21.547100628991277\n",
      "the SW amplitude is 23.378183066066754\n",
      "the SW amplitude is 25.718578293735526\n",
      "the SW amplitude is 28.66262286999008\n",
      "the SW amplitude is 32.03607122837811\n",
      "the SW amplitude is 35.15526982542862\n",
      "the SW amplitude is 37.07781457906197\n",
      "the SW amplitude is 37.07933967018749\n",
      "the SW amplitude is 35.159405614731725\n",
      "the SW amplitude is 32.04178778679174\n",
      "the SW amplitude is 28.668751016864956\n",
      "the SW amplitude is 25.72415948900889\n",
      "the SW amplitude is 23.382138891330094\n",
      "the SW amplitude is 21.54788807714435\n",
      "the SW amplitude is 20.081242426683126\n",
      "the SW amplitude is 18.8815008278742\n",
      "the SW amplitude is 17.87868498973327\n",
      "the SW amplitude is 17.02544889628159\n",
      "the SW amplitude is 16.27547326796585\n",
      "the SW amplitude is 15.57913196437519\n",
      "the SW amplitude is 14.880158638871917\n",
      "the SW amplitude is 14.134757261119006\n",
      "the SW amplitude is 13.331693167385268\n",
      "the SW amplitude is 12.502082456397583\n",
      "the SW amplitude is 11.673541965608342\n",
      "the SW amplitude is 10.787607102725866\n",
      "the SW amplitude is 9.66820343050798\n",
      "the SW amplitude is 8.120411103075632\n",
      "the SW amplitude is 6.066065872665797\n",
      "the SW amplitude is 3.684949786544448\n",
      "the SW amplitude is 1.4357079033677118\n",
      "the SW amplitude is -0.30078939253490145\n"
     ]
    }
   ],
   "source": [
    "etap=160\n",
    "SW_central_list=[]\n",
    "\n",
    "for eta_HS in np.linspace(tau_rec-etap, tau_rec+etap, 50):\n",
    "    integrand_list=[]\n",
    "    ell_count=1\n",
    "    for ell in np.arange(1,2000):\n",
    "        sum_over_k=[]\n",
    "        for n in range(len(k_list)):\n",
    "            k_val=psi_prime_list[n][0]        \n",
    "            integrand_full=prefac*f_SW[ell_count][n]*func(k_val*etap)*sp.spherical_jn(ell,k_val*(tau_0-eta_HS))*(2*ell+1)/k_val\n",
    "            sum_over_k.append(integrand_full)\n",
    "        integrand_list.append(np.sum(sum_over_k[0:len(sum_over_k)-1]*k_diff_list))\n",
    "        ell_count +=1\n",
    "    print('the SW amplitude is',np.sum(integrand_list))\n",
    "    SW_central_list.append(np.sum(integrand_list))"
   ]
  },
  {
   "cell_type": "code",
   "execution_count": 14,
   "metadata": {},
   "outputs": [
    {
     "name": "stderr",
     "output_type": "stream",
     "text": [
      "findfont: Font family ['serif'] not found. Falling back to DejaVu Sans.\n",
      "findfont: Generic family 'serif' not found because none of the following families were found: Times New Roman\n"
     ]
    },
    {
     "data": {
      "image/png": "[encoded data removed]",
      "text/plain": [
       "<Figure size 750x500 with 1 Axes>"
      ]
     },
     "metadata": {
      "needs_background": "light"
     },
     "output_type": "display_data"
    }
   ],
   "source": [
    "plt.plot(np.linspace(tau_rec-etap, tau_rec+etap, 50), ISW_central_list, label='ISW')\n",
    "plt.plot(np.linspace(tau_rec-etap, tau_rec+etap, 50), SW_central_list, label='SW')\n",
    "plt.plot(np.linspace(tau_rec-etap, tau_rec+etap, 50), np.array(SW_central_list)+np.array(ISW_central_list), label='Total')\n",
    "plt.xlabel('eta_HS')\n",
    "plt.ylabel('T_central')\n",
    "plt.legend()\n",
    "plt.axvline(x=tau_rec, color='gray')\n",
    "plt.tight_layout()\n",
    "plt.savefig('central_temp.pdf')"
   ]
  },
  {
   "cell_type": "code",
   "execution_count": 25,
   "metadata": {},
   "outputs": [
    {
     "data": {
      "text/plain": [
       "array([0.0001])"
      ]
     },
     "execution_count": 25,
     "metadata": {},
     "output_type": "execute_result"
    }
   ],
   "source": [
    "np.logspace(-4.0, -1.0, num=1)"
   ]
  },
  {
   "cell_type": "markdown",
   "metadata": {},
   "source": [
    "### Temperature angular profilescan for different \\eta_HS, SW piece"
   ]
  },
  {
   "cell_type": "code",
   "execution_count": 16,
   "metadata": {},
   "outputs": [
    {
     "name": "stdout",
     "output_type": "stream",
     "text": [
      "120.62745874925827\n",
      "127.15807099415622\n",
      "133.68868323905417\n",
      "140.21929548395215\n",
      "146.7499077288501\n",
      "153.28051997374806\n",
      "159.81113221864604\n",
      "166.341744463544\n",
      "172.87235670844194\n",
      "179.4029689533399\n",
      "185.93358119823785\n",
      "192.46419344313583\n",
      "198.99480568803378\n",
      "205.52541793293173\n",
      "212.0560301778297\n",
      "218.58664242272766\n",
      "225.11725466762562\n",
      "231.64786691252357\n",
      "238.17847915742152\n",
      "244.7090914023195\n",
      "251.23970364721745\n",
      "257.7703158921154\n",
      "264.3009281370134\n",
      "270.83154038191134\n",
      "277.3621526268093\n",
      "283.89276487170724\n",
      "290.4233771166052\n",
      "296.9539893615032\n",
      "303.48460160640116\n",
      "310.0152138512991\n",
      "316.54582609619706\n",
      "323.076438341095\n",
      "329.60705058599297\n",
      "336.1376628308909\n",
      "342.66827507578887\n",
      "349.1988873206868\n",
      "355.7294995655848\n",
      "362.2601118104827\n",
      "368.79072405538074\n",
      "375.3213363002787\n",
      "381.85194854517664\n",
      "388.3825607900746\n",
      "394.91317303497254\n",
      "401.4437852798705\n",
      "407.9743975247685\n",
      "414.50500976966646\n",
      "421.0356220145644\n",
      "427.56623425946236\n",
      "434.0968465043603\n",
      "440.62745874925827\n"
     ]
    }
   ],
   "source": [
    "etap=160\n",
    "eta_HS_arr = np.linspace(tau_rec-etap, tau_rec+etap, 50)\n",
    "ang_arr = np.logspace(-3.7, -0.7, num=100)\n",
    "\n",
    "SW_angle_arr=np.zeros_like(ang_arr)\n",
    "\n",
    "for eta_HS in eta_HS_arr:\n",
    "    print(eta_HS)\n",
    "    SW_angle_temp = [] \n",
    "    for ang in ang_arr:\n",
    "        \n",
    "        integrand_list=[]\n",
    "        ell_count=1\n",
    "        for ell in np.arange(1,2000):\n",
    "            sum_over_k=[]\n",
    "            for n in range(len(k_list)):\n",
    "                k_val=psi_prime_list[n][0]\n",
    "                \n",
    "                integrand_full=prefac*f_SW[ell_count][n]*func(k_val*etap)*sp.eval_legendre(ell,np.cos(ang))*sp.spherical_jn(ell,k_val*(tau_0-eta_HS))*(2*ell+1)/k_val\n",
    "                sum_over_k.append(integrand_full)\n",
    "            integrand_list.append(np.sum(sum_over_k[0:len(sum_over_k)-1]*k_diff_list))\n",
    "            ell_count +=1\n",
    "        # print('the SW amplitude is',np.sum(integrand_list))\n",
    "        SW_angle_temp.append(np.sum(integrand_list))\n",
    "        \n",
    "    SW_angle_arr = np.vstack((SW_angle_arr, SW_angle_temp))\n",
    "    np.savetxt('SW_stack.txt', SW_angle_arr)"
   ]
  },
  {
   "cell_type": "code",
   "execution_count": 17,
   "metadata": {},
   "outputs": [
    {
     "data": {
      "text/plain": [
       "[<matplotlib.lines.Line2D at 0x7fb2b0e19130>]"
      ]
     },
     "execution_count": 17,
     "metadata": {},
     "output_type": "execute_result"
    },
    {
     "data": {
      "image/png": "[encoded data removed]",
      "text/plain": [
       "<Figure size 750x500 with 1 Axes>"
      ]
     },
     "metadata": {
      "needs_background": "light"
     },
     "output_type": "display_data"
    }
   ],
   "source": [
    "plt.plot(eta_HS_arr, SW_angle_arr.T[0][1:])"
   ]
  },
  {
   "cell_type": "code",
   "execution_count": 18,
   "metadata": {},
   "outputs": [
    {
     "data": {
      "text/plain": [
       "<matplotlib.legend.Legend at 0x7fb2b0d69ca0>"
      ]
     },
     "execution_count": 18,
     "metadata": {},
     "output_type": "execute_result"
    },
    {
     "data": {
      "image/png": "[encoded data removed]",
      "text/plain": [
       "<Figure size 750x500 with 1 Axes>"
      ]
     },
     "metadata": {
      "needs_background": "light"
     },
     "output_type": "display_data"
    }
   ],
   "source": [
    "plt.plot(ang_arr, SW_angle_arr[24], label='SW Contribution')\n",
    "plt.xscale('log')\n",
    "plt.xlabel('Angle from the center of the hotspot')\n",
    "plt.ylabel('$\\delta T~[\\mu K]$')\n",
    "plt.legend()"
   ]
  },
  {
   "cell_type": "markdown",
   "metadata": {},
   "source": [
    "### Temperature angular profilescan for different \\eta_HS, ISW piece"
   ]
  },
  {
   "cell_type": "code",
   "execution_count": 25,
   "metadata": {},
   "outputs": [],
   "source": [
    "etap=160\n",
    "eta_HS_arr = np.linspace(tau_rec-etap, tau_rec+etap, 50)\n",
    "ang_arr = np.logspace(-3.7, -0.7, num=100)\n",
    "\n",
    "ISW_angle_arr=np.zeros_like(ang_arr)\n",
    "\n",
    "for eta_HS in eta_HS_arr:\n",
    "    ISW_angle_temp = [] \n",
    "    for ang in ang_arr:\n",
    "        \n",
    "        integrand_list=[]\n",
    "        ell_count=1\n",
    "        for ell in np.arange(1,600):\n",
    "            sum_over_k=[]\n",
    "            for n in range(len(k_list)):\n",
    "                k_val=psi_prime_list[n][0]\n",
    "                \n",
    "                integrand_full=prefac*f_ISW[ell_count][n]*func(k_val*etap)*sp.eval_legendre(ell,np.cos(ang))*sp.spherical_jn(ell,k_val*(tau_0-eta_HS))*(2*ell+1)/k_val\n",
    "                sum_over_k.append(integrand_full)\n",
    "            integrand_list.append(np.sum(sum_over_k[0:len(sum_over_k)-1]*k_diff_list))\n",
    "            ell_count +=1\n",
    "        # print('the SW amplitude is',np.sum(integrand_list))\n",
    "        ISW_angle_temp.append(np.sum(integrand_list))\n",
    "        \n",
    "    ISW_angle_arr = np.vstack((ISW_angle_arr, ISW_angle_temp))"
   ]
  },
  {
   "cell_type": "code",
   "execution_count": 26,
   "metadata": {},
   "outputs": [],
   "source": [
    "np.savetxt('ISW_stack.txt', ISW_angle_arr)"
   ]
  },
  {
   "cell_type": "code",
   "execution_count": null,
   "metadata": {},
   "outputs": [],
   "source": [
    "ISW_angle_arr = np.loadtxt('../ISW_stack.txt')"
   ]
  },
  {
   "cell_type": "code",
   "execution_count": null,
   "metadata": {},
   "outputs": [],
   "source": [
    "plt.plot(eta_HS_arr, ISW_angle_arr.T[0][1:])"
   ]
  },
  {
   "cell_type": "code",
   "execution_count": 27,
   "metadata": {},
   "outputs": [
    {
     "data": {
      "text/plain": [
       "<matplotlib.legend.Legend at 0x7fb2a481cd90>"
      ]
     },
     "execution_count": 27,
     "metadata": {},
     "output_type": "execute_result"
    },
    {
     "data": {
      "image/png": "[encoded data removed]",
      "text/plain": [
       "<Figure size 750x500 with 1 Axes>"
      ]
     },
     "metadata": {
      "needs_background": "light"
     },
     "output_type": "display_data"
    }
   ],
   "source": [
    "ang_arr = np.logspace(-3.7, -0.7, num=100)\n",
    "plt.plot(ang_arr, ISW_angle_arr[24], label='ISW Contribution')\n",
    "plt.xscale('log')\n",
    "plt.xlabel('Angle from the center of the hotspot')\n",
    "plt.ylabel('$\\delta T~[\\mu K]$')\n",
    "plt.legend()"
   ]
  },
  {
   "cell_type": "code",
   "execution_count": 28,
   "metadata": {},
   "outputs": [
    {
     "data": {
      "text/plain": [
       "277.3621526268093"
      ]
     },
     "execution_count": 28,
     "metadata": {},
     "output_type": "execute_result"
    }
   ],
   "source": [
    "eta_HS_arr[24]"
   ]
  },
  {
   "cell_type": "markdown",
   "metadata": {},
   "source": [
    "# Old"
   ]
  },
  {
   "cell_type": "code",
   "execution_count": 52,
   "metadata": {},
   "outputs": [],
   "source": [
    "etap=160\n",
    "eta_HS_arr = np.linspace(tau_rec-etap, tau_rec+etap, 5)\n",
    "ang_arr = np.linspace(0.07, 0.2, num=10)\n",
    "\n",
    "ISW_angle_arr_n=np.zeros_like(ang_arr)\n",
    "\n",
    "for eta_HS in eta_HS_arr:\n",
    "    ISW_angle_temp = [] \n",
    "    for ang in ang_arr:\n",
    "        \n",
    "        integrand_list=[]\n",
    "        ell_count=1\n",
    "        for ell in np.arange(1,600):\n",
    "            sum_over_k=[]\n",
    "            for n in range(len(k_list)):\n",
    "                k_val=psi_prime_list[n][0]\n",
    "                \n",
    "                integrand_full=prefac*f_ISW[ell_count][n]*func(k_val*etap)*sp.eval_legendre(ell,np.cos(ang))*sp.spherical_jn(ell,k_val*(tau_0-eta_HS))*(2*ell+1)/k_val\n",
    "                sum_over_k.append(integrand_full)\n",
    "            integrand_list.append(np.sum(sum_over_k[0:len(sum_over_k)-1]*k_diff_list))\n",
    "            ell_count +=1\n",
    "        # print('the SW amplitude is',np.sum(integrand_list))\n",
    "        ISW_angle_temp.append(np.sum(integrand_list))\n",
    "        \n",
    "    ISW_angle_arr_n = np.vstack((ISW_angle_arr_n, ISW_angle_temp))"
   ]
  },
  {
   "cell_type": "code",
   "execution_count": 45,
   "metadata": {},
   "outputs": [
    {
     "name": "stdout",
     "output_type": "stream",
     "text": [
      "the ISW amplitude is 5.611001349298974\n"
     ]
    }
   ],
   "source": [
    "# the full computation of ISW, with new tau_rec dependence, single etap and single eta_HS\n",
    "eta_HS = tau_rec\n",
    "\n",
    "etap=160\n",
    "integrand_list=[]\n",
    "for ell in np.arange(20,600):\n",
    "    sum_over_k=[]\n",
    "    for n in range(len(k_list)): # loops over all k values for each ell\n",
    "        k_val=psi_prime_list[n][0] # first value gives the k\n",
    "        integrand_time=exp_kappa_func(tau_list)*(psi_prime_list[n][1:len(tau_list)+1]+phi_prime_list[n][1:len(tau_list)+1])*sp.spherical_jn(ell,k_val*(tau_0-tau_list)) # the integrand for time integral\n",
    "        integral_time=np.sum(integrand_time[0:len(integrand_time)-1]*tau_diff_list) # time integral done using Riemann sum\n",
    "        \n",
    "        integrand_full=prefac*integral_time*func(k_val*etap)*sp.spherical_jn(ell,k_val*(tau_0-tau_rec))*(2*ell+1)/k_val # the integrand for k integral\n",
    "        sum_over_k.append(integrand_full) \n",
    "    integrand_list.append(np.sum(sum_over_k[0:len(sum_over_k)-1]*k_diff_list)) # k integral done using Riemann sum\n",
    "\n",
    "print('the ISW amplitude is',np.sum(integrand_list))  # finally summing over ell  "
   ]
  },
  {
   "cell_type": "code",
   "execution_count": 11,
   "metadata": {},
   "outputs": [
    {
     "name": "stdout",
     "output_type": "stream",
     "text": [
      "the SW amplitude is 28.663737220837334\n"
     ]
    }
   ],
   "source": [
    "# the full computation of SW piece, code structure same as ISW piece, new tau_rec dependence, single etap\n",
    "etap=160\n",
    "integrand_list=[]\n",
    "for ell in np.arange(20,2000):\n",
    "    sum_over_k=[]\n",
    "    for n in range(len(k_list)):\n",
    "        k_val=psi_prime_list[n][0]\n",
    "        integrand_time=g_func(tau_list)*(psi_list[n][1:len(tau_list)+1]+theta_list[n][1:len(tau_list)+1])*sp.spherical_jn(ell,k_val*(tau_0-tau_list))\n",
    "        integral_time=np.sum(integrand_time[0:len(integrand_time)-1]*tau_diff_list)\n",
    "        \n",
    "        integrand_full=prefac*integral_time*func(k_val*etap)*sp.spherical_jn(ell,k_val*(tau_0-tau_rec))*(2*ell+1)/k_val\n",
    "        sum_over_k.append(integrand_full)\n",
    "    integrand_list.append(np.sum(sum_over_k[0:len(sum_over_k)-1]*k_diff_list))\n",
    "\n",
    "print('the SW amplitude is',np.sum(integrand_list))    "
   ]
  },
  {
   "cell_type": "code",
   "execution_count": null,
   "metadata": {},
   "outputs": [],
   "source": []
  }
 ],
 "metadata": {
  "kernelspec": {
   "display_name": "Python 2",
   "language": "python",
   "name": "python2"
  },
  "language_info": {
   "codemirror_mode": {
    "name": "ipython",
    "version": 2
   },
   "file_extension": ".py",
   "mimetype": "text/x-python",
   "name": "python",
   "nbconvert_exporter": "python",
   "pygments_lexer": "ipython2",
   "version": "2.7.15"
  }
 },
 "nbformat": 4,
 "nbformat_minor": 4
}
