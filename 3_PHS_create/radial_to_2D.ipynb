{
 "cells": [
  {
   "cell_type": "code",
   "execution_count": 27,
   "id": "b48fe5fc-cedf-4bb5-9d1f-c04692cf8cc5",
   "metadata": {},
   "outputs": [],
   "source": [
    "import numpy as np\n",
    "from matplotlib import pyplot as plt \n",
    "from scipy import interpolate"
   ]
  },
  {
   "cell_type": "code",
   "execution_count": 28,
   "id": "8da3eb40-e20b-4b53-9db4-4252faa517f8",
   "metadata": {},
   "outputs": [],
   "source": [
    "### Definitions ###\n",
    "\n",
    "def angle_to_eta(theta):\n",
    "    return LSS_radius*theta#/np.sqrt(4*np.pi)\n",
    "\n",
    "def LSS_loc(r):\n",
    "    loc = -eta+grid_len_r*r # Find distance from LSS (negative = inside, positive = outside)\n",
    "    return loc\n",
    "\n",
    "def dist_2spot(r1,r2,x,y):    # flag:  if separation is large, the curvature is involved so flat space approximation may fail\n",
    "    delta_r = (r2-r1)*grid_len_r # in Mpc\n",
    "    x_Mpc = x*grid_len_x # in Mpc\n",
    "    y_Mpc = y*grid_len_x # in Mpc\n",
    "    dist = np.sqrt(delta_r**2+x_Mpc**2+y_Mpc**2)\n",
    "    return dist\n",
    "\n",
    "def Get_Dis(x1,y1, x2,y2):\n",
    "    return np.math.sqrt( (x1-x2)**2 + (y1-y2)**2 )\n",
    "\n",
    "def interpolation(x, y):\n",
    "    return interpolate.interp1d(x, y)\n",
    "\n",
    "### Definitions ###\n",
    "\n",
    "num_sigs = 500\n",
    "\n",
    "nside = 1024\n",
    "LSS_radius = 13800\n",
    "\n",
    "# A number of pixels\n",
    "Npixels = 12*nside**2\n",
    "\n",
    "# pixel size analytic(Rad)\n",
    "pix_radsq = 4*np.pi/Npixels # Solid angle\n",
    "pix_rad = np.sqrt(pix_radsq) # Square pixel side length in rad\n",
    "\n",
    "pix_mpc = angle_to_eta(pix_rad) # (Mpc) 1 pixel size ~ 6.7 Mpc\n",
    "\n",
    "eta = 160\n",
    "r_bins = 50 # No need to change\n",
    "grid_len_r = eta*2/r_bins # Mpc (each grid length)\n",
    "grid_len_x = pix_mpc # Mpc = grid_len_y\n",
    "\n",
    "ang_arr = np.logspace(-3.7, -0.7, num=100)\n",
    "radius_arr = angle_to_eta(ang_arr) # Mpc\n",
    "pix_arr = (0.2+np.arange(0,25))* grid_len_x"
   ]
  },
  {
   "cell_type": "code",
   "execution_count": 29,
   "id": "f3068fa8-efd0-49a5-bd60-e1075b73322f",
   "metadata": {},
   "outputs": [],
   "source": [
    "Profiles = np.loadtxt(\"./Eventcode/new_profile_singlePHS_projection/SW_stack.txt\")\n",
    "profile1D = Profiles[25]\n",
    "SWprofle1 = interpolation(radius_arr, profile1D)"
   ]
  },
  {
   "cell_type": "code",
   "execution_count": 78,
   "id": "8bf311f9-d41f-4e13-b2b3-ee36ce876710",
   "metadata": {},
   "outputs": [
    {
     "data": {
      "text/plain": [
       "<matplotlib.image.AxesImage at 0x7ff53531cd00>"
      ]
     },
     "execution_count": 78,
     "metadata": {},
     "output_type": "execute_result"
    },
    {
     "data": {
      "image/png": "[encoded data removed]",
      "text/plain": [
       "<Figure size 640x480 with 1 Axes>"
      ]
     },
     "metadata": {},
     "output_type": "display_data"
    }
   ],
   "source": [
    "from pylab import*\n",
    "bound= 30\n",
    "#steps = 50\n",
    "x=grid_len_x*linspace(-bound,bound,2*bound+1)\n",
    "y=grid_len_x*linspace(-bound,bound,2*bound+1)\n",
    "x[x==0]=3\n",
    "y[y==0]=3\n",
    "xx,yy=meshgrid(x,y)\n",
    "#int(np.sqrt(xx**2.0+yy**2.0))\n",
    "z=SWprofle1(np.sqrt(xx**2+yy**2).astype(int))\n",
    "imshow(z)"
   ]
  },
  {
   "cell_type": "code",
   "execution_count": null,
   "id": "61db3842-503c-497c-83eb-b5e998458987",
   "metadata": {},
   "outputs": [],
   "source": []
  }
 ],
 "metadata": {
  "kernelspec": {
   "display_name": "Python 3 (ipykernel)",
   "language": "python",
   "name": "python3"
  },
  "language_info": {
   "codemirror_mode": {
    "name": "ipython",
    "version": 3
   },
   "file_extension": ".py",
   "mimetype": "text/x-python",
   "name": "python",
   "nbconvert_exporter": "python",
   "pygments_lexer": "ipython3",
   "version": "3.9.15"
  }
 },
 "nbformat": 4,
 "nbformat_minor": 5
}
