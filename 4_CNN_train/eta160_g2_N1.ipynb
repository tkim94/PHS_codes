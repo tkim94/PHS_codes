{
 "cells": [
  {
   "cell_type": "code",
   "execution_count": 1,
   "metadata": {},
   "outputs": [
    {
     "name": "stderr",
     "output_type": "stream",
     "text": [
      "/tmpscratch/tkim12/.local/lib/python3.6/site-packages/tqdm/auto.py:22: TqdmWarning: IProgress not found. Please update jupyter and ipywidgets. See https://ipywidgets.readthedocs.io/en/stable/user_install.html\n",
      "  from .autonotebook import tqdm as notebook_tqdm\n"
     ]
    }
   ],
   "source": [
    "import torch\n",
    "import pandas as pd\n",
    "import gc\n",
    "import matplotlib\n",
    "matplotlib.use('Agg')\n",
    "\n",
    "import matplotlib.pyplot as plt\n",
    "import numpy as np\n",
    "import sklearn\n",
    "from sklearn.model_selection import train_test_split\n",
    "from sklearn import metrics\n",
    "from sklearn.metrics import accuracy_score\n",
    "from sklearn.utils import shuffle\n",
    "\n",
    "import torch.nn as nn\n",
    "import torch.nn.functional as F\n",
    "\n",
    "import torch.optim as optim\n",
    "\n",
    "from model.classifier import Net\n",
    "\n",
    "from torch.autograd import Variable\n",
    "\n",
    "from matplotlib import pyplot\n",
    "\n",
    "from tqdm import tqdm"
   ]
  },
  {
   "cell_type": "code",
   "execution_count": 2,
   "metadata": {},
   "outputs": [
    {
     "name": "stdout",
     "output_type": "stream",
     "text": [
      "cuda:0\n"
     ]
    }
   ],
   "source": [
    "device = torch.device(\"cuda:0\" if torch.cuda.is_available() else \"cpu\")\n",
    "\n",
    "# Assuming that we are on a CUDA machine, this should print a CUDA device:\n",
    "\n",
    "print(device)"
   ]
  },
  {
   "cell_type": "code",
   "execution_count": 3,
   "metadata": {},
   "outputs": [],
   "source": [
    "file_loc = '/afs/crc.nd.edu/user/t/tkim12/Work/CMB_ML/Data/Nside1024/'\n",
    "\n",
    "# Load background\n",
    "bkg_file = 400\n",
    "CMB_bkg = []\n",
    "for file_num in range(bkg_file):\n",
    "    Xtemp = np.load(file_loc+\"quicklens_backgound/500_events_90Sqr_lensed_Backgroundlmax3500_\"+str(file_num)+\".npy\")\n",
    "    for k in range(Xtemp.shape[0]):\n",
    "        CMB_bkg.append(Xtemp[k])\n",
    "\n",
    "\n",
    "# Load CMB signal only (g = 1)\n",
    "CMB_sig = []\n",
    "for file_num in range(1,201):\n",
    "    Xtemp = np.load(file_loc+\"PHS_signal/500_PHS_g1_Sig_\"+str(file_num)+\".npy\")\n",
    "    for k in range(Xtemp.shape[0]):\n",
    "        CMB_sig.append(Xtemp[k])"
   ]
  },
  {
   "cell_type": "code",
   "execution_count": 4,
   "metadata": {},
   "outputs": [],
   "source": [
    "CMB_bkg = np.array(CMB_bkg)\n",
    "CMB_sig = np.array(CMB_sig)\n",
    "\n",
    "CMB_bkg_num = CMB_bkg.shape[0]\n",
    "\n",
    "\n",
    "# Prepare pure background and background + signal\n",
    "rescale_val = 2\n",
    "\n",
    "bkgonly = CMB_bkg[0:int(CMB_bkg_num/2)]\n",
    "SpB = CMB_bkg[int(CMB_bkg_num/2):]+ rescale_val *CMB_sig\n",
    "\n",
    "bkg_indicator = np.zeros(int(CMB_bkg_num/2))\n",
    "sig_indicator = np.ones(int(CMB_bkg_num/2))"
   ]
  },
  {
   "cell_type": "code",
   "execution_count": 7,
   "metadata": {},
   "outputs": [],
   "source": [
    "spbmean = []\n",
    "bkgmean = []\n",
    "\n",
    "for ii in range(len(SpB)):\n",
    "    spbmean.append(np.mean(SpB[ii]))\n",
    "    bkgmean.append(np.mean(bkgonly[ii]))\n",
    "\n",
    "spbmean = np.array(spbmean)\n",
    "bkgmean = np.array(bkgmean)"
   ]
  },
  {
   "cell_type": "code",
   "execution_count": 9,
   "metadata": {},
   "outputs": [
    {
     "data": {
      "text/plain": [
       "(array([1.000e+00, 2.000e+00, 8.000e+00, 1.200e+01, 2.700e+01, 4.400e+01,\n",
       "        7.500e+01, 1.280e+02, 1.970e+02, 2.670e+02, 4.390e+02, 6.580e+02,\n",
       "        1.023e+03, 1.322e+03, 1.828e+03, 2.338e+03, 2.993e+03, 3.716e+03,\n",
       "        4.392e+03, 5.109e+03, 5.725e+03, 6.316e+03, 6.677e+03, 6.853e+03,\n",
       "        6.940e+03, 6.705e+03, 6.390e+03, 5.698e+03, 5.038e+03, 4.336e+03,\n",
       "        3.646e+03, 2.954e+03, 2.293e+03, 1.759e+03, 1.361e+03, 9.500e+02,\n",
       "        6.500e+02, 3.990e+02, 2.950e+02, 1.650e+02, 1.160e+02, 6.600e+01,\n",
       "        4.800e+01, 1.200e+01, 1.400e+01, 6.000e+00, 2.000e+00, 4.000e+00,\n",
       "        2.000e+00, 1.000e+00]),\n",
       " array([-112.80684415, -108.10128192, -103.39571969,  -98.69015745,\n",
       "         -93.98459522,  -89.27903298,  -84.57347075,  -79.86790852,\n",
       "         -75.16234628,  -70.45678405,  -65.75122181,  -61.04565958,\n",
       "         -56.34009735,  -51.63453511,  -46.92897288,  -42.22341064,\n",
       "         -37.51784841,  -32.81228618,  -28.10672394,  -23.40116171,\n",
       "         -18.69559947,  -13.99003724,   -9.28447501,   -4.57891277,\n",
       "           0.12664946,    4.83221169,    9.53777393,   14.24333616,\n",
       "          18.9488984 ,   23.65446063,   28.36002286,   33.0655851 ,\n",
       "          37.77114733,   42.47670957,   47.1822718 ,   51.88783403,\n",
       "          56.59339627,   61.2989585 ,   66.00452074,   70.71008297,\n",
       "          75.4156452 ,   80.12120744,   84.82676967,   89.53233191,\n",
       "          94.23789414,   98.94345637,  103.64901861,  108.35458084,\n",
       "         113.06014308,  117.76570531,  122.47126754]),\n",
       " <a list of 50 Patch objects>)"
      ]
     },
     "execution_count": 9,
     "metadata": {},
     "output_type": "execute_result"
    },
    {
     "data": {
      "image/png": "[encoded data removed]",
      "text/plain": [
       "<Figure size 432x288 with 1 Axes>"
      ]
     },
     "metadata": {
      "needs_background": "light"
     },
     "output_type": "display_data"
    }
   ],
   "source": [
    "%matplotlib inline\n",
    "plt.hist(spbmean,50)\n",
    "plt.hist(bkgmean,50)"
   ]
  },
  {
   "cell_type": "code",
   "execution_count": 5,
   "metadata": {},
   "outputs": [
    {
     "data": {
      "text/plain": [
       "1.0"
      ]
     },
     "execution_count": 5,
     "metadata": {},
     "output_type": "execute_result"
    }
   ],
   "source": [
    "#plt.imshow(CMB_sig[4])\n",
    "#plt.savefig('sample_img.pdf')\n",
    "sig_indicator[100]"
   ]
  },
  {
   "cell_type": "code",
   "execution_count": 6,
   "metadata": {},
   "outputs": [
    {
     "name": "stdout",
     "output_type": "stream",
     "text": [
      "90 90\n",
      "Training sample : 160000 , Validation sample : 40000\n"
     ]
    }
   ],
   "source": [
    "X_data = np.concatenate((bkgonly,      SpB          ))\n",
    "Y_data = np.concatenate((bkg_indicator,sig_indicator))\n",
    "\n",
    "wid, hei = X_data.shape[1], X_data.shape[2]\n",
    "\n",
    "X_data, Y_data = shuffle(X_data, Y_data, random_state=23)\n",
    "\n",
    "print(wid, hei)\n",
    "#print(Y_data)\n",
    "\n",
    "# Data Splitting\n",
    "ts1 = 0.2\n",
    "rs1 = 23\n",
    "X_train, X_test, Y_train, Y_test = train_test_split(X_data, Y_data, test_size = ts1, random_state = rs1)\n",
    "\n",
    "X_data = []\n",
    "Y_data = []\n",
    "\n",
    "X_train = X_train.reshape(X_train.shape[0], 1, wid, hei).astype('float64')\n",
    "X_train = torch.from_numpy(X_train)\n",
    "X_test = X_test.reshape(X_test.shape[0], 1, wid, hei).astype('float64')\n",
    "X_test = torch.from_numpy(X_test)\n",
    "\n",
    "Y_train = Y_train.reshape(Y_train.shape[0], 1).astype('float64')\n",
    "Y_train = torch.from_numpy(Y_train)\n",
    "Y_test = Y_test.reshape(Y_test.shape[0], 1).astype('float64')\n",
    "Y_test = torch.from_numpy(Y_test)\n",
    "\n",
    "print(\"Training sample : \"+str(X_train.shape[0])+\" , Validation sample : \"+str(X_test.shape[0]))\n",
    "\n",
    "from torch.utils.data import Dataset, TensorDataset, DataLoader\n",
    "\n",
    "train_data = TensorDataset(X_train, Y_train)\n",
    "test_data = TensorDataset(X_test, Y_test)\n",
    "\n",
    "trainloader = DataLoader(dataset=train_data, batch_size=128, shuffle=True)\n",
    "testloader = DataLoader(dataset=test_data, batch_size=1, shuffle=False)"
   ]
  },
  {
   "cell_type": "code",
   "execution_count": 7,
   "metadata": {},
   "outputs": [
    {
     "name": "stdout",
     "output_type": "stream",
     "text": [
      "Net(\n",
      "  (conv1): Conv2d(1, 8, kernel_size=(16, 16), stride=(2, 2), padding=(7, 7))\n",
      "  (conv2): Conv2d(8, 8, kernel_size=(8, 8), stride=(1, 1), padding=(1, 1))\n",
      "  (pool1): MaxPool2d(kernel_size=(2, 2), stride=(2, 2), padding=0, dilation=1, ceil_mode=False)\n",
      "  (conv3): Conv2d(8, 8, kernel_size=(7, 7), stride=(1, 1), padding=(3, 3))\n",
      "  (pool2): MaxPool2d(kernel_size=(2, 2), stride=(2, 2), padding=0, dilation=1, ceil_mode=False)\n",
      "  (conv4): Conv2d(8, 8, kernel_size=(4, 4), stride=(2, 2), padding=(1, 1))\n",
      "  (avepool): AvgPool2d(kernel_size=(2, 2), stride=(1, 1), padding=0)\n",
      "  (fc1): Linear(in_features=128, out_features=200, bias=True)\n",
      "  (fc2): Linear(in_features=200, out_features=200, bias=True)\n",
      "  (fin): Linear(in_features=200, out_features=1, bias=True)\n",
      "  (sig): Sigmoid()\n",
      ")\n"
     ]
    }
   ],
   "source": [
    "trained_class = './result/gpu_classification_g3train.pt'\n",
    "class_model = Net()\n",
    "class_model.load_state_dict(torch.load(trained_class, map_location=torch.device('cpu')))\n",
    "class_model.eval()\n",
    "model = class_model.double()\n",
    "\n",
    "#model = Net()\n",
    "#model = model.double()\n",
    "print(model)\n",
    "model.to(device)\n",
    "\n",
    "\n",
    "#from tqdm import tqdm\n",
    "# https://medium.com/analytics-vidhya/simple-neural-network-with-bceloss-for-binary-classification-for-a-custom-dataset-8d5c69ffffee\n",
    "loss_fn = nn.BCELoss()"
   ]
  },
  {
   "cell_type": "code",
   "execution_count": 8,
   "metadata": {},
   "outputs": [],
   "source": [
    "def train_model(model, epochs=40, lr=0.0001):\n",
    "    optimizer = optim.Adam(model.parameters(), lr=lr)\n",
    "\n",
    "    train_loss = []\n",
    "    test_loss = []\n",
    "    train_accuracy = []\n",
    "    test_accuracy = []\n",
    "    for epoch in range(epochs):\n",
    "        model.train() # train mode (affects batchnorm layers:\n",
    "                      # in the subsequent forward passes they'll\n",
    "                      # exhibit 'train' behaviour, i.e. they'll\n",
    "                      # normalize activations over batches)\n",
    "        for i, (X, y) in enumerate(tqdm(trainloader)):\n",
    "        #for i, (X, y) in enumerate(trainloader):\n",
    "            X, y = X.to(device), y.to(device)\n",
    "            #print(X.is_cuda, y.is_cuda)\n",
    "\n",
    "            pred = model(X)\n",
    "            loss = loss_fn(pred, y)\n",
    "            loss.backward()\n",
    "            optimizer.step()\n",
    "            optimizer.zero_grad()\n",
    "\n",
    "            train_loss.append(np.mean(loss.item()))\n",
    "            train_accuracy.append((pred.round() == y).to(torch.float32).mean().item())\n",
    "\n",
    "        model.eval() # test mode (affects batchnorm layers:\n",
    "                     # in the subsequent forward passes they'll\n",
    "                     # exhibit 'test' behaviour, i.e. they'll\n",
    "                     # use the accumulated running statistics\n",
    "                     # to normalize activations)\n",
    "        epoch_losses = []\n",
    "        epoch_accuracies = []\n",
    "        with torch.no_grad(): # avoid calculating gradients during evaluation\n",
    "            for X, y in testloader:\n",
    "                X, y = X.to(device), y.to(device)\n",
    "                pred = model(X)\n",
    "                pred_round = pred.round()\n",
    "\n",
    "                epoch_losses.append(loss_fn(pred, y).item())\n",
    "                _, pred = torch.max(pred.data, 1) # pred = index of maximal output along axis=1\n",
    "                epoch_accuracies.append(\n",
    "                    (pred_round == y).to(torch.float32).mean().item()\n",
    "                )\n",
    "        test_loss.append(np.mean(epoch_losses))\n",
    "        print(\"\\n Epoch = \",epoch)\n",
    "        print(\"\\n Training loss = \", np.mean(train_loss))\n",
    "        print(\"\\n Validation loss = \", np.mean(epoch_losses))\n",
    "        #print(\"\\n Training acc = \", train_accuracy)\n",
    "        print(\"\\n Validation acc = \", np.mean(epoch_accuracies))\n",
    "        test_accuracy.append(np.mean(epoch_accuracies))\n",
    "\n",
    "    return dict(\n",
    "        train_loss=train_loss,\n",
    "        test_loss=test_loss,\n",
    "        train_accuracy=train_accuracy,\n",
    "        test_accuracy=test_accuracy\n",
    "    )"
   ]
  },
  {
   "cell_type": "code",
   "execution_count": 9,
   "metadata": {
    "scrolled": true
   },
   "outputs": [
    {
     "name": "stderr",
     "output_type": "stream",
     "text": [
      "100%|██████████| 1250/1250 [01:52<00:00, 11.12it/s]\n"
     ]
    },
    {
     "name": "stdout",
     "output_type": "stream",
     "text": [
      "\n",
      " Epoch =  0\n",
      "\n",
      " Training loss =  0.1906673382697069\n",
      "\n",
      " Validation loss =  0.18476008652556483\n",
      "\n",
      " Validation acc =  0.9349\n"
     ]
    },
    {
     "name": "stderr",
     "output_type": "stream",
     "text": [
      "100%|██████████| 1250/1250 [01:58<00:00, 10.57it/s]\n"
     ]
    },
    {
     "name": "stdout",
     "output_type": "stream",
     "text": [
      "\n",
      " Epoch =  1\n",
      "\n",
      " Training loss =  0.17235755013492454\n",
      "\n",
      " Validation loss =  0.1659478902167958\n",
      "\n",
      " Validation acc =  0.93935\n"
     ]
    },
    {
     "name": "stderr",
     "output_type": "stream",
     "text": [
      "100%|██████████| 1250/1250 [01:56<00:00, 10.70it/s]\n"
     ]
    },
    {
     "name": "stdout",
     "output_type": "stream",
     "text": [
      "\n",
      " Epoch =  2\n",
      "\n",
      " Training loss =  0.1632002894501916\n",
      "\n",
      " Validation loss =  0.16464688322025137\n",
      "\n",
      " Validation acc =  0.9413\n"
     ]
    },
    {
     "name": "stderr",
     "output_type": "stream",
     "text": [
      "100%|██████████| 1250/1250 [01:56<00:00, 10.69it/s]\n"
     ]
    },
    {
     "name": "stdout",
     "output_type": "stream",
     "text": [
      "\n",
      " Epoch =  3\n",
      "\n",
      " Training loss =  0.15680265419392467\n",
      "\n",
      " Validation loss =  0.1530310317851958\n",
      "\n",
      " Validation acc =  0.94395\n"
     ]
    },
    {
     "name": "stderr",
     "output_type": "stream",
     "text": [
      "100%|██████████| 1250/1250 [01:56<00:00, 10.72it/s]\n"
     ]
    },
    {
     "name": "stdout",
     "output_type": "stream",
     "text": [
      "\n",
      " Epoch =  4\n",
      "\n",
      " Training loss =  0.15190647001064142\n",
      "\n",
      " Validation loss =  0.1448593202735681\n",
      "\n",
      " Validation acc =  0.9463\n"
     ]
    },
    {
     "name": "stderr",
     "output_type": "stream",
     "text": [
      "100%|██████████| 1250/1250 [01:55<00:00, 10.78it/s]\n"
     ]
    },
    {
     "name": "stdout",
     "output_type": "stream",
     "text": [
      "\n",
      " Epoch =  5\n",
      "\n",
      " Training loss =  0.14797998239580507\n",
      "\n",
      " Validation loss =  0.14310466842611683\n",
      "\n",
      " Validation acc =  0.947525\n"
     ]
    },
    {
     "name": "stderr",
     "output_type": "stream",
     "text": [
      "100%|██████████| 1250/1250 [01:56<00:00, 10.76it/s]\n"
     ]
    },
    {
     "name": "stdout",
     "output_type": "stream",
     "text": [
      "\n",
      " Epoch =  6\n",
      "\n",
      " Training loss =  0.14457617900710876\n",
      "\n",
      " Validation loss =  0.13839758108940187\n",
      "\n",
      " Validation acc =  0.949425\n"
     ]
    },
    {
     "name": "stderr",
     "output_type": "stream",
     "text": [
      "100%|██████████| 1250/1250 [01:56<00:00, 10.70it/s]\n"
     ]
    },
    {
     "name": "stdout",
     "output_type": "stream",
     "text": [
      "\n",
      " Epoch =  7\n",
      "\n",
      " Training loss =  0.14161810825933352\n",
      "\n",
      " Validation loss =  0.13703707952666408\n",
      "\n",
      " Validation acc =  0.950125\n"
     ]
    },
    {
     "name": "stderr",
     "output_type": "stream",
     "text": [
      "100%|██████████| 1250/1250 [01:56<00:00, 10.70it/s]\n"
     ]
    },
    {
     "name": "stdout",
     "output_type": "stream",
     "text": [
      "\n",
      " Epoch =  8\n",
      "\n",
      " Training loss =  0.13899058766515335\n",
      "\n",
      " Validation loss =  0.134039015890151\n",
      "\n",
      " Validation acc =  0.951125\n"
     ]
    },
    {
     "name": "stderr",
     "output_type": "stream",
     "text": [
      "100%|██████████| 1250/1250 [01:54<00:00, 10.87it/s]\n"
     ]
    },
    {
     "name": "stdout",
     "output_type": "stream",
     "text": [
      "\n",
      " Epoch =  9\n",
      "\n",
      " Training loss =  0.1366251588902272\n",
      "\n",
      " Validation loss =  0.13414256966256283\n",
      "\n",
      " Validation acc =  0.9522\n"
     ]
    },
    {
     "name": "stderr",
     "output_type": "stream",
     "text": [
      "100%|██████████| 1250/1250 [01:55<00:00, 10.83it/s]\n"
     ]
    },
    {
     "name": "stdout",
     "output_type": "stream",
     "text": [
      "\n",
      " Epoch =  10\n",
      "\n",
      " Training loss =  0.13447039943304084\n",
      "\n",
      " Validation loss =  0.13345386069294846\n",
      "\n",
      " Validation acc =  0.9514\n"
     ]
    },
    {
     "name": "stderr",
     "output_type": "stream",
     "text": [
      "100%|██████████| 1250/1250 [01:57<00:00, 10.66it/s]\n"
     ]
    },
    {
     "name": "stdout",
     "output_type": "stream",
     "text": [
      "\n",
      " Epoch =  11\n",
      "\n",
      " Training loss =  0.13263355156293133\n",
      "\n",
      " Validation loss =  0.1283317123524606\n",
      "\n",
      " Validation acc =  0.953875\n"
     ]
    },
    {
     "name": "stderr",
     "output_type": "stream",
     "text": [
      "100%|██████████| 1250/1250 [01:56<00:00, 10.74it/s]\n"
     ]
    },
    {
     "name": "stdout",
     "output_type": "stream",
     "text": [
      "\n",
      " Epoch =  12\n",
      "\n",
      " Training loss =  0.13074015627485683\n",
      "\n",
      " Validation loss =  0.12993496691618261\n",
      "\n",
      " Validation acc =  0.9545\n"
     ]
    },
    {
     "name": "stderr",
     "output_type": "stream",
     "text": [
      "100%|██████████| 1250/1250 [01:56<00:00, 10.74it/s]\n"
     ]
    },
    {
     "name": "stdout",
     "output_type": "stream",
     "text": [
      "\n",
      " Epoch =  13\n",
      "\n",
      " Training loss =  0.12900377089830034\n",
      "\n",
      " Validation loss =  0.12804334654570346\n",
      "\n",
      " Validation acc =  0.954175\n"
     ]
    },
    {
     "name": "stderr",
     "output_type": "stream",
     "text": [
      "100%|██████████| 1250/1250 [01:54<00:00, 10.91it/s]\n"
     ]
    },
    {
     "name": "stdout",
     "output_type": "stream",
     "text": [
      "\n",
      " Epoch =  14\n",
      "\n",
      " Training loss =  0.12736691903544084\n",
      "\n",
      " Validation loss =  0.12282328553809507\n",
      "\n",
      " Validation acc =  0.95565\n"
     ]
    },
    {
     "name": "stderr",
     "output_type": "stream",
     "text": [
      "100%|██████████| 1250/1250 [01:55<00:00, 10.83it/s]\n"
     ]
    },
    {
     "name": "stdout",
     "output_type": "stream",
     "text": [
      "\n",
      " Epoch =  15\n",
      "\n",
      " Training loss =  0.12578753418750407\n",
      "\n",
      " Validation loss =  0.12086191719628496\n",
      "\n",
      " Validation acc =  0.95645\n"
     ]
    },
    {
     "name": "stderr",
     "output_type": "stream",
     "text": [
      "100%|██████████| 1250/1250 [01:52<00:00, 11.13it/s]\n"
     ]
    },
    {
     "name": "stdout",
     "output_type": "stream",
     "text": [
      "\n",
      " Epoch =  16\n",
      "\n",
      " Training loss =  0.12436562092052045\n",
      "\n",
      " Validation loss =  0.11966732918609871\n",
      "\n",
      " Validation acc =  0.956825\n"
     ]
    },
    {
     "name": "stderr",
     "output_type": "stream",
     "text": [
      "100%|██████████| 1250/1250 [01:52<00:00, 11.13it/s]\n"
     ]
    },
    {
     "name": "stdout",
     "output_type": "stream",
     "text": [
      "\n",
      " Epoch =  17\n",
      "\n",
      " Training loss =  0.12297046547411147\n",
      "\n",
      " Validation loss =  0.1242517148789507\n",
      "\n",
      " Validation acc =  0.956925\n"
     ]
    },
    {
     "name": "stderr",
     "output_type": "stream",
     "text": [
      "100%|██████████| 1250/1250 [01:52<00:00, 11.12it/s]\n"
     ]
    },
    {
     "name": "stdout",
     "output_type": "stream",
     "text": [
      "\n",
      " Epoch =  18\n",
      "\n",
      " Training loss =  0.121644294362957\n",
      "\n",
      " Validation loss =  0.11985388390781186\n",
      "\n",
      " Validation acc =  0.956825\n"
     ]
    },
    {
     "name": "stderr",
     "output_type": "stream",
     "text": [
      "100%|██████████| 1250/1250 [01:52<00:00, 11.15it/s]\n"
     ]
    },
    {
     "name": "stdout",
     "output_type": "stream",
     "text": [
      "\n",
      " Epoch =  19\n",
      "\n",
      " Training loss =  0.12035788774175558\n",
      "\n",
      " Validation loss =  0.11710364049872048\n",
      "\n",
      " Validation acc =  0.957925\n"
     ]
    },
    {
     "name": "stderr",
     "output_type": "stream",
     "text": [
      "100%|██████████| 1250/1250 [01:52<00:00, 11.15it/s]\n"
     ]
    },
    {
     "name": "stdout",
     "output_type": "stream",
     "text": [
      "\n",
      " Epoch =  20\n",
      "\n",
      " Training loss =  0.11914596096213755\n",
      "\n",
      " Validation loss =  0.12110787796611597\n",
      "\n",
      " Validation acc =  0.958025\n"
     ]
    },
    {
     "name": "stderr",
     "output_type": "stream",
     "text": [
      "100%|██████████| 1250/1250 [01:52<00:00, 11.13it/s]\n"
     ]
    },
    {
     "name": "stdout",
     "output_type": "stream",
     "text": [
      "\n",
      " Epoch =  21\n",
      "\n",
      " Training loss =  0.11795086508513969\n",
      "\n",
      " Validation loss =  0.11655461528717515\n",
      "\n",
      " Validation acc =  0.9577\n"
     ]
    },
    {
     "name": "stderr",
     "output_type": "stream",
     "text": [
      "100%|██████████| 1250/1250 [01:52<00:00, 11.10it/s]\n"
     ]
    },
    {
     "name": "stdout",
     "output_type": "stream",
     "text": [
      "\n",
      " Epoch =  22\n",
      "\n",
      " Training loss =  0.11680961377823823\n",
      "\n",
      " Validation loss =  0.11464327811547519\n",
      "\n",
      " Validation acc =  0.958125\n"
     ]
    },
    {
     "name": "stderr",
     "output_type": "stream",
     "text": [
      "100%|██████████| 1250/1250 [01:52<00:00, 11.13it/s]\n"
     ]
    },
    {
     "name": "stdout",
     "output_type": "stream",
     "text": [
      "\n",
      " Epoch =  23\n",
      "\n",
      " Training loss =  0.11569443081399766\n",
      "\n",
      " Validation loss =  0.12065954579217841\n",
      "\n",
      " Validation acc =  0.959225\n"
     ]
    },
    {
     "name": "stderr",
     "output_type": "stream",
     "text": [
      "100%|██████████| 1250/1250 [01:52<00:00, 11.13it/s]\n"
     ]
    },
    {
     "name": "stdout",
     "output_type": "stream",
     "text": [
      "\n",
      " Epoch =  24\n",
      "\n",
      " Training loss =  0.11466111331054316\n",
      "\n",
      " Validation loss =  0.11063704554835288\n",
      "\n",
      " Validation acc =  0.961125\n"
     ]
    },
    {
     "name": "stderr",
     "output_type": "stream",
     "text": [
      "100%|██████████| 1250/1250 [01:52<00:00, 11.11it/s]\n"
     ]
    },
    {
     "name": "stdout",
     "output_type": "stream",
     "text": [
      "\n",
      " Epoch =  25\n",
      "\n",
      " Training loss =  0.11360740328275684\n",
      "\n",
      " Validation loss =  0.11363854566196233\n",
      "\n",
      " Validation acc =  0.958725\n"
     ]
    },
    {
     "name": "stderr",
     "output_type": "stream",
     "text": [
      "100%|██████████| 1250/1250 [01:52<00:00, 11.13it/s]\n"
     ]
    },
    {
     "name": "stdout",
     "output_type": "stream",
     "text": [
      "\n",
      " Epoch =  26\n",
      "\n",
      " Training loss =  0.11261027151034499\n",
      "\n",
      " Validation loss =  0.10927252973927107\n",
      "\n",
      " Validation acc =  0.959975\n"
     ]
    },
    {
     "name": "stderr",
     "output_type": "stream",
     "text": [
      "100%|██████████| 1250/1250 [01:52<00:00, 11.09it/s]\n"
     ]
    },
    {
     "name": "stdout",
     "output_type": "stream",
     "text": [
      "\n",
      " Epoch =  27\n",
      "\n",
      " Training loss =  0.11163814602967138\n",
      "\n",
      " Validation loss =  0.10781311325725662\n",
      "\n",
      " Validation acc =  0.9615\n"
     ]
    },
    {
     "name": "stderr",
     "output_type": "stream",
     "text": [
      "100%|██████████| 1250/1250 [01:53<00:00, 11.06it/s]\n"
     ]
    },
    {
     "name": "stdout",
     "output_type": "stream",
     "text": [
      "\n",
      " Epoch =  28\n",
      "\n",
      " Training loss =  0.11065995337410021\n",
      "\n",
      " Validation loss =  0.11693245100879082\n",
      "\n",
      " Validation acc =  0.960125\n"
     ]
    },
    {
     "name": "stderr",
     "output_type": "stream",
     "text": [
      "100%|██████████| 1250/1250 [01:53<00:00, 11.01it/s]\n"
     ]
    },
    {
     "name": "stdout",
     "output_type": "stream",
     "text": [
      "\n",
      " Epoch =  29\n",
      "\n",
      " Training loss =  0.10975647661313619\n",
      "\n",
      " Validation loss =  0.10654959561576145\n",
      "\n",
      " Validation acc =  0.962175\n"
     ]
    },
    {
     "name": "stderr",
     "output_type": "stream",
     "text": [
      "100%|██████████| 1250/1250 [01:53<00:00, 11.05it/s]\n"
     ]
    },
    {
     "name": "stdout",
     "output_type": "stream",
     "text": [
      "\n",
      " Epoch =  30\n",
      "\n",
      " Training loss =  0.10883124528198213\n",
      "\n",
      " Validation loss =  0.10742610101881456\n",
      "\n",
      " Validation acc =  0.96205\n"
     ]
    },
    {
     "name": "stderr",
     "output_type": "stream",
     "text": [
      "100%|██████████| 1250/1250 [01:53<00:00, 11.02it/s]\n"
     ]
    },
    {
     "name": "stdout",
     "output_type": "stream",
     "text": [
      "\n",
      " Epoch =  31\n",
      "\n",
      " Training loss =  0.10793670416827209\n",
      "\n",
      " Validation loss =  0.10931819226803206\n",
      "\n",
      " Validation acc =  0.961125\n"
     ]
    },
    {
     "name": "stderr",
     "output_type": "stream",
     "text": [
      "100%|██████████| 1250/1250 [01:52<00:00, 11.07it/s]\n"
     ]
    },
    {
     "name": "stdout",
     "output_type": "stream",
     "text": [
      "\n",
      " Epoch =  32\n",
      "\n",
      " Training loss =  0.10706599744750105\n",
      "\n",
      " Validation loss =  0.10635696850684676\n",
      "\n",
      " Validation acc =  0.963075\n"
     ]
    },
    {
     "name": "stderr",
     "output_type": "stream",
     "text": [
      "100%|██████████| 1250/1250 [01:52<00:00, 11.10it/s]\n"
     ]
    },
    {
     "name": "stdout",
     "output_type": "stream",
     "text": [
      "\n",
      " Epoch =  33\n",
      "\n",
      " Training loss =  0.10621749275294869\n",
      "\n",
      " Validation loss =  0.10476015620160485\n",
      "\n",
      " Validation acc =  0.962925\n"
     ]
    },
    {
     "name": "stderr",
     "output_type": "stream",
     "text": [
      "100%|██████████| 1250/1250 [01:52<00:00, 11.15it/s]\n"
     ]
    },
    {
     "name": "stdout",
     "output_type": "stream",
     "text": [
      "\n",
      " Epoch =  34\n",
      "\n",
      " Training loss =  0.10540570294301971\n",
      "\n",
      " Validation loss =  0.1033571576766226\n",
      "\n",
      " Validation acc =  0.9645\n"
     ]
    },
    {
     "name": "stderr",
     "output_type": "stream",
     "text": [
      "100%|██████████| 1250/1250 [01:52<00:00, 11.13it/s]\n"
     ]
    },
    {
     "name": "stdout",
     "output_type": "stream",
     "text": [
      "\n",
      " Epoch =  35\n",
      "\n",
      " Training loss =  0.10459380669118798\n",
      "\n",
      " Validation loss =  0.10664926581467178\n",
      "\n",
      " Validation acc =  0.963225\n"
     ]
    },
    {
     "name": "stderr",
     "output_type": "stream",
     "text": [
      "100%|██████████| 1250/1250 [01:52<00:00, 11.06it/s]\n"
     ]
    },
    {
     "name": "stdout",
     "output_type": "stream",
     "text": [
      "\n",
      " Epoch =  36\n",
      "\n",
      " Training loss =  0.10379151291320163\n",
      "\n",
      " Validation loss =  0.1090935726112469\n",
      "\n",
      " Validation acc =  0.9621\n"
     ]
    },
    {
     "name": "stderr",
     "output_type": "stream",
     "text": [
      "100%|██████████| 1250/1250 [01:52<00:00, 11.12it/s]\n"
     ]
    },
    {
     "name": "stdout",
     "output_type": "stream",
     "text": [
      "\n",
      " Epoch =  37\n",
      "\n",
      " Training loss =  0.1030065659880702\n",
      "\n",
      " Validation loss =  0.10384451002904473\n",
      "\n",
      " Validation acc =  0.964425\n"
     ]
    },
    {
     "name": "stderr",
     "output_type": "stream",
     "text": [
      "100%|██████████| 1250/1250 [01:51<00:00, 11.17it/s]\n"
     ]
    },
    {
     "name": "stdout",
     "output_type": "stream",
     "text": [
      "\n",
      " Epoch =  38\n",
      "\n",
      " Training loss =  0.10224083670918738\n",
      "\n",
      " Validation loss =  0.10336843736952905\n",
      "\n",
      " Validation acc =  0.96405\n"
     ]
    },
    {
     "name": "stderr",
     "output_type": "stream",
     "text": [
      "100%|██████████| 1250/1250 [01:52<00:00, 11.11it/s]\n"
     ]
    },
    {
     "name": "stdout",
     "output_type": "stream",
     "text": [
      "\n",
      " Epoch =  39\n",
      "\n",
      " Training loss =  0.10148714089107301\n",
      "\n",
      " Validation loss =  0.10539061643335956\n",
      "\n",
      " Validation acc =  0.964425\n"
     ]
    }
   ],
   "source": [
    "result = train_model(model)"
   ]
  },
  {
   "cell_type": "code",
   "execution_count": 10,
   "metadata": {},
   "outputs": [
    {
     "name": "stdout",
     "output_type": "stream",
     "text": [
      "Accuracy of the network on the validation images: 96 %\n"
     ]
    }
   ],
   "source": [
    "#dataiter = iter(testloader)\n",
    "#images, labels = dataiter.next()\n",
    "\n",
    "#outputs = model(images)\n",
    "\n",
    "correct = 0\n",
    "total = 0\n",
    "with torch.no_grad():\n",
    "    for data in testloader:\n",
    "        images, labels = data\n",
    "        images, labels = images.to(device), labels.to(device)\n",
    "        outputs = model(images).round()\n",
    "        #print(\"Expected : \", labels, \"Predicted : \", outputs)\n",
    "        total += labels.size(0)\n",
    "        correct += (outputs == labels).sum().item()\n",
    "        #if (outputs == labels).sum().item() ==0:\n",
    "        #    print(\"Expected : \", labels, \"Predicted : \", outputs)\n",
    "\n",
    "print('Accuracy of the network on the validation images: %d %%' % (100. * correct / total))"
   ]
  },
  {
   "cell_type": "code",
   "execution_count": 11,
   "metadata": {},
   "outputs": [],
   "source": [
    "Path = \"./result/gpu_classification_g\"+str(rescale_val)+\"train.pt\"\n",
    "torch.save(model.state_dict(), Path)"
   ]
  },
  {
   "cell_type": "code",
   "execution_count": null,
   "metadata": {},
   "outputs": [],
   "source": []
  }
 ],
 "metadata": {
  "kernelspec": {
   "display_name": "Python 2",
   "language": "python",
   "name": "python2"
  },
  "language_info": {
   "codemirror_mode": {
    "name": "ipython",
    "version": 2
   },
   "file_extension": ".py",
   "mimetype": "text/x-python",
   "name": "python",
   "nbconvert_exporter": "python",
   "pygments_lexer": "ipython2",
   "version": "2.7.15"
  }
 },
 "nbformat": 4,
 "nbformat_minor": 4
}
