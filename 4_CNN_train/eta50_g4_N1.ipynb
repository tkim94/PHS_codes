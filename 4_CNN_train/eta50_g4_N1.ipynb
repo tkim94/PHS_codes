{
 "cells": [
  {
   "cell_type": "code",
   "execution_count": 1,
   "metadata": {},
   "outputs": [
    {
     "name": "stderr",
     "output_type": "stream",
     "text": [
      "/tmpscratch/tkim12/.local/lib/python3.6/site-packages/tqdm/auto.py:22: TqdmWarning: IProgress not found. Please update jupyter and ipywidgets. See https://ipywidgets.readthedocs.io/en/stable/user_install.html\n",
      "  from .autonotebook import tqdm as notebook_tqdm\n"
     ]
    }
   ],
   "source": [
    "import torch\n",
    "import pandas as pd\n",
    "import gc\n",
    "import matplotlib\n",
    "matplotlib.use('Agg')\n",
    "\n",
    "import matplotlib.pyplot as plt\n",
    "import numpy as np\n",
    "import sklearn\n",
    "from sklearn.model_selection import train_test_split\n",
    "from sklearn import metrics\n",
    "from sklearn.metrics import accuracy_score\n",
    "from sklearn.utils import shuffle\n",
    "\n",
    "import torch.nn as nn\n",
    "import torch.nn.functional as F\n",
    "\n",
    "import torch.optim as optim\n",
    "\n",
    "from model.classifier import Net\n",
    "\n",
    "from torch.autograd import Variable\n",
    "\n",
    "from matplotlib import pyplot\n",
    "\n",
    "from tqdm import tqdm"
   ]
  },
  {
   "cell_type": "code",
   "execution_count": 2,
   "metadata": {},
   "outputs": [
    {
     "name": "stdout",
     "output_type": "stream",
     "text": [
      "cuda:0\n"
     ]
    }
   ],
   "source": [
    "device = torch.device(\"cuda:0\" if torch.cuda.is_available() else \"cpu\")\n",
    "\n",
    "# Assuming that we are on a CUDA machine, this should print a CUDA device:\n",
    "\n",
    "print(device)"
   ]
  },
  {
   "cell_type": "code",
   "execution_count": 3,
   "metadata": {},
   "outputs": [],
   "source": [
    "file_loc = '/afs/crc.nd.edu/user/t/tkim12/Work/CMB_ML/Data/Nside1024/'\n",
    "\n",
    "# Load background\n",
    "bkg_file = 400\n",
    "CMB_bkg = []\n",
    "for file_num in range(bkg_file):\n",
    "    Xtemp = np.load(file_loc+\"quicklens_backgound/500_events_90Sqr_lensed_Backgroundlmax3500_\"+str(file_num)+\".npy\")\n",
    "    for k in range(Xtemp.shape[0]):\n",
    "        CMB_bkg.append(Xtemp[k])\n",
    "\n",
    "\n",
    "# Load CMB signal only (g = 1)\n",
    "CMB_sig = []\n",
    "for file_num in range(1,201):\n",
    "    Xtemp = np.load(file_loc+\"PHS_signal/500_eta50PHS_g1_Sig_\"+str(file_num)+\".npy\")\n",
    "    for k in range(Xtemp.shape[0]):\n",
    "        CMB_sig.append(Xtemp[k])"
   ]
  },
  {
   "cell_type": "code",
   "execution_count": 4,
   "metadata": {},
   "outputs": [],
   "source": [
    "CMB_bkg = np.array(CMB_bkg)\n",
    "CMB_sig = np.array(CMB_sig)\n",
    "\n",
    "CMB_bkg_num = CMB_bkg.shape[0]\n",
    "\n",
    "\n",
    "# Prepare pure background and background + signal\n",
    "rescale_val = 3\n",
    "\n",
    "bkgonly = CMB_bkg[0:int(CMB_bkg_num/2)]\n",
    "SpB = CMB_bkg[int(CMB_bkg_num/2):]+ rescale_val *CMB_sig\n",
    "\n",
    "bkg_indicator = np.zeros(int(CMB_bkg_num/2))\n",
    "sig_indicator = np.ones(int(CMB_bkg_num/2))"
   ]
  },
  {
   "cell_type": "code",
   "execution_count": 5,
   "metadata": {},
   "outputs": [
    {
     "data": {
      "text/plain": [
       "1.0"
      ]
     },
     "execution_count": 5,
     "metadata": {},
     "output_type": "execute_result"
    }
   ],
   "source": [
    "#plt.imshow(CMB_sig[4])\n",
    "#plt.savefig('sample_img.pdf')\n",
    "sig_indicator[100]"
   ]
  },
  {
   "cell_type": "code",
   "execution_count": 6,
   "metadata": {},
   "outputs": [
    {
     "name": "stdout",
     "output_type": "stream",
     "text": [
      "90 90\n",
      "Training sample : 160000 , Validation sample : 40000\n"
     ]
    }
   ],
   "source": [
    "X_data = np.concatenate((bkgonly,      SpB          ))\n",
    "Y_data = np.concatenate((bkg_indicator,sig_indicator))\n",
    "\n",
    "wid, hei = X_data.shape[1], X_data.shape[2]\n",
    "\n",
    "X_data, Y_data = shuffle(X_data, Y_data, random_state=23)\n",
    "\n",
    "print(wid, hei)\n",
    "#print(Y_data)\n",
    "\n",
    "# Data Splitting\n",
    "ts1 = 0.2\n",
    "rs1 = 23\n",
    "X_train, X_test, Y_train, Y_test = train_test_split(X_data, Y_data, test_size = ts1, random_state = rs1)\n",
    "\n",
    "X_data = []\n",
    "Y_data = []\n",
    "\n",
    "X_train = X_train.reshape(X_train.shape[0], 1, wid, hei).astype('float64')\n",
    "X_train = torch.from_numpy(X_train)\n",
    "X_test = X_test.reshape(X_test.shape[0], 1, wid, hei).astype('float64')\n",
    "X_test = torch.from_numpy(X_test)\n",
    "\n",
    "Y_train = Y_train.reshape(Y_train.shape[0], 1).astype('float64')\n",
    "Y_train = torch.from_numpy(Y_train)\n",
    "Y_test = Y_test.reshape(Y_test.shape[0], 1).astype('float64')\n",
    "Y_test = torch.from_numpy(Y_test)\n",
    "\n",
    "print(\"Training sample : \"+str(X_train.shape[0])+\" , Validation sample : \"+str(X_test.shape[0]))\n",
    "\n",
    "from torch.utils.data import Dataset, TensorDataset, DataLoader\n",
    "\n",
    "train_data = TensorDataset(X_train, Y_train)\n",
    "test_data = TensorDataset(X_test, Y_test)\n",
    "\n",
    "trainloader = DataLoader(dataset=train_data, batch_size=128, shuffle=True)\n",
    "testloader = DataLoader(dataset=test_data, batch_size=1, shuffle=False)"
   ]
  },
  {
   "cell_type": "code",
   "execution_count": 7,
   "metadata": {},
   "outputs": [
    {
     "name": "stdout",
     "output_type": "stream",
     "text": [
      "Net(\n",
      "  (conv1): Conv2d(1, 8, kernel_size=(16, 16), stride=(2, 2), padding=(7, 7))\n",
      "  (conv2): Conv2d(8, 8, kernel_size=(8, 8), stride=(1, 1), padding=(1, 1))\n",
      "  (pool1): MaxPool2d(kernel_size=(2, 2), stride=(2, 2), padding=0, dilation=1, ceil_mode=False)\n",
      "  (conv3): Conv2d(8, 8, kernel_size=(7, 7), stride=(1, 1), padding=(3, 3))\n",
      "  (pool2): MaxPool2d(kernel_size=(2, 2), stride=(2, 2), padding=0, dilation=1, ceil_mode=False)\n",
      "  (conv4): Conv2d(8, 8, kernel_size=(4, 4), stride=(2, 2), padding=(1, 1))\n",
      "  (avepool): AvgPool2d(kernel_size=(2, 2), stride=(1, 1), padding=0)\n",
      "  (fc1): Linear(in_features=128, out_features=200, bias=True)\n",
      "  (fc2): Linear(in_features=200, out_features=200, bias=True)\n",
      "  (fin): Linear(in_features=200, out_features=1, bias=True)\n",
      "  (sig): Sigmoid()\n",
      ")\n"
     ]
    }
   ],
   "source": [
    "trained_class = './result/eta50_gpu_classification_g4train.pt'\n",
    "class_model = Net()\n",
    "class_model.load_state_dict(torch.load(trained_class, map_location=torch.device('cpu')))\n",
    "class_model.eval()\n",
    "model = class_model.double()\n",
    "\n",
    "#model = Net()\n",
    "#model = model.double()\n",
    "print(model)\n",
    "model.to(device)\n",
    "\n",
    "\n",
    "#from tqdm import tqdm\n",
    "# https://medium.com/analytics-vidhya/simple-neural-network-with-bceloss-for-binary-classification-for-a-custom-dataset-8d5c69ffffee\n",
    "loss_fn = nn.BCELoss()"
   ]
  },
  {
   "cell_type": "code",
   "execution_count": 8,
   "metadata": {},
   "outputs": [],
   "source": [
    "def train_model(model, epochs=40, lr=0.0001):\n",
    "    optimizer = optim.Adam(model.parameters(), lr=lr)\n",
    "\n",
    "    train_loss = []\n",
    "    test_loss = []\n",
    "    train_accuracy = []\n",
    "    test_accuracy = []\n",
    "    for epoch in range(epochs):\n",
    "        model.train() # train mode (affects batchnorm layers:\n",
    "                      # in the subsequent forward passes they'll\n",
    "                      # exhibit 'train' behaviour, i.e. they'll\n",
    "                      # normalize activations over batches)\n",
    "        for i, (X, y) in enumerate(tqdm(trainloader)):\n",
    "        #for i, (X, y) in enumerate(trainloader):\n",
    "            X, y = X.to(device), y.to(device)\n",
    "            #print(X.is_cuda, y.is_cuda)\n",
    "\n",
    "            pred = model(X)\n",
    "            loss = loss_fn(pred, y)\n",
    "            loss.backward()\n",
    "            optimizer.step()\n",
    "            optimizer.zero_grad()\n",
    "\n",
    "            train_loss.append(np.mean(loss.item()))\n",
    "            train_accuracy.append((pred.round() == y).to(torch.float32).mean().item())\n",
    "\n",
    "        model.eval() # test mode (affects batchnorm layers:\n",
    "                     # in the subsequent forward passes they'll\n",
    "                     # exhibit 'test' behaviour, i.e. they'll\n",
    "                     # use the accumulated running statistics\n",
    "                     # to normalize activations)\n",
    "        epoch_losses = []\n",
    "        epoch_accuracies = []\n",
    "        with torch.no_grad(): # avoid calculating gradients during evaluation\n",
    "            for X, y in testloader:\n",
    "                X, y = X.to(device), y.to(device)\n",
    "                pred = model(X)\n",
    "                pred_round = pred.round()\n",
    "\n",
    "                epoch_losses.append(loss_fn(pred, y).item())\n",
    "                _, pred = torch.max(pred.data, 1) # pred = index of maximal output along axis=1\n",
    "                epoch_accuracies.append(\n",
    "                    (pred_round == y).to(torch.float32).mean().item()\n",
    "                )\n",
    "        test_loss.append(np.mean(epoch_losses))\n",
    "        print(\"\\n Epoch = \",epoch)\n",
    "        print(\"\\n Training loss = \", np.mean(train_loss))\n",
    "        print(\"\\n Validation loss = \", np.mean(epoch_losses))\n",
    "        #print(\"\\n Training acc = \", train_accuracy)\n",
    "        print(\"\\n Validation acc = \", np.mean(epoch_accuracies))\n",
    "        test_accuracy.append(np.mean(epoch_accuracies))\n",
    "\n",
    "    return dict(\n",
    "        train_loss=train_loss,\n",
    "        test_loss=test_loss,\n",
    "        train_accuracy=train_accuracy,\n",
    "        test_accuracy=test_accuracy\n",
    "    )"
   ]
  },
  {
   "cell_type": "code",
   "execution_count": 9,
   "metadata": {
    "scrolled": true
   },
   "outputs": [
    {
     "name": "stderr",
     "output_type": "stream",
     "text": [
      "100%|██████████| 1250/1250 [01:54<00:00, 10.88it/s]\n"
     ]
    },
    {
     "name": "stdout",
     "output_type": "stream",
     "text": [
      "\n",
      " Epoch =  0\n",
      "\n",
      " Training loss =  0.20465458515652366\n",
      "\n",
      " Validation loss =  0.22080158239725284\n",
      "\n",
      " Validation acc =  0.91105\n"
     ]
    },
    {
     "name": "stderr",
     "output_type": "stream",
     "text": [
      "100%|██████████| 1250/1250 [02:01<00:00, 10.26it/s]\n"
     ]
    },
    {
     "name": "stdout",
     "output_type": "stream",
     "text": [
      "\n",
      " Epoch =  1\n",
      "\n",
      " Training loss =  0.2003278021262484\n",
      "\n",
      " Validation loss =  0.2115437101770928\n",
      "\n",
      " Validation acc =  0.91635\n"
     ]
    },
    {
     "name": "stderr",
     "output_type": "stream",
     "text": [
      "100%|██████████| 1250/1250 [01:58<00:00, 10.58it/s]\n"
     ]
    },
    {
     "name": "stdout",
     "output_type": "stream",
     "text": [
      "\n",
      " Epoch =  2\n",
      "\n",
      " Training loss =  0.19591328820819034\n",
      "\n",
      " Validation loss =  0.2023178637630879\n",
      "\n",
      " Validation acc =  0.91995\n"
     ]
    },
    {
     "name": "stderr",
     "output_type": "stream",
     "text": [
      "100%|██████████| 1250/1250 [01:56<00:00, 10.71it/s]\n"
     ]
    },
    {
     "name": "stdout",
     "output_type": "stream",
     "text": [
      "\n",
      " Epoch =  3\n",
      "\n",
      " Training loss =  0.19221412148854206\n",
      "\n",
      " Validation loss =  0.20414231290040458\n",
      "\n",
      " Validation acc =  0.917475\n"
     ]
    },
    {
     "name": "stderr",
     "output_type": "stream",
     "text": [
      "100%|██████████| 1250/1250 [01:56<00:00, 10.73it/s]\n"
     ]
    },
    {
     "name": "stdout",
     "output_type": "stream",
     "text": [
      "\n",
      " Epoch =  4\n",
      "\n",
      " Training loss =  0.18837845195579958\n",
      "\n",
      " Validation loss =  0.19253758336530474\n",
      "\n",
      " Validation acc =  0.92435\n"
     ]
    },
    {
     "name": "stderr",
     "output_type": "stream",
     "text": [
      "100%|██████████| 1250/1250 [01:56<00:00, 10.75it/s]\n"
     ]
    },
    {
     "name": "stdout",
     "output_type": "stream",
     "text": [
      "\n",
      " Epoch =  5\n",
      "\n",
      " Training loss =  0.18479057361830048\n",
      "\n",
      " Validation loss =  0.17677036343478875\n",
      "\n",
      " Validation acc =  0.931825\n"
     ]
    },
    {
     "name": "stderr",
     "output_type": "stream",
     "text": [
      "100%|██████████| 1250/1250 [01:56<00:00, 10.75it/s]\n"
     ]
    },
    {
     "name": "stdout",
     "output_type": "stream",
     "text": [
      "\n",
      " Epoch =  6\n",
      "\n",
      " Training loss =  0.1812606557514247\n",
      "\n",
      " Validation loss =  0.17232606294188704\n",
      "\n",
      " Validation acc =  0.932225\n"
     ]
    },
    {
     "name": "stderr",
     "output_type": "stream",
     "text": [
      "100%|██████████| 1250/1250 [01:56<00:00, 10.73it/s]\n"
     ]
    },
    {
     "name": "stdout",
     "output_type": "stream",
     "text": [
      "\n",
      " Epoch =  7\n",
      "\n",
      " Training loss =  0.17785034944196695\n",
      "\n",
      " Validation loss =  0.1714666495530868\n",
      "\n",
      " Validation acc =  0.932825\n"
     ]
    },
    {
     "name": "stderr",
     "output_type": "stream",
     "text": [
      "100%|██████████| 1250/1250 [01:56<00:00, 10.77it/s]\n"
     ]
    },
    {
     "name": "stdout",
     "output_type": "stream",
     "text": [
      "\n",
      " Epoch =  8\n",
      "\n",
      " Training loss =  0.17428795656816842\n",
      "\n",
      " Validation loss =  0.176785038983228\n",
      "\n",
      " Validation acc =  0.93115\n"
     ]
    },
    {
     "name": "stderr",
     "output_type": "stream",
     "text": [
      "100%|██████████| 1250/1250 [01:55<00:00, 10.78it/s]\n"
     ]
    },
    {
     "name": "stdout",
     "output_type": "stream",
     "text": [
      "\n",
      " Epoch =  9\n",
      "\n",
      " Training loss =  0.1709015228564931\n",
      "\n",
      " Validation loss =  0.17113653213790567\n",
      "\n",
      " Validation acc =  0.933475\n"
     ]
    },
    {
     "name": "stderr",
     "output_type": "stream",
     "text": [
      "100%|██████████| 1250/1250 [01:55<00:00, 10.78it/s]\n"
     ]
    },
    {
     "name": "stdout",
     "output_type": "stream",
     "text": [
      "\n",
      " Epoch =  10\n",
      "\n",
      " Training loss =  0.16753928500991444\n",
      "\n",
      " Validation loss =  0.15980508900014234\n",
      "\n",
      " Validation acc =  0.9386\n"
     ]
    },
    {
     "name": "stderr",
     "output_type": "stream",
     "text": [
      "100%|██████████| 1250/1250 [01:55<00:00, 10.78it/s]\n"
     ]
    },
    {
     "name": "stdout",
     "output_type": "stream",
     "text": [
      "\n",
      " Epoch =  11\n",
      "\n",
      " Training loss =  0.1642443625638262\n",
      "\n",
      " Validation loss =  0.13880627034336132\n",
      "\n",
      " Validation acc =  0.9471\n"
     ]
    },
    {
     "name": "stderr",
     "output_type": "stream",
     "text": [
      "100%|██████████| 1250/1250 [01:56<00:00, 10.77it/s]\n"
     ]
    },
    {
     "name": "stdout",
     "output_type": "stream",
     "text": [
      "\n",
      " Epoch =  12\n",
      "\n",
      " Training loss =  0.16099939348064515\n",
      "\n",
      " Validation loss =  0.13389962830392907\n",
      "\n",
      " Validation acc =  0.94905\n"
     ]
    },
    {
     "name": "stderr",
     "output_type": "stream",
     "text": [
      "100%|██████████| 1250/1250 [01:56<00:00, 10.77it/s]\n"
     ]
    },
    {
     "name": "stdout",
     "output_type": "stream",
     "text": [
      "\n",
      " Epoch =  13\n",
      "\n",
      " Training loss =  0.15776855017866384\n",
      "\n",
      " Validation loss =  0.140638496296769\n",
      "\n",
      " Validation acc =  0.94655\n"
     ]
    },
    {
     "name": "stderr",
     "output_type": "stream",
     "text": [
      "100%|██████████| 1250/1250 [01:56<00:00, 10.76it/s]\n"
     ]
    },
    {
     "name": "stdout",
     "output_type": "stream",
     "text": [
      "\n",
      " Epoch =  14\n",
      "\n",
      " Training loss =  0.15462192938262379\n",
      "\n",
      " Validation loss =  0.13010732887316018\n",
      "\n",
      " Validation acc =  0.9506\n"
     ]
    },
    {
     "name": "stderr",
     "output_type": "stream",
     "text": [
      "100%|██████████| 1250/1250 [01:56<00:00, 10.75it/s]\n"
     ]
    },
    {
     "name": "stdout",
     "output_type": "stream",
     "text": [
      "\n",
      " Epoch =  15\n",
      "\n",
      " Training loss =  0.15162973971755614\n",
      "\n",
      " Validation loss =  0.11590189205269831\n",
      "\n",
      " Validation acc =  0.95745\n"
     ]
    },
    {
     "name": "stderr",
     "output_type": "stream",
     "text": [
      "100%|██████████| 1250/1250 [01:56<00:00, 10.76it/s]\n"
     ]
    },
    {
     "name": "stdout",
     "output_type": "stream",
     "text": [
      "\n",
      " Epoch =  16\n",
      "\n",
      " Training loss =  0.14859402187185278\n",
      "\n",
      " Validation loss =  0.1108549494498533\n",
      "\n",
      " Validation acc =  0.958175\n"
     ]
    },
    {
     "name": "stderr",
     "output_type": "stream",
     "text": [
      "100%|██████████| 1250/1250 [01:56<00:00, 10.73it/s]\n"
     ]
    },
    {
     "name": "stdout",
     "output_type": "stream",
     "text": [
      "\n",
      " Epoch =  17\n",
      "\n",
      " Training loss =  0.14565807738583908\n",
      "\n",
      " Validation loss =  0.11272286550997994\n",
      "\n",
      " Validation acc =  0.95745\n"
     ]
    },
    {
     "name": "stderr",
     "output_type": "stream",
     "text": [
      "100%|██████████| 1250/1250 [01:56<00:00, 10.71it/s]\n"
     ]
    },
    {
     "name": "stdout",
     "output_type": "stream",
     "text": [
      "\n",
      " Epoch =  18\n",
      "\n",
      " Training loss =  0.1428879692818146\n",
      "\n",
      " Validation loss =  0.1094911903901409\n",
      "\n",
      " Validation acc =  0.9587\n"
     ]
    },
    {
     "name": "stderr",
     "output_type": "stream",
     "text": [
      "100%|██████████| 1250/1250 [01:56<00:00, 10.73it/s]\n"
     ]
    },
    {
     "name": "stdout",
     "output_type": "stream",
     "text": [
      "\n",
      " Epoch =  19\n",
      "\n",
      " Training loss =  0.14012318780004854\n",
      "\n",
      " Validation loss =  0.0969954491566689\n",
      "\n",
      " Validation acc =  0.964725\n"
     ]
    },
    {
     "name": "stderr",
     "output_type": "stream",
     "text": [
      "100%|██████████| 1250/1250 [01:56<00:00, 10.75it/s]\n"
     ]
    },
    {
     "name": "stdout",
     "output_type": "stream",
     "text": [
      "\n",
      " Epoch =  20\n",
      "\n",
      " Training loss =  0.13740631466003544\n",
      "\n",
      " Validation loss =  0.09858184085825648\n",
      "\n",
      " Validation acc =  0.963825\n"
     ]
    },
    {
     "name": "stderr",
     "output_type": "stream",
     "text": [
      "100%|██████████| 1250/1250 [01:55<00:00, 10.79it/s]\n"
     ]
    },
    {
     "name": "stdout",
     "output_type": "stream",
     "text": [
      "\n",
      " Epoch =  21\n",
      "\n",
      " Training loss =  0.13484286479916396\n",
      "\n",
      " Validation loss =  0.09909154751242921\n",
      "\n",
      " Validation acc =  0.963\n"
     ]
    },
    {
     "name": "stderr",
     "output_type": "stream",
     "text": [
      "100%|██████████| 1250/1250 [01:55<00:00, 10.81it/s]\n"
     ]
    },
    {
     "name": "stdout",
     "output_type": "stream",
     "text": [
      "\n",
      " Epoch =  22\n",
      "\n",
      " Training loss =  0.13235393895208278\n",
      "\n",
      " Validation loss =  0.09149483809790301\n",
      "\n",
      " Validation acc =  0.9662\n"
     ]
    },
    {
     "name": "stderr",
     "output_type": "stream",
     "text": [
      "100%|██████████| 1250/1250 [01:56<00:00, 10.76it/s]\n"
     ]
    },
    {
     "name": "stdout",
     "output_type": "stream",
     "text": [
      "\n",
      " Epoch =  23\n",
      "\n",
      " Training loss =  0.1298706979257597\n",
      "\n",
      " Validation loss =  0.09533323947571144\n",
      "\n",
      " Validation acc =  0.965775\n"
     ]
    },
    {
     "name": "stderr",
     "output_type": "stream",
     "text": [
      "100%|██████████| 1250/1250 [01:55<00:00, 10.79it/s]\n"
     ]
    },
    {
     "name": "stdout",
     "output_type": "stream",
     "text": [
      "\n",
      " Epoch =  24\n",
      "\n",
      " Training loss =  0.1275031907703854\n",
      "\n",
      " Validation loss =  0.08463681251553386\n",
      "\n",
      " Validation acc =  0.968\n"
     ]
    },
    {
     "name": "stderr",
     "output_type": "stream",
     "text": [
      "100%|██████████| 1250/1250 [01:56<00:00, 10.76it/s]\n"
     ]
    },
    {
     "name": "stdout",
     "output_type": "stream",
     "text": [
      "\n",
      " Epoch =  25\n",
      "\n",
      " Training loss =  0.1251417013941755\n",
      "\n",
      " Validation loss =  0.07871682342706861\n",
      "\n",
      " Validation acc =  0.971375\n"
     ]
    },
    {
     "name": "stderr",
     "output_type": "stream",
     "text": [
      "100%|██████████| 1250/1250 [01:55<00:00, 10.79it/s]\n"
     ]
    },
    {
     "name": "stdout",
     "output_type": "stream",
     "text": [
      "\n",
      " Epoch =  26\n",
      "\n",
      " Training loss =  0.12281203230846192\n",
      "\n",
      " Validation loss =  0.07753042195419291\n",
      "\n",
      " Validation acc =  0.9725\n"
     ]
    },
    {
     "name": "stderr",
     "output_type": "stream",
     "text": [
      "100%|██████████| 1250/1250 [01:55<00:00, 10.81it/s]\n"
     ]
    },
    {
     "name": "stdout",
     "output_type": "stream",
     "text": [
      "\n",
      " Epoch =  27\n",
      "\n",
      " Training loss =  0.12062286978737574\n",
      "\n",
      " Validation loss =  0.06951267616823108\n",
      "\n",
      " Validation acc =  0.973725\n"
     ]
    },
    {
     "name": "stderr",
     "output_type": "stream",
     "text": [
      "100%|██████████| 1250/1250 [01:55<00:00, 10.80it/s]\n"
     ]
    },
    {
     "name": "stdout",
     "output_type": "stream",
     "text": [
      "\n",
      " Epoch =  28\n",
      "\n",
      " Training loss =  0.11841889354740741\n",
      "\n",
      " Validation loss =  0.07465280874244624\n",
      "\n",
      " Validation acc =  0.9727\n"
     ]
    },
    {
     "name": "stderr",
     "output_type": "stream",
     "text": [
      "100%|██████████| 1250/1250 [01:56<00:00, 10.76it/s]\n"
     ]
    },
    {
     "name": "stdout",
     "output_type": "stream",
     "text": [
      "\n",
      " Epoch =  29\n",
      "\n",
      " Training loss =  0.11635695947565056\n",
      "\n",
      " Validation loss =  0.07259221199553055\n",
      "\n",
      " Validation acc =  0.973075\n"
     ]
    },
    {
     "name": "stderr",
     "output_type": "stream",
     "text": [
      "100%|██████████| 1250/1250 [01:56<00:00, 10.76it/s]\n"
     ]
    },
    {
     "name": "stdout",
     "output_type": "stream",
     "text": [
      "\n",
      " Epoch =  30\n",
      "\n",
      " Training loss =  0.11429140007226546\n",
      "\n",
      " Validation loss =  0.06907658240799862\n",
      "\n",
      " Validation acc =  0.975225\n"
     ]
    },
    {
     "name": "stderr",
     "output_type": "stream",
     "text": [
      "100%|██████████| 1250/1250 [01:55<00:00, 10.79it/s]\n"
     ]
    },
    {
     "name": "stdout",
     "output_type": "stream",
     "text": [
      "\n",
      " Epoch =  31\n",
      "\n",
      " Training loss =  0.11231810686723798\n",
      "\n",
      " Validation loss =  0.05772139738364421\n",
      "\n",
      " Validation acc =  0.978525\n"
     ]
    },
    {
     "name": "stderr",
     "output_type": "stream",
     "text": [
      "100%|██████████| 1250/1250 [01:55<00:00, 10.80it/s]\n"
     ]
    },
    {
     "name": "stdout",
     "output_type": "stream",
     "text": [
      "\n",
      " Epoch =  32\n",
      "\n",
      " Training loss =  0.11050261869481783\n",
      "\n",
      " Validation loss =  0.059548697900236536\n",
      "\n",
      " Validation acc =  0.97855\n"
     ]
    },
    {
     "name": "stderr",
     "output_type": "stream",
     "text": [
      "100%|██████████| 1250/1250 [01:55<00:00, 10.84it/s]\n"
     ]
    },
    {
     "name": "stdout",
     "output_type": "stream",
     "text": [
      "\n",
      " Epoch =  33\n",
      "\n",
      " Training loss =  0.10857968057389915\n",
      "\n",
      " Validation loss =  0.07613828808521433\n",
      "\n",
      " Validation acc =  0.9734\n"
     ]
    },
    {
     "name": "stderr",
     "output_type": "stream",
     "text": [
      "100%|██████████| 1250/1250 [01:55<00:00, 10.84it/s]\n"
     ]
    },
    {
     "name": "stdout",
     "output_type": "stream",
     "text": [
      "\n",
      " Epoch =  34\n",
      "\n",
      " Training loss =  0.10677459733712699\n",
      "\n",
      " Validation loss =  0.05366219241213347\n",
      "\n",
      " Validation acc =  0.98115\n"
     ]
    },
    {
     "name": "stderr",
     "output_type": "stream",
     "text": [
      "100%|██████████| 1250/1250 [01:55<00:00, 10.81it/s]\n"
     ]
    },
    {
     "name": "stdout",
     "output_type": "stream",
     "text": [
      "\n",
      " Epoch =  35\n",
      "\n",
      " Training loss =  0.1050289091597905\n",
      "\n",
      " Validation loss =  0.05184554691023948\n",
      "\n",
      " Validation acc =  0.981925\n"
     ]
    },
    {
     "name": "stderr",
     "output_type": "stream",
     "text": [
      "100%|██████████| 1250/1250 [01:55<00:00, 10.84it/s]\n"
     ]
    },
    {
     "name": "stdout",
     "output_type": "stream",
     "text": [
      "\n",
      " Epoch =  36\n",
      "\n",
      " Training loss =  0.10326069296056364\n",
      "\n",
      " Validation loss =  0.05876555624074526\n",
      "\n",
      " Validation acc =  0.979125\n"
     ]
    },
    {
     "name": "stderr",
     "output_type": "stream",
     "text": [
      "100%|██████████| 1250/1250 [01:55<00:00, 10.86it/s]\n"
     ]
    },
    {
     "name": "stdout",
     "output_type": "stream",
     "text": [
      "\n",
      " Epoch =  37\n",
      "\n",
      " Training loss =  0.10160231621147019\n",
      "\n",
      " Validation loss =  0.059255407404198136\n",
      "\n",
      " Validation acc =  0.9789\n"
     ]
    },
    {
     "name": "stderr",
     "output_type": "stream",
     "text": [
      "100%|██████████| 1250/1250 [01:55<00:00, 10.84it/s]\n"
     ]
    },
    {
     "name": "stdout",
     "output_type": "stream",
     "text": [
      "\n",
      " Epoch =  38\n",
      "\n",
      " Training loss =  0.09993794688385613\n",
      "\n",
      " Validation loss =  0.04680211134546845\n",
      "\n",
      " Validation acc =  0.983125\n"
     ]
    },
    {
     "name": "stderr",
     "output_type": "stream",
     "text": [
      "100%|██████████| 1250/1250 [01:55<00:00, 10.83it/s]\n"
     ]
    },
    {
     "name": "stdout",
     "output_type": "stream",
     "text": [
      "\n",
      " Epoch =  39\n",
      "\n",
      " Training loss =  0.0983510370711301\n",
      "\n",
      " Validation loss =  0.04596914007616456\n",
      "\n",
      " Validation acc =  0.98395\n"
     ]
    }
   ],
   "source": [
    "result = train_model(model)"
   ]
  },
  {
   "cell_type": "code",
   "execution_count": 10,
   "metadata": {},
   "outputs": [
    {
     "name": "stdout",
     "output_type": "stream",
     "text": [
      "Accuracy of the network on the validation images: 96 %\n"
     ]
    }
   ],
   "source": [
    "#dataiter = iter(testloader)\n",
    "#images, labels = dataiter.next()\n",
    "\n",
    "#outputs = model(images)\n",
    "\n",
    "correct = 0\n",
    "total = 0\n",
    "with torch.no_grad():\n",
    "    for data in testloader:\n",
    "        images, labels = data\n",
    "        images, labels = images.to(device), labels.to(device)\n",
    "        outputs = model(images).round()\n",
    "        #print(\"Expected : \", labels, \"Predicted : \", outputs)\n",
    "        total += labels.size(0)\n",
    "        correct += (outputs == labels).sum().item()\n",
    "        #if (outputs == labels).sum().item() ==0:\n",
    "        #    print(\"Expected : \", labels, \"Predicted : \", outputs)\n",
    "\n",
    "print('Accuracy of the network on the validation images: %d %%' % (100. * correct / total))"
   ]
  },
  {
   "cell_type": "code",
   "execution_count": 10,
   "metadata": {},
   "outputs": [],
   "source": [
    "Path = \"./result/eta50_gpu_classification_g\"+str(rescale_val)+\"train.pt\"\n",
    "torch.save(model.state_dict(), Path)"
   ]
  },
  {
   "cell_type": "code",
   "execution_count": null,
   "metadata": {},
   "outputs": [],
   "source": []
  }
 ],
 "metadata": {
  "kernelspec": {
   "display_name": "Python 3",
   "language": "python",
   "name": "python3"
  },
  "language_info": {
   "codemirror_mode": {
    "name": "ipython",
    "version": 3
   },
   "file_extension": ".py",
   "mimetype": "text/x-python",
   "name": "python",
   "nbconvert_exporter": "python",
   "pygments_lexer": "ipython3",
   "version": "3.6.8"
  }
 },
 "nbformat": 4,
 "nbformat_minor": 4
}
