{
 "cells": [
  {
   "cell_type": "code",
   "execution_count": 1,
   "metadata": {},
   "outputs": [
    {
     "name": "stdout",
     "output_type": "stream",
     "text": [
      "Model Loaded\n",
      "Importing Data\n"
     ]
    }
   ],
   "source": [
    "import torch\n",
    "import os\n",
    "import numpy as np\n",
    "\n",
    "import random\n",
    "import sklearn\n",
    "from sklearn.model_selection import train_test_split\n",
    "from sklearn import metrics\n",
    "from sklearn.metrics import accuracy_score\n",
    "from sklearn.utils import shuffle\n",
    "\n",
    "import pandas as pd\n",
    "\n",
    "from model.classifier import Net as ClassNet\n",
    "\n",
    "trained_class = './result/eta50_gpu_classification_g3train.pt'\n",
    "class_model = ClassNet()\n",
    "class_model.load_state_dict(torch.load(trained_class, map_location=torch.device('cpu')))\n",
    "class_model.eval()\n",
    "class_model = class_model.double()\n",
    "\n",
    "print(\"Model Loaded\")\n",
    "\n",
    "print(\"Importing Data\")"
   ]
  },
  {
   "cell_type": "code",
   "execution_count": 2,
   "metadata": {},
   "outputs": [],
   "source": [
    "file_loc = '/afs/crc.nd.edu/user/t/tkim12/Work/CMB_ML/Data/Nside1024/'\n",
    "\n",
    "# Load background\n",
    "bkg_file = 20\n",
    "CMB_bkg = []\n",
    "for file_num in range(bkg_file):\n",
    "    Xtemp = np.load(file_loc+\"quicklens_backgound/500_events_90Sqr_lensed_Backgroundlmax3500_\"+str(file_num)+\".npy\")\n",
    "    for k in range(Xtemp.shape[0]):\n",
    "        CMB_bkg.append(Xtemp[k])\n",
    "\n",
    "\n",
    "# Load CMB signal only (g = 1)\n",
    "CMB_sig = []\n",
    "for file_num in range(1,201):\n",
    "    Xtemp = np.load(file_loc+\"PHS_signal/500_eta50PHS_g1_Sig_\"+str(file_num)+\".npy\")\n",
    "    for k in range(Xtemp.shape[0]):\n",
    "        CMB_sig.append(Xtemp[k])"
   ]
  },
  {
   "cell_type": "code",
   "execution_count": 3,
   "metadata": {},
   "outputs": [
    {
     "name": "stdout",
     "output_type": "stream",
     "text": [
      "5000 90 90\n"
     ]
    }
   ],
   "source": [
    "CMB_bkg = np.array(CMB_bkg)\n",
    "CMB_sig = np.array(CMB_sig)\n",
    "\n",
    "CMB_bkg1 = np.array(random.choices(CMB_bkg, k=5000))\n",
    "\n",
    "rescale_g = np.array([1, 2, 2.5, 3, 4])\n",
    "\n",
    "CMB_bkg2 = np.array(random.choices(CMB_bkg, k=5000)) + rescale_g[0]*np.array(random.choices(CMB_sig, k=5000))\n",
    "CMB_bkg3 = np.array(random.choices(CMB_bkg, k=5000)) + rescale_g[1]*np.array(random.choices(CMB_sig, k=5000))\n",
    "CMB_bkg4 = np.array(random.choices(CMB_bkg, k=5000)) + rescale_g[2]*np.array(random.choices(CMB_sig, k=5000))\n",
    "CMB_bkg5 = np.array(random.choices(CMB_bkg, k=5000)) + rescale_g[3]*np.array(random.choices(CMB_sig, k=5000))\n",
    "CMB_bkg6 = np.array(random.choices(CMB_bkg, k=5000)) + rescale_g[4]*np.array(random.choices(CMB_sig, k=5000))\n",
    "\n",
    "\n",
    "CMB_bkg1_num = CMB_bkg1.shape[0]\n",
    "\n",
    "\n",
    "Y_data = np.zeros(CMB_bkg1_num)\n",
    "\n",
    "wid, hei = CMB_bkg1.shape[1], CMB_bkg1.shape[2]\n",
    "print(CMB_bkg1.shape[0], wid, hei)\n",
    "\n",
    "\n",
    "CMB_bkg1 = CMB_bkg1.reshape(CMB_bkg1.shape[0], 1, wid, hei).astype('float64')\n",
    "CMB_bkg1 = torch.from_numpy(CMB_bkg1)\n",
    "\n",
    "CMB_bkg2 = CMB_bkg2.reshape(CMB_bkg2.shape[0], 1, wid, hei).astype('float64')\n",
    "CMB_bkg2 = torch.from_numpy(CMB_bkg2)\n",
    "\n",
    "CMB_bkg3 = CMB_bkg3.reshape(CMB_bkg3.shape[0], 1, wid, hei).astype('float64')\n",
    "CMB_bkg3 = torch.from_numpy(CMB_bkg3)\n",
    "\n",
    "CMB_bkg4 = CMB_bkg4.reshape(CMB_bkg4.shape[0], 1, wid, hei).astype('float64')\n",
    "CMB_bkg4 = torch.from_numpy(CMB_bkg4)\n",
    "\n",
    "CMB_bkg5 = CMB_bkg5.reshape(CMB_bkg5.shape[0], 1, wid, hei).astype('float64')\n",
    "CMB_bkg5 = torch.from_numpy(CMB_bkg5)\n",
    "\n",
    "CMB_bkg6 = CMB_bkg6.reshape(CMB_bkg6.shape[0], 1, wid, hei).astype('float64')\n",
    "CMB_bkg6 = torch.from_numpy(CMB_bkg6)\n",
    "\n",
    "\n",
    "Y_data = Y_data.reshape(Y_data.shape[0], 1).astype('float64')\n",
    "Y_data = torch.from_numpy(Y_data)"
   ]
  },
  {
   "cell_type": "code",
   "execution_count": 4,
   "metadata": {},
   "outputs": [],
   "source": [
    "from torch.utils.data import Dataset, TensorDataset, DataLoader\n",
    "\n",
    "bkg1_data = TensorDataset(CMB_bkg1, Y_data)\n",
    "bkg2_data = TensorDataset(CMB_bkg2, Y_data)\n",
    "bkg3_data = TensorDataset(CMB_bkg3, Y_data)\n",
    "bkg4_data = TensorDataset(CMB_bkg4, Y_data)\n",
    "bkg5_data = TensorDataset(CMB_bkg5, Y_data)\n",
    "bkg6_data = TensorDataset(CMB_bkg6, Y_data)\n",
    "\n",
    "bkg1loader = DataLoader(dataset=bkg1_data, batch_size=1, shuffle=False)\n",
    "bkg2loader = DataLoader(dataset=bkg2_data, batch_size=1, shuffle=False)\n",
    "bkg3loader = DataLoader(dataset=bkg3_data, batch_size=1, shuffle=False)\n",
    "bkg4loader = DataLoader(dataset=bkg4_data, batch_size=1, shuffle=False)\n",
    "bkg5loader = DataLoader(dataset=bkg5_data, batch_size=1, shuffle=False)\n",
    "bkg6loader = DataLoader(dataset=bkg6_data, batch_size=1, shuffle=False)"
   ]
  },
  {
   "cell_type": "code",
   "execution_count": 5,
   "metadata": {},
   "outputs": [],
   "source": [
    "device = torch.device(\"cuda:0\" if torch.cuda.is_available() else \"cpu\")\n",
    "class_model = class_model.to(device)"
   ]
  },
  {
   "cell_type": "code",
   "execution_count": 6,
   "metadata": {
    "scrolled": true
   },
   "outputs": [
    {
     "name": "stdout",
     "output_type": "stream",
     "text": [
      "Prediction ... \n",
      " Background \n",
      "Event : 1000 Completed\n",
      "Event : 2000 Completed\n",
      "Event : 3000 Completed\n",
      "Event : 4000 Completed\n",
      "Event : 5000 Completed\n",
      " Background with new profile g = 1.0\n",
      "Event : 1000 Completed\n",
      "Event : 2000 Completed\n",
      "Event : 3000 Completed\n",
      "Event : 4000 Completed\n",
      "Event : 5000 Completed\n",
      " Background with new profile g = 2.0\n",
      "Event : 1000 Completed\n",
      "Event : 2000 Completed\n",
      "Event : 3000 Completed\n",
      "Event : 4000 Completed\n",
      "Event : 5000 Completed\n",
      " Background with new profile g = 2.5\n",
      "Event : 1000 Completed\n",
      "Event : 2000 Completed\n",
      "Event : 3000 Completed\n",
      "Event : 4000 Completed\n",
      "Event : 5000 Completed\n",
      " Background with new profile g = 3.0\n",
      "Event : 1000 Completed\n",
      "Event : 2000 Completed\n",
      "Event : 3000 Completed\n",
      "Event : 4000 Completed\n",
      "Event : 5000 Completed\n",
      " Background with new profile g = 4.0\n",
      "Event : 1000 Completed\n",
      "Event : 2000 Completed\n",
      "Event : 3000 Completed\n",
      "Event : 4000 Completed\n",
      "Event : 5000 Completed\n",
      "Prediction done\n"
     ]
    }
   ],
   "source": [
    "print(\"Prediction ... \")\n",
    "\n",
    "bkg1_outputs = []\n",
    "bkg2_outputs = []\n",
    "bkg3_outputs = []\n",
    "bkg4_outputs = []\n",
    "bkg5_outputs = []\n",
    "bkg6_outputs = []\n",
    "\n",
    "\n",
    "i=0\n",
    "print(\" Background \")\n",
    "with torch.no_grad():\n",
    "    for data in bkg1loader:\n",
    "        i+=1\n",
    "        images, y = data\n",
    "        images, y = images.to(device), y.to(device)\n",
    "        coutputs = class_model(images)\n",
    "        \n",
    "        bkg1_outputs.append(coutputs.cpu().detach().numpy())\n",
    "\n",
    "        if i%1000==0:\n",
    "            print(\"Event : \"+str(i)+\" Completed\")\n",
    "\n",
    "\n",
    "i=0\n",
    "print(\" Background with new profile g = \"+str(rescale_g[0]))\n",
    "with torch.no_grad():\n",
    "    for data in bkg2loader:\n",
    "        i+=1\n",
    "        images, y = data\n",
    "        images, y = images.to(device), y.to(device)\n",
    "        coutputs = class_model(images)\n",
    "        \n",
    "        bkg2_outputs.append(coutputs.cpu().detach().numpy())\n",
    "\n",
    "        if i%1000==0:\n",
    "            print(\"Event : \"+str(i)+\" Completed\")\n",
    "\n",
    "i=0\n",
    "print(\" Background with new profile g = \"+str(rescale_g[1]))\n",
    "with torch.no_grad():\n",
    "    for data in bkg3loader:\n",
    "        i+=1\n",
    "        images, y = data\n",
    "        images, y = images.to(device), y.to(device)\n",
    "        coutputs = class_model(images)\n",
    "        \n",
    "        bkg3_outputs.append(coutputs.cpu().detach().numpy())\n",
    "\n",
    "        if i%1000==0:\n",
    "            print(\"Event : \"+str(i)+\" Completed\")\n",
    "\n",
    "i=0\n",
    "print(\" Background with new profile g = \"+str(rescale_g[2]))\n",
    "with torch.no_grad():\n",
    "    for data in bkg4loader:\n",
    "        i+=1\n",
    "        images, y = data\n",
    "        images, y = images.to(device), y.to(device)\n",
    "        coutputs = class_model(images)\n",
    "        \n",
    "        bkg4_outputs.append(coutputs.cpu().detach().numpy())\n",
    "\n",
    "        if i%1000==0:\n",
    "            print(\"Event : \"+str(i)+\" Completed\")\n",
    "\n",
    "i=0\n",
    "print(\" Background with new profile g = \"+str(rescale_g[3]))\n",
    "with torch.no_grad():\n",
    "    for data in bkg5loader:\n",
    "        i+=1\n",
    "        images, y = data\n",
    "        images, y = images.to(device), y.to(device)\n",
    "        coutputs = class_model(images)\n",
    "        \n",
    "        bkg5_outputs.append(coutputs.cpu().detach().numpy())\n",
    "\n",
    "        if i%1000==0:\n",
    "            print(\"Event : \"+str(i)+\" Completed\")\n",
    "\n",
    "i=0\n",
    "print(\" Background with new profile g = \"+str(rescale_g[4]))\n",
    "with torch.no_grad():\n",
    "    for data in bkg6loader:\n",
    "        i+=1\n",
    "        images, y = data\n",
    "        images, y = images.to(device), y.to(device)\n",
    "        coutputs = class_model(images)\n",
    "        \n",
    "        bkg6_outputs.append(coutputs.cpu().detach().numpy())\n",
    "\n",
    "        if i%1000==0:\n",
    "            print(\"Event : \"+str(i)+\" Completed\")\n",
    "\n",
    "print(\"Prediction done\")"
   ]
  },
  {
   "cell_type": "code",
   "execution_count": 7,
   "metadata": {},
   "outputs": [],
   "source": [
    "bkg1_outputs = np.concatenate(bkg1_outputs)\n",
    "bkg2_outputs = np.concatenate(bkg2_outputs)\n",
    "bkg3_outputs = np.concatenate(bkg3_outputs)\n",
    "bkg4_outputs = np.concatenate(bkg4_outputs)\n",
    "bkg5_outputs = np.concatenate(bkg5_outputs)\n",
    "bkg6_outputs = np.concatenate(bkg6_outputs)\n",
    "\n",
    "#np.save(\"Background+signal_Case1_prediction\", bkg1_outputs)\n",
    "#np.save(\"Background+signal_Case2_prediction\", bkg2_outputs)"
   ]
  },
  {
   "cell_type": "code",
   "execution_count": 8,
   "metadata": {},
   "outputs": [],
   "source": [
    "false_g2 = np.where((bkg2_outputs>0.5).T[0]==False)[0]\n",
    "true_g2 = np.where((bkg2_outputs>0.5).T[0]==True)[0]"
   ]
  },
  {
   "cell_type": "code",
   "execution_count": 9,
   "metadata": {},
   "outputs": [
    {
     "name": "stdout",
     "output_type": "stream",
     "text": [
      "8.157127761564945 1.2232003216384537\n",
      "8.146837594295516 1.2376881958298254\n"
     ]
    }
   ],
   "source": [
    "#print(len(false_g2))\n",
    "#print(len(true_g2))\n",
    "falselist = []\n",
    "truelist = []\n",
    "\n",
    "for envts in range(len(false_g2)):\n",
    "    falselist.append(CMB_sig[false_g2[envts]].max())\n",
    "    \n",
    "\n",
    "for envts in range(len(true_g2)):\n",
    "    truelist.append(CMB_sig[true_g2[envts]].max())\n",
    "\n",
    "print(np.average(falselist),np.std(falselist))\n",
    "print(np.average(truelist),np.std(truelist))"
   ]
  },
  {
   "cell_type": "code",
   "execution_count": 10,
   "metadata": {},
   "outputs": [],
   "source": [
    "bkg_rej = len(bkg1_outputs[bkg1_outputs<0.5])/5000*100\n",
    "\n",
    "sig_eff1 = (100*len(bkg2_outputs[bkg2_outputs>0.5])/5000)\n",
    "sig_eff2 = (100*len(bkg3_outputs[bkg3_outputs>0.5])/5000)\n",
    "sig_eff3 = (100*len(bkg4_outputs[bkg4_outputs>0.5])/5000)\n",
    "sig_eff4 = (100*len(bkg5_outputs[bkg5_outputs>0.5])/5000)\n",
    "sig_eff5 = (100*len(bkg6_outputs[bkg6_outputs>0.5])/5000)"
   ]
  },
  {
   "cell_type": "code",
   "execution_count": 11,
   "metadata": {},
   "outputs": [
    {
     "name": "stdout",
     "output_type": "stream",
     "text": [
      "52.7\n",
      "79.94\n",
      "91.84\n",
      "97.98\n",
      "99.94\n"
     ]
    }
   ],
   "source": [
    "print(100*len(bkg2_outputs[bkg2_outputs>0.5])/5000)\n",
    "print(100*len(bkg3_outputs[bkg3_outputs>0.5])/5000)\n",
    "print(100*len(bkg4_outputs[bkg4_outputs>0.5])/5000)\n",
    "print(100*len(bkg5_outputs[bkg5_outputs>0.5])/5000)\n",
    "print(100*len(bkg6_outputs[bkg6_outputs>0.5])/5000)"
   ]
  },
  {
   "cell_type": "code",
   "execution_count": 12,
   "metadata": {},
   "outputs": [
    {
     "data": {
      "image/png": "[encoded data removed]",
      "text/plain": [
       "<Figure size 432x288 with 1 Axes>"
      ]
     },
     "metadata": {
      "needs_background": "light"
     },
     "output_type": "display_data"
    }
   ],
   "source": [
    "import matplotlib.pyplot as plt\n",
    "\n",
    "bins=np.linspace(0,1,num=41)\n",
    "\n",
    "kwargs = dict(alpha=0.5, bins=bins)\n",
    "\n",
    "plt.hist(bkg1_outputs,**kwargs,label=f'Background',histtype=u'step',color='black')\n",
    "plt.hist(bkg2_outputs,**kwargs,label=f'g = {rescale_g[0]:.1f}')\n",
    "plt.hist(bkg3_outputs,**kwargs,label=f'g = {rescale_g[1]:.1f}')\n",
    "plt.hist(bkg4_outputs,**kwargs,label=f'g = {rescale_g[2]:.1f}')\n",
    "plt.hist(bkg5_outputs,**kwargs,label=f'g = {rescale_g[3]:.1f}')\n",
    "plt.hist(bkg6_outputs,**kwargs,label=f'g = {rescale_g[4]:.1f}')\n",
    "\n",
    "plt.figtext(.355, .2, f'Background Rejection =  $\\,$ {bkg_rej:.1f} % \\n\\nSignal Capture $\\,$ g({rescale_g[0]:.1f}) = $\\,\\,$ {sig_eff1:.1f} %\\n                          g({rescale_g[1]:.1f}) =   {sig_eff2:.1f} % \\n                          g({rescale_g[2]:.1f}) =   {sig_eff3:.1f} % \\n                          g({rescale_g[3]:.1f}) =   {sig_eff4:.1f} % \\n                          g({rescale_g[4]:.1f}) =   {sig_eff5:.1f} %')\n",
    "\n",
    "plt.title(r\"$\\eta_{*}$ = 50 Mpc ($\\eta_{HS}=\\eta_{rec}$)\")\n",
    "\n",
    "plt.xlabel(\"Network Output\")\n",
    "plt.ylabel(\"Counts\")\n",
    "plt.legend(loc='upper center')\n",
    "plt.savefig(\"eta50_trained_ong3_background_plus_new_signals.pdf\")"
   ]
  },
  {
   "cell_type": "code",
   "execution_count": null,
   "metadata": {},
   "outputs": [],
   "source": []
  }
 ],
 "metadata": {
  "kernelspec": {
   "display_name": "Python 3 (ipykernel)",
   "language": "python",
   "name": "python3"
  },
  "language_info": {
   "codemirror_mode": {
    "name": "ipython",
    "version": 3
   },
   "file_extension": ".py",
   "mimetype": "text/x-python",
   "name": "python",
   "nbconvert_exporter": "python",
   "pygments_lexer": "ipython3",
   "version": "3.8.10"
  }
 },
 "nbformat": 4,
 "nbformat_minor": 4
}
