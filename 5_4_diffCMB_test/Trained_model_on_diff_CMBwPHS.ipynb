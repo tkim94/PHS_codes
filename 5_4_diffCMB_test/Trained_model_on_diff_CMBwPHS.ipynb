{
 "cells": [
  {
   "cell_type": "code",
   "execution_count": 5,
   "metadata": {},
   "outputs": [
    {
     "name": "stderr",
     "output_type": "stream",
     "text": [
      "/tmpscratch/tkim12/.local/lib/python3.6/site-packages/tqdm/auto.py:22: TqdmWarning: IProgress not found. Please update jupyter and ipywidgets. See https://ipywidgets.readthedocs.io/en/stable/user_install.html\n",
      "  from .autonotebook import tqdm as notebook_tqdm\n"
     ]
    },
    {
     "name": "stdout",
     "output_type": "stream",
     "text": [
      "Model Loaded\n",
      "Importing Data\n"
     ]
    }
   ],
   "source": [
    "import torch\n",
    "import os\n",
    "import numpy as np\n",
    "import random\n",
    "\n",
    "\n",
    "import sklearn\n",
    "from sklearn.model_selection import train_test_split\n",
    "from sklearn import metrics\n",
    "from sklearn.metrics import accuracy_score\n",
    "from sklearn.utils import shuffle\n",
    "\n",
    "import pandas as pd\n",
    "\n",
    "from model.classifier import Net as ClassNet\n",
    "\n",
    "trained_class = './result/gpu_classification_g3train.pt'\n",
    "class_model = ClassNet()\n",
    "class_model.load_state_dict(torch.load(trained_class, map_location=torch.device('cpu')))\n",
    "class_model.eval()\n",
    "class_model = class_model.double()\n",
    "\n",
    "print(\"Model Loaded\")\n",
    "\n",
    "print(\"Importing Data\")"
   ]
  },
  {
   "cell_type": "code",
   "execution_count": 6,
   "metadata": {},
   "outputs": [],
   "source": [
    "bkgcase_loc = \"diff_bkgs/\"\n",
    "\n",
    "# Load background case 1\n",
    "CMB_bkg1 = np.load(bkgcase_loc+\"500_events_90Sqr_lensed_cutBackgroundlmax3500_case0_ev2.npy\")\n",
    "\n",
    "\n",
    "# Load background case 2\n",
    "CMB_bkg2 = np.load(bkgcase_loc+\"500_events_90Sqr_lensed_cutBackgroundlmax3500_case1_ev2.npy\")\n",
    "                  \n",
    "\n",
    "# Load background case 3            \n",
    "CMB_bkg3 = np.load(bkgcase_loc+\"500_events_90Sqr_lensed_cutBackgroundlmax3500_case2_ev2.npy\")\n",
    " \n",
    "            \n",
    "# Load background case 4           \n",
    "CMB_bkg4 = np.load(bkgcase_loc+\"500_events_90Sqr_lensed_cutBackgroundlmax3500_case3_ev2.npy\")\n",
    "\n",
    "\n",
    "# Load background case 5           \n",
    "CMB_bkg5 = np.load(bkgcase_loc+\"500_events_90Sqr_lensed_cutBackgroundlmax3500_case4_ev2.npy\")\n",
    "\n",
    "\n",
    "# Load background case 6           \n",
    "CMB_bkg6 = np.load(bkgcase_loc+\"500_events_90Sqr_lensed_cutBackgroundlmax3500_case5_ev2.npy\")\n",
    "\n",
    "\n",
    "# Load background case 7          \n",
    "CMB_bkg7 = np.load(bkgcase_loc+\"500_events_90Sqr_lensed_cutBackgroundlmax3500_case6_ev2.npy\")"
   ]
  },
  {
   "cell_type": "code",
   "execution_count": null,
   "metadata": {},
   "outputs": [],
   "source": [
    "file_loc = '/afs/crc.nd.edu/user/t/tkim12/Work/CMB_ML/Data/Nside1024/'\n",
    "\n",
    "# Load CMB signal only (g = 1)\n",
    "CMB_sig = []\n",
    "for file_num in range(1,51):\n",
    "    Xtemp = np.load(file_loc+\"PHS_signal/500_PHS_g1_Sig_\"+str(file_num)+\".npy\")\n",
    "    for k in range(Xtemp.shape[0]):\n",
    "        CMB_sig.append(Xtemp[k])\n",
    "        \n",
    "CMB_sig = np.array(CMB_sig)\n",
    "\n",
    "CMB_sigsample = np.array(random.choices(CMB_sig, k=500))"
   ]
  },
  {
   "cell_type": "code",
   "execution_count": null,
   "metadata": {},
   "outputs": [],
   "source": [
    "rescale_g = 2\n",
    "\n",
    "CMB_bkg1 += rescale_g*CMB_sigsample\n",
    "CMB_bkg2 += rescale_g*CMB_sigsample\n",
    "CMB_bkg3 += rescale_g*CMB_sigsample\n",
    "CMB_bkg4 += rescale_g*CMB_sigsample\n",
    "CMB_bkg5 += rescale_g*CMB_sigsample\n",
    "CMB_bkg6 += rescale_g*CMB_sigsample\n",
    "CMB_bkg7 += rescale_g*CMB_sigsample"
   ]
  },
  {
   "cell_type": "code",
   "execution_count": null,
   "metadata": {},
   "outputs": [],
   "source": [
    "'''CMB_bkg1 = np.array(CMB_bkg1)\n",
    "CMB_bkg2 = np.array(CMB_bkg2)\n",
    "CMB_bkg3 = np.array(CMB_bkg3)\n",
    "CMB_bkg4 = np.array(CMB_bkg4)'''\n",
    "\n",
    "CMB_bkg1_num = CMB_bkg1.shape[0]\n",
    "\n",
    "\n",
    "Y_data = np.zeros(CMB_bkg1_num)\n",
    "\n",
    "wid, hei = CMB_bkg1.shape[1], CMB_bkg1.shape[2]\n",
    "print(CMB_bkg1.shape[0], wid, hei)\n",
    "\n",
    "\n",
    "CMB_bkg1 = CMB_bkg1.reshape(CMB_bkg1.shape[0], 1, wid, hei).astype('float64')\n",
    "CMB_bkg1 = torch.from_numpy(CMB_bkg1)\n",
    "\n",
    "CMB_bkg2 = CMB_bkg2.reshape(CMB_bkg2.shape[0], 1, wid, hei).astype('float64')\n",
    "CMB_bkg2 = torch.from_numpy(CMB_bkg2)\n",
    "\n",
    "CMB_bkg3 = CMB_bkg3.reshape(CMB_bkg3.shape[0], 1, wid, hei).astype('float64')\n",
    "CMB_bkg3 = torch.from_numpy(CMB_bkg3)\n",
    "\n",
    "CMB_bkg4 = CMB_bkg4.reshape(CMB_bkg4.shape[0], 1, wid, hei).astype('float64')\n",
    "CMB_bkg4 = torch.from_numpy(CMB_bkg4)\n",
    "\n",
    "CMB_bkg5 = CMB_bkg5.reshape(CMB_bkg5.shape[0], 1, wid, hei).astype('float64')\n",
    "CMB_bkg5 = torch.from_numpy(CMB_bkg5)\n",
    "\n",
    "CMB_bkg6 = CMB_bkg6.reshape(CMB_bkg6.shape[0], 1, wid, hei).astype('float64')\n",
    "CMB_bkg6 = torch.from_numpy(CMB_bkg6)\n",
    "\n",
    "CMB_bkg7 = CMB_bkg7.reshape(CMB_bkg7.shape[0], 1, wid, hei).astype('float64')\n",
    "CMB_bkg7 = torch.from_numpy(CMB_bkg7)\n",
    "\n",
    "Y_data = Y_data.reshape(Y_data.shape[0], 1).astype('float64')\n",
    "Y_data = torch.from_numpy(Y_data)"
   ]
  },
  {
   "cell_type": "code",
   "execution_count": null,
   "metadata": {},
   "outputs": [],
   "source": [
    "from torch.utils.data import Dataset, TensorDataset, DataLoader\n",
    "\n",
    "bkg1_data = TensorDataset(CMB_bkg1, Y_data)\n",
    "bkg2_data = TensorDataset(CMB_bkg2, Y_data)\n",
    "bkg3_data = TensorDataset(CMB_bkg3, Y_data)\n",
    "bkg4_data = TensorDataset(CMB_bkg4, Y_data)\n",
    "bkg5_data = TensorDataset(CMB_bkg5, Y_data)\n",
    "bkg6_data = TensorDataset(CMB_bkg6, Y_data)\n",
    "bkg7_data = TensorDataset(CMB_bkg7, Y_data)\n",
    "\n",
    "\n",
    "bkg1loader = DataLoader(dataset=bkg1_data, batch_size=1, shuffle=False)\n",
    "bkg2loader = DataLoader(dataset=bkg2_data, batch_size=1, shuffle=False)\n",
    "bkg3loader = DataLoader(dataset=bkg3_data, batch_size=1, shuffle=False)\n",
    "bkg4loader = DataLoader(dataset=bkg4_data, batch_size=1, shuffle=False)\n",
    "bkg5loader = DataLoader(dataset=bkg5_data, batch_size=1, shuffle=False)\n",
    "bkg6loader = DataLoader(dataset=bkg6_data, batch_size=1, shuffle=False)\n",
    "bkg7loader = DataLoader(dataset=bkg7_data, batch_size=1, shuffle=False)"
   ]
  },
  {
   "cell_type": "code",
   "execution_count": null,
   "metadata": {
    "scrolled": true
   },
   "outputs": [],
   "source": [
    "print(\"Prediction ... \")\n",
    "\n",
    "bkg1_outputs = []\n",
    "bkg2_outputs = []\n",
    "bkg3_outputs = []\n",
    "bkg4_outputs = []\n",
    "bkg5_outputs = []\n",
    "bkg6_outputs = []\n",
    "bkg7_outputs = []\n",
    "\n",
    "\n",
    "i=0\n",
    "print(\" Background Case 1 \")\n",
    "with torch.no_grad():\n",
    "    for data in bkg1loader:\n",
    "        i+=1\n",
    "        images, y = data\n",
    "        coutputs = class_model(images)\n",
    "        \n",
    "        bkg1_outputs.append(coutputs.detach().numpy())\n",
    "\n",
    "        if i%100==0:\n",
    "            print(\"Event : \"+str(i)+\" Completed\")\n",
    "\n",
    "\n",
    "i=0\n",
    "print(\" Background Case 2 \")\n",
    "with torch.no_grad():\n",
    "    for data in bkg2loader:\n",
    "        i+=1\n",
    "        images, y = data\n",
    "        coutputs = class_model(images)\n",
    "        \n",
    "        bkg2_outputs.append(coutputs.detach().numpy())\n",
    "\n",
    "        if i%100==0:\n",
    "            print(\"Event : \"+str(i)+\" Completed\")\n",
    "\n",
    "\n",
    "i=0\n",
    "print(\" Background Case 3 \")\n",
    "with torch.no_grad():\n",
    "    for data in bkg3loader:\n",
    "        i+=1\n",
    "        images, y = data\n",
    "        coutputs = class_model(images)\n",
    "        \n",
    "        bkg3_outputs.append(coutputs.detach().numpy())\n",
    "\n",
    "        if i%100==0:\n",
    "            print(\"Event : \"+str(i)+\" Completed\")      \n",
    "            \n",
    "            \n",
    "i=0\n",
    "print(\" Background Case 4 \")\n",
    "with torch.no_grad():\n",
    "    for data in bkg4loader:\n",
    "        i+=1\n",
    "        images, y = data\n",
    "        coutputs = class_model(images)\n",
    "        \n",
    "        bkg4_outputs.append(coutputs.detach().numpy())\n",
    "\n",
    "        if i%100==0:\n",
    "            print(\"Event : \"+str(i)+\" Completed\")\n",
    "\n",
    "            \n",
    "i=0\n",
    "print(\" Background Case 5 \")\n",
    "with torch.no_grad():\n",
    "    for data in bkg5loader:\n",
    "        i+=1\n",
    "        images, y = data\n",
    "        coutputs = class_model(images)\n",
    "        \n",
    "        bkg5_outputs.append(coutputs.detach().numpy())\n",
    "\n",
    "        if i%100==0:\n",
    "            print(\"Event : \"+str(i)+\" Completed\")\n",
    "\n",
    "\n",
    "print(\" Background Case 6 \")\n",
    "with torch.no_grad():\n",
    "    for data in bkg6loader:\n",
    "        i+=1\n",
    "        images, y = data\n",
    "        coutputs = class_model(images)\n",
    "        \n",
    "        bkg6_outputs.append(coutputs.detach().numpy())\n",
    "\n",
    "        if i%100==0:\n",
    "            print(\"Event : \"+str(i)+\" Completed\")\n",
    "            \n",
    "            \n",
    "print(\" Background Case 7 \")\n",
    "with torch.no_grad():\n",
    "    for data in bkg7loader:\n",
    "        i+=1\n",
    "        images, y = data\n",
    "        coutputs = class_model(images)\n",
    "        \n",
    "        bkg7_outputs.append(coutputs.detach().numpy())\n",
    "\n",
    "        if i%100==0:\n",
    "            print(\"Event : \"+str(i)+\" Completed\")\n",
    "            \n",
    "print(\"Prediction done\")"
   ]
  },
  {
   "cell_type": "code",
   "execution_count": null,
   "metadata": {},
   "outputs": [],
   "source": [
    "bkg1_outputs = np.concatenate(bkg1_outputs)\n",
    "bkg2_outputs = np.concatenate(bkg2_outputs)\n",
    "bkg3_outputs = np.concatenate(bkg3_outputs)\n",
    "bkg4_outputs = np.concatenate(bkg4_outputs)\n",
    "bkg5_outputs = np.concatenate(bkg5_outputs)\n",
    "bkg6_outputs = np.concatenate(bkg6_outputs)\n",
    "bkg7_outputs = np.concatenate(bkg7_outputs)\n",
    "\n",
    "\n",
    "#np.save(\"diff_bkgs/Background_Case1_prediction\", bkg1_outputs)\n",
    "#np.save(\"diff_bkgs/Background_Case2_prediction\", bkg2_outputs)\n",
    "#np.save(\"diff_bkgs/Background_Case3_prediction\", bkg3_outputs)\n",
    "#np.save(\"diff_bkgs/Background_Case4_prediction\", bkg4_outputs)\n",
    "#np.save(\"diff_bkgs/Background_Case5_prediction\", bkg5_outputs)"
   ]
  },
  {
   "cell_type": "code",
   "execution_count": null,
   "metadata": {},
   "outputs": [],
   "source": [
    "case1 = 100*len(bkg1_outputs[bkg1_outputs>0.5])/500\n",
    "case2 = 100*len(bkg2_outputs[bkg2_outputs>0.5])/500\n",
    "case3 = 100*len(bkg3_outputs[bkg3_outputs>0.5])/500\n",
    "case4 = 100*len(bkg4_outputs[bkg4_outputs>0.5])/500\n",
    "case5 = 100*len(bkg5_outputs[bkg5_outputs>0.5])/500\n",
    "case6 = 100*len(bkg6_outputs[bkg6_outputs>0.5])/500\n",
    "case7 = 100*len(bkg7_outputs[bkg7_outputs>0.5])/500\n",
    "\n",
    "\n",
    "print(case1)\n",
    "print(case2)\n",
    "print(case3)\n",
    "print(case4)\n",
    "print(case5)\n",
    "print(case6)\n",
    "print(case7)"
   ]
  },
  {
   "cell_type": "code",
   "execution_count": 18,
   "metadata": {},
   "outputs": [
    {
     "data": {
      "text/plain": [
       "<matplotlib.legend.Legend at 0x2aefdde5a1d0>"
      ]
     },
     "execution_count": 18,
     "metadata": {},
     "output_type": "execute_result"
    },
    {
     "data": {
      "image/png": "[encoded data removed]",
      "text/plain": [
       "<Figure size 432x288 with 1 Axes>"
      ]
     },
     "metadata": {
      "needs_background": "light"
     },
     "output_type": "display_data"
    }
   ],
   "source": [
    "import matplotlib.pyplot as plt\n",
    "\n",
    "bins=[0.0, 0.025, 0.05, 0.075, 0.1, 0.125, 0.15, 0.175, 0.2, 0.225, 0.25, 0.275, 0.3, 0.325, 0.35, 0.375, 0.4, 0.425, 0.45, 0.475, 0.5, 0.525, 0.55, 0.575, 0.60, 0.625, 0.65, 0.675, 0.7, 0.725, 0.75, 0.775, 0.8, 0.825, 0.85, 0.875, 0.9, 0.925, 0.95, 0.975, 1.0]\n",
    "\n",
    "kwargs = dict(alpha=0.5, bins=bins)\n",
    "\n",
    "plt.hist(bkg1_outputs,**kwargs,label=\"Planck 2018 best fit\")\n",
    "plt.hist(bkg2_outputs,**kwargs,label=\"case 1\")\n",
    "plt.hist(bkg3_outputs,**kwargs,label=r\"case 2\")\n",
    "plt.hist(bkg4_outputs,**kwargs,label=r'case 3')\n",
    "plt.hist(bkg5_outputs,**kwargs,label=r'case 4')\n",
    "\n",
    "#plt.figtext(.65, .3, 'Original Values \\n $\\Omega_b h^2 = 0.022032$ \\n $\\Omega_{cdm} h^2 = 0.12038$\\n'+r'$A_{s} = 2.215\\times 10^{-9}$')\n",
    "\n",
    "plt.figtext(.55, .3, f'Signal Efficiency \\n Planck best fit = {case1:.1f} % \\n case 1 = {case2:.1f} % \\n case 2 = {case3:.1f} % \\n case 3 = {case4:.1f} %\\n case 4 = {case5:.1f} %')\n",
    "\n",
    "plt.xlabel(\"Network Output\")\n",
    "plt.ylabel(\"Counts\")\n",
    "plt.legend(loc='upper center')\n",
    "#plt.savefig(\"diff_bkgs/Case_dep_background_with_PHSg2.pdf\")"
   ]
  },
  {
   "cell_type": "code",
   "execution_count": 9,
   "metadata": {},
   "outputs": [
    {
     "data": {
      "text/plain": [
       "array([], dtype=float64)"
      ]
     },
     "execution_count": 9,
     "metadata": {},
     "output_type": "execute_result"
    }
   ],
   "source": [
    "bkg1_outputs[bkg1_outputs>0.5]"
   ]
  },
  {
   "cell_type": "code",
   "execution_count": 10,
   "metadata": {},
   "outputs": [
    {
     "data": {
      "text/plain": [
       "array([0.98980741, 1.        ])"
      ]
     },
     "execution_count": 10,
     "metadata": {},
     "output_type": "execute_result"
    }
   ],
   "source": [
    "bkg2_outputs[bkg2_outputs>0.5]"
   ]
  },
  {
   "cell_type": "code",
   "execution_count": 11,
   "metadata": {},
   "outputs": [
    {
     "data": {
      "text/plain": [
       "array([1.        , 0.92281021, 0.71630228, 0.99113916, 1.        ])"
      ]
     },
     "execution_count": 11,
     "metadata": {},
     "output_type": "execute_result"
    }
   ],
   "source": [
    "bkg3_outputs[bkg3_outputs>0.5]"
   ]
  },
  {
   "cell_type": "code",
   "execution_count": 12,
   "metadata": {},
   "outputs": [
    {
     "data": {
      "text/plain": [
       "92.0"
      ]
     },
     "execution_count": 12,
     "metadata": {},
     "output_type": "execute_result"
    }
   ],
   "source": [
    "len(bkg4_outputs[bkg4_outputs>0.5])/len(bkg4_outputs)*100"
   ]
  },
  {
   "cell_type": "code",
   "execution_count": 44,
   "metadata": {},
   "outputs": [
    {
     "data": {
      "text/plain": [
       "75.35"
      ]
     },
     "execution_count": 44,
     "metadata": {},
     "output_type": "execute_result"
    }
   ],
   "source": [
    "(77.4+74.4+76.2+73.4)/4"
   ]
  },
  {
   "cell_type": "code",
   "execution_count": null,
   "metadata": {},
   "outputs": [],
   "source": []
  }
 ],
 "metadata": {
  "kernelspec": {
   "display_name": "Python 3 (ipykernel)",
   "language": "python",
   "name": "python3"
  },
  "language_info": {
   "codemirror_mode": {
    "name": "ipython",
    "version": 3
   },
   "file_extension": ".py",
   "mimetype": "text/x-python",
   "name": "python",
   "nbconvert_exporter": "python",
   "pygments_lexer": "ipython3",
   "version": "3.8.10"
  }
 },
 "nbformat": 4,
 "nbformat_minor": 4
}
