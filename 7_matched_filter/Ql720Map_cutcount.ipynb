{
 "cells": [
  {
   "cell_type": "markdown",
   "metadata": {},
   "source": [
    "## Applied on PHS"
   ]
  },
  {
   "cell_type": "code",
   "execution_count": 1,
   "metadata": {},
   "outputs": [],
   "source": [
    "import numpy as np\n",
    "#import tensorflow as tf\n",
    "from matplotlib import pyplot as plt\n",
    "import glob\n",
    "import random\n"
   ]
  },
  {
   "cell_type": "code",
   "execution_count": 2,
   "metadata": {},
   "outputs": [],
   "source": [
    "def largest_indices(ary, n):\n",
    "    \"\"\"Returns the n largest indices from a numpy array.\"\"\"\n",
    "    flat = ary.flatten()\n",
    "    indices = np.argpartition(flat, -n)[-n:]\n",
    "    indices = indices[np.argsort(-flat[indices])]\n",
    "    return np.unravel_index(indices, ary.shape)"
   ]
  },
  {
   "cell_type": "markdown",
   "metadata": {},
   "source": [
    "## Quicklens Map"
   ]
  },
  {
   "cell_type": "code",
   "execution_count": 3,
   "metadata": {},
   "outputs": [],
   "source": [
    "path=\"./periodic_background/\"\n",
    "#tot = np.load(path+\"1PHS6Events_Nside2048_d0_d80_BKG_\"+str(0)+\".npy\")\n",
    "\n",
    "qlbkgs = np.empty((0, 720, 720))\n",
    "for evnts in range(2):\n",
    "    temp = np.load(path+\"500_events_720Sqr_lensed_uncutBackgroundlmax3500_\"+str(evnts)+\".npy\")\n",
    "\n",
    "    qlbkgs = np.concatenate((qlbkgs,temp))"
   ]
  },
  {
   "cell_type": "code",
   "execution_count": 4,
   "metadata": {},
   "outputs": [],
   "source": [
    "# FFT on planted signals\n",
    "pathsig = '/afs/crc.nd.edu/user/t/tkim12/Work/CMB_ML/Data/Nside1024/test_img/'\n",
    "\n",
    "PHSsignals = []\n",
    "for batch in range(1,4):\n",
    "    temp = np.load(pathsig+\"sig_larger/100_PHS_720sq_g1_Sig_onLSS_\"+str(batch)+\".npy\")\n",
    "    for evnt in range(len(temp)):\n",
    "        PHSsignals.append(temp[evnt])\n",
    "\n",
    "PHSsignals = np.array(PHSsignals)"
   ]
  },
  {
   "cell_type": "code",
   "execution_count": 5,
   "metadata": {},
   "outputs": [],
   "source": [
    "def Nphscalc(rescale_val = 6, num_select = 1, Tcut = 340, puresig = PHSsignals, purepkg = qlbkgs, selec_evnt = 1000):\n",
    "    \n",
    "    selected_evnts = []\n",
    "\n",
    "    for tries in range(selec_evnt):\n",
    "        gen_list = np.random.choice(range(0,150), num_select, replace = False).reshape(-1,num_select)\n",
    "        selected_evnts.append(gen_list[0])\n",
    "\n",
    "    selected_evnts = np.array(selected_evnts)\n",
    "\n",
    "    #selected_evnts = np.load('selected_rand_list_'+str(num_select)+'PHS.npy')\n",
    "    \n",
    "    PHSsig = []\n",
    "    PHSsig_loc = []\n",
    "    for events in range(len(selected_evnts)):\n",
    "        temp = 0\n",
    "        temp_loc = []\n",
    "        for num in range(num_select):\n",
    "            temp += PHSsignals[selected_evnts[events,num]]\n",
    "            test = PHSsignals[selected_evnts[events,num]]\n",
    "            test_loc = np.where((test==test.max()))\n",
    "            test_locx = int(np.mean(test_loc[0]))\n",
    "            test_locy = int(np.mean(test_loc[1]))\n",
    "            temp_loc.append([test_locx,test_locy])\n",
    "        PHSsig.append(temp)\n",
    "        PHSsig_loc.append(temp_loc)\n",
    "    \n",
    "    PHSsig = rescale_val * np.array(PHSsig)\n",
    "    PHSsig_loc = np.array(PHSsig_loc)\n",
    "    \n",
    "    qlBkpSig = qlbkgs[:selec_evnt]+PHSsig\n",
    "\n",
    "    lis1 = []\n",
    "    lis2 = []\n",
    "    \n",
    "    for ii in range(len(qlBkpSig)):\n",
    "        lis1.append(len(qlBkpSig[ii][qlBkpSig[ii]-np.mean(qlBkpSig[ii])>Tcut]))\n",
    "        lis2.append(len(qlbkgs[:selec_evnt][ii][qlbkgs[:selec_evnt][ii]-np.mean(qlbkgs[:selec_evnt][ii])>Tcut]))\n",
    "    \n",
    "    lis1 = np.array(lis1)\n",
    "    lis2 = np.array(lis2)\n",
    "    \n",
    "    return len(qlBkpSig[qlBkpSig>Tcut])/selec_evnt, lis1, len(qlbkgs[:selec_evnt][qlbkgs[:selec_evnt]>Tcut])/selec_evnt,lis2"
   ]
  },
  {
   "cell_type": "code",
   "execution_count": 6,
   "metadata": {},
   "outputs": [],
   "source": [
    "#\n",
    "# g = 2, N = 635\n",
    "# g = 3, N = 274\n",
    "# g = 6, N = 48"
   ]
  },
  {
   "cell_type": "code",
   "execution_count": 7,
   "metadata": {},
   "outputs": [],
   "source": [
    "g6bkgpsig,g6bkgpsigev,g6bkg,g6bkgev = Nphscalc(rescale_val = 6, num_select = 2, Tcut = 340, puresig = PHSsignals, purepkg = qlbkgs)"
   ]
  },
  {
   "cell_type": "code",
   "execution_count": 8,
   "metadata": {},
   "outputs": [],
   "source": [
    "g3bkgpsig,g3bkgpsigev,g3bkg,g3bkgev = Nphscalc(rescale_val = 3, num_select = 11, Tcut = 200, puresig = PHSsignals, purepkg = qlbkgs)"
   ]
  },
  {
   "cell_type": "code",
   "execution_count": 9,
   "metadata": {},
   "outputs": [],
   "source": [
    "g2bkgpsig,g2bkgpsigev,g2bkg,g2bkgev = Nphscalc(rescale_val = 2, num_select = 25, Tcut = 160, puresig = PHSsignals, purepkg = qlbkgs)"
   ]
  },
  {
   "cell_type": "code",
   "execution_count": 10,
   "metadata": {},
   "outputs": [
    {
     "name": "stdout",
     "output_type": "stream",
     "text": [
      "134 368.258 980\n",
      "11222 14982.232 21012\n",
      "27846 33365.077 41816\n"
     ]
    }
   ],
   "source": [
    "print(g6bkgpsigev.min(),g6bkgpsigev.mean(),g6bkgpsigev.max())\n",
    "print(g3bkgpsigev.min(),g3bkgpsigev.mean(),g3bkgpsigev.max())\n",
    "print(g2bkgpsigev.min(),g2bkgpsigev.mean(),g2bkgpsigev.max())"
   ]
  },
  {
   "cell_type": "code",
   "execution_count": 33,
   "metadata": {},
   "outputs": [
    {
     "data": {
      "image/png": "[encoded data removed]",
      "text/plain": [
       "<Figure size 432x288 with 1 Axes>"
      ]
     },
     "metadata": {
      "needs_background": "light"
     },
     "output_type": "display_data"
    }
   ],
   "source": [
    "plt.hist(g3bkgpsigev,50,alpha = 0.5,label = r'$N_{PHS}$ = 11')\n",
    "plt.hist(g3bkgev,50,alpha = 0.5,label = 'Pure background')\n",
    "plt.title(r\"$\\eta = 160$ Mpc , $g = 3$  Cut and Count\")\n",
    "plt.legend()\n",
    "\n",
    "plt.text(18000, 40, r'$T_{cut} = 200 \\mu K$')\n",
    "plt.xlabel('Number of pixel survived after the cut')\n",
    "plt.ylabel('Frequency')\n",
    "plt.savefig(\"cut_count_result_eta160_g3_N11.pdf\",bbox_inches='tight')"
   ]
  },
  {
   "cell_type": "code",
   "execution_count": 35,
   "metadata": {},
   "outputs": [
    {
     "data": {
      "image/png": "[encoded data removed]",
      "text/plain": [
       "<Figure size 432x288 with 1 Axes>"
      ]
     },
     "metadata": {
      "needs_background": "light"
     },
     "output_type": "display_data"
    }
   ],
   "source": [
    "plt.hist(g2bkgpsigev,50,alpha = 0.5,label = r'$N_{PHS}$ = 25')\n",
    "plt.hist(g2bkgev,50,alpha = 0.5,label = 'Pure background')\n",
    "plt.title(r\"$\\eta = 160$ Mpc , $g = 2$  Cut and Count\")\n",
    "plt.legend()\n",
    "\n",
    "plt.text(38000, 40, r'$T_{cut} = 160 \\mu K$')\n",
    "plt.xlabel('Number of pixel survived after the cut')\n",
    "plt.ylabel('Frequency')\n",
    "plt.savefig(\"cut_count_result_eta160_g2_N25.pdf\",bbox_inches='tight')"
   ]
  },
  {
   "cell_type": "code",
   "execution_count": 40,
   "metadata": {},
   "outputs": [
    {
     "data": {
      "image/png": "[encoded data removed]",
      "text/plain": [
       "<Figure size 432x288 with 1 Axes>"
      ]
     },
     "metadata": {
      "needs_background": "light"
     },
     "output_type": "display_data"
    }
   ],
   "source": [
    "plt.hist(g6bkgpsigev,50,alpha = 0.5,label = r'$N_{PHS}$ = 2')\n",
    "plt.hist(g6bkgev,50,alpha = 0.5,label = 'Pure background')\n",
    "plt.title(r\"$\\eta = 160$ Mpc , $g = 6$  Cut and Count\")\n",
    "plt.legend()\n",
    "\n",
    "plt.text(750, 40, r'$T_{cut} = 340 \\mu K$')\n",
    "plt.xlabel('Number of pixel survived after the cut')\n",
    "plt.ylabel('Frequency')\n",
    "plt.savefig(\"cut_count_result_eta160_g6_N2.pdf\",bbox_inches='tight')"
   ]
  },
  {
   "cell_type": "code",
   "execution_count": 14,
   "metadata": {},
   "outputs": [
    {
     "name": "stdout",
     "output_type": "stream",
     "text": [
      "369.535 19.223293162202985 124.7164040373198\n",
      "310.574 17.62310982772337 111.08148596413356\n"
     ]
    }
   ],
   "source": [
    "print(g6bkgpsig,np.sqrt(g6bkgpsig),np.std(g6bkgpsigev))\n",
    "print(g6bkg,np.sqrt(g6bkg),np.std(g6bkgev))"
   ]
  },
  {
   "cell_type": "code",
   "execution_count": 15,
   "metadata": {},
   "outputs": [
    {
     "name": "stdout",
     "output_type": "stream",
     "text": [
      "15084.098 122.81733590987878 1335.7511258374443\n",
      "14713.538 121.29937345262753 1335.7511258374443\n"
     ]
    }
   ],
   "source": [
    "print(g3bkgpsig,np.sqrt(g3bkgpsig), np.std(g3bkgpsigev))\n",
    "print(g3bkg,np.sqrt(g3bkg), np.std(g3bkgpsigev))"
   ]
  },
  {
   "cell_type": "code",
   "execution_count": 16,
   "metadata": {},
   "outputs": [
    {
     "name": "stdout",
     "output_type": "stream",
     "text": [
      "33661.345 183.4702836973879 1977.7421118717677\n",
      "33033.345 181.75077716477583 1977.7421118717677\n"
     ]
    }
   ],
   "source": [
    "print(g2bkgpsig,np.sqrt(g2bkgpsig), np.std(g2bkgpsigev))\n",
    "print(g2bkg,np.sqrt(g2bkg), np.std(g2bkgpsigev))"
   ]
  },
  {
   "cell_type": "code",
   "execution_count": 17,
   "metadata": {},
   "outputs": [
    {
     "name": "stdout",
     "output_type": "stream",
     "text": [
      "58.96100000000001\n",
      "24.92284092955697\n"
     ]
    }
   ],
   "source": [
    "print(np.abs(g6bkgpsig-g6bkg))\n",
    "print(np.sqrt(2*g6bkg))"
   ]
  },
  {
   "cell_type": "code",
   "execution_count": 18,
   "metadata": {},
   "outputs": [
    {
     "name": "stdout",
     "output_type": "stream",
     "text": [
      "370.5599999999995\n",
      "171.5432190440648\n"
     ]
    }
   ],
   "source": [
    "print(np.abs(g3bkgpsig-g3bkg))\n",
    "print(np.sqrt(2*g3bkg))"
   ]
  },
  {
   "cell_type": "code",
   "execution_count": 19,
   "metadata": {},
   "outputs": [
    {
     "name": "stdout",
     "output_type": "stream",
     "text": [
      "628.0\n",
      "257.0344140382762\n"
     ]
    }
   ],
   "source": [
    "print(np.abs(g2bkgpsig-g2bkg))\n",
    "print(np.sqrt(2*g2bkg))"
   ]
  },
  {
   "cell_type": "code",
   "execution_count": 20,
   "metadata": {},
   "outputs": [
    {
     "ename": "ValueError",
     "evalue": "too many values to unpack (expected 2)",
     "output_type": "error",
     "traceback": [
      "\u001b[0;31m---------------------------------------------------------------------------\u001b[0m",
      "\u001b[0;31mValueError\u001b[0m                                Traceback (most recent call last)",
      "\u001b[0;32m/tmp/ipykernel_198908/1927255529.py\u001b[0m in \u001b[0;36m<module>\u001b[0;34m\u001b[0m\n\u001b[0;32m----> 1\u001b[0;31m \u001b[0mg1bkgpsig\u001b[0m\u001b[0;34m,\u001b[0m \u001b[0mg1bkg\u001b[0m \u001b[0;34m=\u001b[0m \u001b[0mNphscalc\u001b[0m\u001b[0;34m(\u001b[0m\u001b[0mrescale_val\u001b[0m \u001b[0;34m=\u001b[0m \u001b[0;36m1\u001b[0m\u001b[0;34m,\u001b[0m \u001b[0mnum_select\u001b[0m \u001b[0;34m=\u001b[0m \u001b[0;36m30\u001b[0m\u001b[0;34m,\u001b[0m \u001b[0mTcut\u001b[0m \u001b[0;34m=\u001b[0m \u001b[0;36m80\u001b[0m\u001b[0;34m,\u001b[0m \u001b[0mpuresig\u001b[0m \u001b[0;34m=\u001b[0m \u001b[0mPHSsignals\u001b[0m\u001b[0;34m,\u001b[0m \u001b[0mpurepkg\u001b[0m \u001b[0;34m=\u001b[0m \u001b[0mqlbkgs\u001b[0m\u001b[0;34m)\u001b[0m\u001b[0;34m\u001b[0m\u001b[0;34m\u001b[0m\u001b[0m\n\u001b[0m",
      "\u001b[0;31mValueError\u001b[0m: too many values to unpack (expected 2)"
     ]
    }
   ],
   "source": [
    "g1bkgpsig, g1bkg = Nphscalc(rescale_val = 1, num_select = 30, Tcut = 80, puresig = PHSsignals, purepkg = qlbkgs)"
   ]
  },
  {
   "cell_type": "code",
   "execution_count": null,
   "metadata": {},
   "outputs": [],
   "source": [
    "print(g1bkgpsig,np.sqrt(g1bkgpsig))\n",
    "print(g1bkg,np.sqrt(g1bkg))"
   ]
  },
  {
   "cell_type": "code",
   "execution_count": null,
   "metadata": {},
   "outputs": [],
   "source": []
  },
  {
   "cell_type": "markdown",
   "metadata": {
    "tags": []
   },
   "source": [
    "## g = 6"
   ]
  },
  {
   "cell_type": "code",
   "execution_count": 24,
   "metadata": {},
   "outputs": [],
   "source": [
    "# FFT on planted signals\n",
    "pathsig = '/afs/crc.nd.edu/user/t/tkim12/Work/CMB_ML/Data/Nside1024/test_img/'\n",
    "\n",
    "PHSsignals = []\n",
    "for batch in range(1,4):\n",
    "    temp = np.load(pathsig+\"sig_larger/100_PHS_720sq_g1_Sig_onLSS_\"+str(batch)+\".npy\")\n",
    "    for evnt in range(len(temp)):\n",
    "        PHSsignals.append(temp[evnt])\n",
    "\n",
    "PHSsignals = np.array(PHSsignals)\n",
    "\n",
    "rescale_val = 6\n",
    "num_select = 1"
   ]
  },
  {
   "cell_type": "code",
   "execution_count": 25,
   "metadata": {},
   "outputs": [],
   "source": [
    "selected_evnts = np.load('selected_rand_list_'+str(num_select)+'PHS.npy')\n",
    "\n",
    "PHSsig = []\n",
    "PHSsig_loc = []\n",
    "for events in range(len(selected_evnts)):\n",
    "    temp = 0\n",
    "    temp_loc = []\n",
    "    for num in range(num_select):\n",
    "        temp += PHSsignals[selected_evnts[events,num]]\n",
    "        test = PHSsignals[selected_evnts[events,num]]\n",
    "        test_loc = np.where((test==test.max()))\n",
    "        test_locx = int(np.mean(test_loc[0]))\n",
    "        test_locy = int(np.mean(test_loc[1]))\n",
    "        temp_loc.append([test_locx,test_locy])\n",
    "    PHSsig.append(temp)\n",
    "    PHSsig_loc.append(temp_loc)\n",
    "    \n",
    "PHSsig = rescale_val * np.array(PHSsig)\n",
    "PHSsig_loc = np.array(PHSsig_loc)"
   ]
  },
  {
   "cell_type": "code",
   "execution_count": 33,
   "metadata": {},
   "outputs": [
    {
     "name": "stdout",
     "output_type": "stream",
     "text": [
      "171674\n",
      "156032\n"
     ]
    }
   ],
   "source": [
    "qlBkpSig = qlbkgs[:500]+PHSsig\n",
    "\n",
    "print(len(qlBkpSig[qlBkpSig>340]))\n",
    "\n",
    "print(len(qlbkgs[:500][qlbkgs[:500]>340]))"
   ]
  },
  {
   "cell_type": "code",
   "execution_count": 32,
   "metadata": {},
   "outputs": [
    {
     "data": {
      "text/plain": [
       "0.07594766342675456"
      ]
     },
     "execution_count": 32,
     "metadata": {},
     "output_type": "execute_result"
    }
   ],
   "source": [
    "30/np.sqrt(156032)"
   ]
  },
  {
   "cell_type": "code",
   "execution_count": 27,
   "metadata": {},
   "outputs": [
    {
     "name": "stdout",
     "output_type": "stream",
     "text": [
      "171674\n",
      "156032\n"
     ]
    }
   ],
   "source": [
    "qlBkpSig = qlbkgs[:500]+PHSsig\n",
    "\n",
    "print(len(qlBkpSig[qlBkpSig>340]))\n",
    "\n",
    "print(len(qlbkgs[:500][qlbkgs[:500]>340]))"
   ]
  },
  {
   "cell_type": "code",
   "execution_count": 17,
   "metadata": {},
   "outputs": [
    {
     "data": {
      "text/plain": [
       "12.52"
      ]
     },
     "execution_count": 17,
     "metadata": {},
     "output_type": "execute_result"
    }
   ],
   "source": [
    "313/25"
   ]
  },
  {
   "cell_type": "code",
   "execution_count": null,
   "metadata": {},
   "outputs": [],
   "source": []
  }
 ],
 "metadata": {
  "kernelspec": {
   "display_name": "Python 3 (ipykernel)",
   "language": "python",
   "name": "python3"
  },
  "language_info": {
   "codemirror_mode": {
    "name": "ipython",
    "version": 3
   },
   "file_extension": ".py",
   "mimetype": "text/x-python",
   "name": "python",
   "nbconvert_exporter": "python",
   "pygments_lexer": "ipython3",
   "version": "3.9.15"
  }
 },
 "nbformat": 4,
 "nbformat_minor": 4
}
