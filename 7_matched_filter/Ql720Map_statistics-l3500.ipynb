{
 "cells": [
  {
   "cell_type": "markdown",
   "metadata": {},
   "source": [
    "## Applied on PHS"
   ]
  },
  {
   "cell_type": "code",
   "execution_count": 1,
   "metadata": {},
   "outputs": [],
   "source": [
    "import numpy as np\n",
    "#import tensorflow as tf\n",
    "from matplotlib import pyplot as plt\n",
    "import glob\n",
    "import random\n"
   ]
  },
  {
   "cell_type": "code",
   "execution_count": 2,
   "metadata": {},
   "outputs": [],
   "source": [
    "def largest_indices(ary, n):\n",
    "    \"\"\"Returns the n largest indices from a numpy array.\"\"\"\n",
    "    flat = ary.flatten()\n",
    "    indices = np.argpartition(flat, -n)[-n:]\n",
    "    indices = indices[np.argsort(-flat[indices])]\n",
    "    return np.unravel_index(indices, ary.shape)"
   ]
  },
  {
   "cell_type": "markdown",
   "metadata": {},
   "source": [
    "## HS Profiles"
   ]
  },
  {
   "cell_type": "code",
   "execution_count": 3,
   "metadata": {},
   "outputs": [],
   "source": [
    "path3=\"/afs/crc.nd.edu/user/t/tkim12/Work/CMB_ML/Eventcode/new_profile_singlePHS_projection/samples/\"\n",
    "hs_profile = np.load(path3+\"Nside1024_singleHS_profile.npy\")\n",
    "\n",
    "# h(x) -> h(k)\n",
    "h_frame = np.zeros( ( 720  ,  720 )) # Frame with zeros\n",
    "h_frame[0:len(hs_profile),0:len(hs_profile)]+= hs_profile\n",
    "np_rfft_hk=np.fft.rfft2(h_frame)\n"
   ]
  },
  {
   "cell_type": "markdown",
   "metadata": {},
   "source": [
    "## Quicklens Map"
   ]
  },
  {
   "cell_type": "code",
   "execution_count": 4,
   "metadata": {},
   "outputs": [],
   "source": [
    "path=\"./periodic_background/\"\n",
    "#tot = np.load(path+\"1PHS6Events_Nside2048_d0_d80_BKG_\"+str(0)+\".npy\")\n",
    "\n",
    "qlbkgs = np.empty((0, 720, 720))\n",
    "for evnts in range(1):\n",
    "    temp = np.load(path+\"500_events_720Sqr_lensed_uncutBackgroundlmax3500_\"+str(evnts)+\".npy\")\n",
    "\n",
    "    qlbkgs = np.concatenate((qlbkgs,temp))"
   ]
  },
  {
   "cell_type": "code",
   "execution_count": 5,
   "metadata": {},
   "outputs": [],
   "source": [
    "qlbkgs_power = np.load(path+\"500_events_720Sqr_lensed_uncutBackgroundlmax3500_1.npy\")"
   ]
  },
  {
   "cell_type": "code",
   "execution_count": 6,
   "metadata": {},
   "outputs": [
    {
     "name": "stdout",
     "output_type": "stream",
     "text": [
      "(720, 361)\n",
      "500\n"
     ]
    }
   ],
   "source": [
    "# FFT average of multiple Backgrounds\n",
    "fft_power = np.zeros((np_rfft_hk.shape[0],np_rfft_hk.shape[1]))\n",
    "print((np_rfft_hk.shape[0],np_rfft_hk.shape[1]))\n",
    "#fft_power = np.zeros((420,420))\n",
    "for evnt in range(len(qlbkgs_power)):\n",
    "    temp = qlbkgs_power[evnt]\n",
    "    tempfft = np.fft.rfft2(temp)\n",
    "    temppower = tempfft*np.conj(tempfft)\n",
    "    fft_power = fft_power + temppower\n",
    "    if not (evnt+1) % 500:\n",
    "        print(str(evnt+1))\n",
    "        \n",
    "fft_power = np.real(fft_power)/len(qlbkgs)"
   ]
  },
  {
   "cell_type": "code",
   "execution_count": null,
   "metadata": {},
   "outputs": [],
   "source": [
    "len(qlbkgs)"
   ]
  },
  {
   "cell_type": "code",
   "execution_count": 7,
   "metadata": {},
   "outputs": [
    {
     "data": {
      "image/png": "[encoded data removed]",
      "text/plain": [
       "<Figure size 432x288 with 1 Axes>"
      ]
     },
     "metadata": {
      "needs_background": "light"
     },
     "output_type": "display_data"
    }
   ],
   "source": [
    "plt.plot(fft_power[0])\n",
    "plt.yscale('log')"
   ]
  },
  {
   "cell_type": "code",
   "execution_count": 8,
   "metadata": {},
   "outputs": [],
   "source": [
    "#import pandas as pd\n",
    "#pd.DataFrame(hpfft_power).to_csv(\"./healpy_Pk.csv\")"
   ]
  },
  {
   "cell_type": "code",
   "execution_count": 9,
   "metadata": {},
   "outputs": [],
   "source": [
    "# FFT on bkg\n",
    "qlfiltered_bkg = []\n",
    "for evnts in range(len(qlbkgs)):\n",
    "    tempfft = np.fft.rfft2(qlbkgs[evnts])\n",
    "    tempfft[0,0]=0\n",
    "    fft_power[fft_power<10**-10]=10**20\n",
    "    tempfiltered = np.fft.irfft2(tempfft    * np_rfft_hk/fft_power)\n",
    "    qlfiltered_bkg.append(tempfiltered)\n",
    "\n",
    "qlfiltered_bkg = np.array(qlfiltered_bkg)"
   ]
  },
  {
   "cell_type": "code",
   "execution_count": 10,
   "metadata": {},
   "outputs": [],
   "source": [
    "flat_qlfiltered_bkg = qlfiltered_bkg.flatten()"
   ]
  },
  {
   "cell_type": "markdown",
   "metadata": {},
   "source": [
    "## Background Fitting"
   ]
  },
  {
   "cell_type": "code",
   "execution_count": 11,
   "metadata": {},
   "outputs": [],
   "source": [
    "from scipy.stats import norm\n",
    "from scipy.optimize import curve_fit"
   ]
  },
  {
   "cell_type": "code",
   "execution_count": 12,
   "metadata": {},
   "outputs": [],
   "source": [
    "def gauss(x,mu,sigma,A):\n",
    "    return A*np.exp(-(x-mu)**2/2/sigma**2)"
   ]
  },
  {
   "cell_type": "code",
   "execution_count": 13,
   "metadata": {},
   "outputs": [
    {
     "name": "stdout",
     "output_type": "stream",
     "text": [
      "[-2.54550034e-10  6.39503042e-06  6.60020454e+07]\n"
     ]
    },
    {
     "data": {
      "image/png": "[encoded data removed]",
      "text/plain": [
       "<Figure size 432x288 with 1 Axes>"
      ]
     },
     "metadata": {
      "needs_background": "light"
     },
     "output_type": "display_data"
    }
   ],
   "source": [
    "binsabs = np.linspace(-0.0001,0.0001,50)\n",
    "\n",
    "n1, bins1, patches1 = plt.hist(flat_qlfiltered_bkg,binsabs,alpha = 0.7,color = 'grey',label = \"pure bkg\",density=False)\n",
    "\n",
    "binsmid=((binsabs[1:]+binsabs[:-1])/2)\n",
    "\n",
    "#         mu,sigma1,A\n",
    "expected=(0.,0.00002,17000)\n",
    "lowbound = 0\n",
    "highbound = 60\n",
    "params,cov=curve_fit(gauss,binsmid[lowbound:highbound],n1[lowbound:highbound],expected,maxfev=400000)\n",
    "sigma=np.sqrt(np.diag(cov))\n",
    "\n",
    "plt.plot(binsmid,gauss(binsmid,*params),color='red',lw=2,label='model')\n",
    "\n",
    "print(params)\n",
    "\n",
    "plt.legend()\n",
    "\n",
    "#plt.yscale('log')\n",
    "#plt.ylim(0, 10**5)\n",
    "#plt.xlim(binsmid[lowbound:highbound][0],binsmid[lowbound:highbound][-1])\n",
    "plt.xlabel('T')\n",
    "plt.ylabel('Counts')\n",
    "plt.grid(True)"
   ]
  },
  {
   "cell_type": "code",
   "execution_count": null,
   "metadata": {},
   "outputs": [],
   "source": []
  },
  {
   "cell_type": "markdown",
   "metadata": {},
   "source": [
    "# Chi Square Method"
   ]
  },
  {
   "cell_type": "markdown",
   "metadata": {
    "tags": []
   },
   "source": [
    "## g = 6"
   ]
  },
  {
   "cell_type": "code",
   "execution_count": 14,
   "metadata": {},
   "outputs": [],
   "source": [
    "# FFT on planted signals\n",
    "pathsig = '/afs/crc.nd.edu/user/t/tkim12/Work/CMB_ML/Data/Nside1024/test_img/'\n",
    "\n",
    "PHSsignals = []\n",
    "for batch in range(1,4):\n",
    "    temp = np.load(pathsig+\"sig_larger/100_PHS_720sq_g1_Sig_onLSS_\"+str(batch)+\".npy\")\n",
    "    for evnt in range(len(temp)):\n",
    "        PHSsignals.append(temp[evnt])\n",
    "\n",
    "PHSsignals = np.array(PHSsignals)\n",
    "\n",
    "rescale_val = 1\n",
    "num_select = 25"
   ]
  },
  {
   "cell_type": "code",
   "execution_count": 15,
   "metadata": {},
   "outputs": [],
   "source": [
    "selected_evnts = np.load('selected_rand_list_'+str(num_select)+'PHS.npy')\n",
    "\n",
    "PHSsig = []\n",
    "PHSsig_loc = []\n",
    "for events in range(len(selected_evnts)):\n",
    "    temp = 0\n",
    "    temp_loc = []\n",
    "    for num in range(num_select):\n",
    "        temp += PHSsignals[selected_evnts[events,num]]\n",
    "        test = PHSsignals[selected_evnts[events,num]]\n",
    "        test_loc = np.where((test==test.max()))\n",
    "        test_locx = int(np.mean(test_loc[0]))\n",
    "        test_locy = int(np.mean(test_loc[1]))\n",
    "        temp_loc.append([test_locx,test_locy])\n",
    "    PHSsig.append(temp)\n",
    "    PHSsig_loc.append(temp_loc)\n",
    "    \n",
    "PHSsig = rescale_val * np.array(PHSsig)\n",
    "PHSsig_loc = np.array(PHSsig_loc)"
   ]
  },
  {
   "cell_type": "code",
   "execution_count": 16,
   "metadata": {},
   "outputs": [],
   "source": [
    "#hpBkpSig = hpbkgs+PHSsig\n",
    "qlBkpSig = qlbkgs[:500]+PHSsig\n",
    "\n",
    "\n",
    "#hpBkpSigfilt = []\n",
    "qlBkpSigfilt = []\n",
    "\n",
    "\n",
    "for evnts in range(500):\n",
    "    #hptempfft = np.fft.rfft2(hpBkpSig[evnts])\n",
    "    qltempfft = np.fft.rfft2(qlBkpSig[evnts])\n",
    "    qltempfft[0,0]=0\n",
    "    \n",
    "    fft_power[fft_power<10**-20]=10**20\n",
    "    #hptempfiltered = np.fft.irfft2(hptempfft    *np_rfft_hk/hpfft_power)\n",
    "    #qltempfiltered = np.fft.irfft2(qltempfft    * np.conjugate(np_rfft_hk)/qlfft_power)\n",
    "    qltempfiltered = np.fft.irfft2(qltempfft    * np_rfft_hk/fft_power)\n",
    "    #qltempfiltered = np.fft.irfft2((qltempfft    * np_rfft_hk/qlfft_power)[1:,1:])\n",
    "\n",
    "    #hpBkpSigfilt.append(hptempfiltered)\n",
    "    qlBkpSigfilt.append(qltempfiltered)\n",
    "    \n",
    "#hpBkpSigfilt = np.array(hpBkpSigfilt)\n",
    "qlBkpSigfilt = np.array(qlBkpSigfilt)\n",
    "\n",
    "#flat_hpBkpSigfilt = hpBkpSigfilt.flatten()\n",
    "flat_qlBkpSigfilt = qlBkpSigfilt.flatten()"
   ]
  },
  {
   "cell_type": "code",
   "execution_count": 17,
   "metadata": {},
   "outputs": [],
   "source": [
    "binsabs = np.linspace(-0.0004,0.0004,100)\n",
    "binsabs = np.linspace(-0.0001,0.0001,50)\n",
    "\n",
    "binsmid=((binsabs[1:]+binsabs[:-1])/2)\n",
    "\n",
    "thres = 37\n",
    "n1max = 45"
   ]
  },
  {
   "cell_type": "code",
   "execution_count": 18,
   "metadata": {},
   "outputs": [
    {
     "data": {
      "image/png": "[encoded data removed]",
      "text/plain": [
       "<Figure size 432x288 with 1 Axes>"
      ]
     },
     "metadata": {
      "needs_background": "light"
     },
     "output_type": "display_data"
    }
   ],
   "source": [
    "n2, bins2, patches2 = plt.hist(flat_qlBkpSigfilt,binsabs,alpha = 0.5,label = \"large img\",density=False)\n",
    "\n",
    "n1, bins1, patches1 = plt.hist(flat_qlfiltered_bkg,binsabs,alpha = 1,histtype='step',color = 'black',label = \"pure bkg\",density=False)\n",
    "\n",
    "#plt.axvline(binsabs[thres-1],color = 'red',linestyle = '--')\n",
    "#plt.axvline(binsabs[n1max-1],color = 'red',linestyle = '--')\n",
    "\n",
    "plt.axvline(binsabs[30],color = 'red',linestyle = '--')\n",
    "\n",
    "plt.legend()\n",
    "\n",
    "plt.ylim(0, 10**3)\n",
    "plt.xlabel('T')\n",
    "plt.ylabel('Counts')\n",
    "plt.grid(True)"
   ]
  },
  {
   "cell_type": "code",
   "execution_count": 19,
   "metadata": {},
   "outputs": [
    {
     "data": {
      "text/plain": [
       "array([       0.,        0.,        0.,        0.,        0.,        0.,\n",
       "              0.,        0.,        0.,        0.,        0.,        0.,\n",
       "              0.,        0.,        1.,       11.,      152.,     3552.,\n",
       "          46672.,   424390.,  2603476., 10679954., 29306302., 53707760.,\n",
       "       65707646., 53673485., 29273297., 10675528.,  2606124.,   431746.,\n",
       "          51878.,     6233.,     1352.,      338.,       73.,       17.,\n",
       "              9.,        4.,        0.,        0.,        0.,        0.,\n",
       "              0.,        0.,        0.,        0.,        0.,        0.,\n",
       "              0.])"
      ]
     },
     "execution_count": 19,
     "metadata": {},
     "output_type": "execute_result"
    }
   ],
   "source": [
    "np.set_printoptions(suppress=True)\n",
    "n2"
   ]
  },
  {
   "cell_type": "code",
   "execution_count": 20,
   "metadata": {},
   "outputs": [
    {
     "data": {
      "text/plain": [
       "array([       0.,        0.,        0.,        0.,        0.,        0.,\n",
       "              0.,        0.,        0.,        0.,        0.,        0.,\n",
       "              0.,        0.,        1.,        7.,      120.,     3014.,\n",
       "          42520.,   403447.,  2533342., 10550014., 29225869., 53847302.,\n",
       "       65992820., 53844362., 29218090., 10558000.,  2531578.,   403830.,\n",
       "          42567.,     2981.,      131.,        5.,        0.,        0.,\n",
       "              0.,        0.,        0.,        0.,        0.,        0.,\n",
       "              0.,        0.,        0.,        0.,        0.,        0.,\n",
       "              0.])"
      ]
     },
     "execution_count": 20,
     "metadata": {},
     "output_type": "execute_result"
    }
   ],
   "source": [
    "n1"
   ]
  },
  {
   "cell_type": "code",
   "execution_count": 21,
   "metadata": {},
   "outputs": [
    {
     "name": "stdout",
     "output_type": "stream",
     "text": [
      "259200000.0\n",
      "259200000.0\n",
      "[0. 0. 0. 0. 0. 0. 0. 0.]\n",
      "[4. 0. 0. 0. 0. 0. 0. 0.]\n",
      "d.o.f = 7\n"
     ]
    },
    {
     "name": "stderr",
     "output_type": "stream",
     "text": [
      "/tmp/ipykernel_2298481/113468219.py:10: RuntimeWarning: divide by zero encountered in true_divide\n",
      "  np.sum((n2[thres:n1max]-n1[thres:n1max])**2/n1[thres:n1max])\n",
      "/tmp/ipykernel_2298481/113468219.py:10: RuntimeWarning: invalid value encountered in true_divide\n",
      "  np.sum((n2[thres:n1max]-n1[thres:n1max])**2/n1[thres:n1max])\n"
     ]
    },
    {
     "data": {
      "text/plain": [
       "nan"
      ]
     },
     "execution_count": 21,
     "metadata": {},
     "output_type": "execute_result"
    }
   ],
   "source": [
    "print(np.sum(n2))\n",
    "print(np.sum(n1))\n",
    "\n",
    "thres = 37\n",
    "n1max = 45\n",
    "n2max = 50\n",
    "print(n1[thres:n1max])\n",
    "print(n2[thres:n1max])\n",
    "print(\"d.o.f = \"+str(len(n2[thres:n1max])-1))\n",
    "np.sum((n2[thres:n1max]-n1[thres:n1max])**2/n1[thres:n1max])"
   ]
  },
  {
   "cell_type": "code",
   "execution_count": null,
   "metadata": {},
   "outputs": [],
   "source": []
  },
  {
   "cell_type": "markdown",
   "metadata": {},
   "source": [
    "## g = 3"
   ]
  },
  {
   "cell_type": "code",
   "execution_count": 53,
   "metadata": {},
   "outputs": [
    {
     "data": {
      "image/png": "[encoded data removed]",
      "text/plain": [
       "<Figure size 432x288 with 1 Axes>"
      ]
     },
     "metadata": {
      "needs_background": "light"
     },
     "output_type": "display_data"
    }
   ],
   "source": [
    "# FFT on planted signals\n",
    "pathsig = '/afs/crc.nd.edu/user/t/tkim12/Work/CMB_ML/Data/Nside1024/test_img/'\n",
    "\n",
    "PHSsignals = []\n",
    "for batch in range(1,4):\n",
    "    temp = np.load(pathsig+\"sig_larger/100_PHS_720sq_g1_Sig_onLSS_\"+str(batch)+\".npy\")\n",
    "    for evnt in range(len(temp)):\n",
    "        PHSsignals.append(temp[evnt])\n",
    "\n",
    "PHSsignals = np.array(PHSsignals)\n",
    "\n",
    "rescale_val = 3\n",
    "num_select = 1\n",
    "\n",
    "selected_evnts = np.load('selected_rand_list_'+str(num_select)+'PHS.npy')\n",
    "\n",
    "PHSsig = []\n",
    "PHSsig_loc = []\n",
    "for events in range(len(selected_evnts)):\n",
    "    temp = 0\n",
    "    temp_loc = []\n",
    "    for num in range(num_select):\n",
    "        temp += PHSsignals[selected_evnts[events,num]]\n",
    "        test = PHSsignals[selected_evnts[events,num]]\n",
    "        test_loc = np.where((test==test.max()))\n",
    "        test_locx = int(np.mean(test_loc[0]))\n",
    "        test_locy = int(np.mean(test_loc[1]))\n",
    "        temp_loc.append([test_locx,test_locy])\n",
    "    PHSsig.append(temp)\n",
    "    PHSsig_loc.append(temp_loc)\n",
    "\n",
    "PHSsig = rescale_val * np.array(PHSsig)\n",
    "PHSsig_loc = np.array(PHSsig_loc)\n",
    "\n",
    "\n",
    "#hpBkpSig = hpbkgs+PHSsig\n",
    "qlBkpSig = qlbkgs[:500]+PHSsig\n",
    "\n",
    "\n",
    "#hpBkpSigfilt = []\n",
    "qlBkpSigfilt = []\n",
    "\n",
    "\n",
    "for evnts in range(500):\n",
    "    #hptempfft = np.fft.rfft2(hpBkpSig[evnts])\n",
    "    qltempfft = np.fft.rfft2(qlBkpSig[evnts])\n",
    "    qltempfft[0,0]=0\n",
    "    \n",
    "    fft_power[fft_power<10**-20]=10**20\n",
    "    #hptempfiltered = np.fft.irfft2(hptempfft    *np_rfft_hk/hpfft_power)\n",
    "    #qltempfiltered = np.fft.irfft2(qltempfft    * np.conjugate(np_rfft_hk)/qlfft_power)\n",
    "    qltempfiltered = np.fft.irfft2(qltempfft    * np_rfft_hk/fft_power)\n",
    "    #qltempfiltered = np.fft.irfft2((qltempfft    * np_rfft_hk/qlfft_power)[1:,1:])\n",
    "\n",
    "    #hpBkpSigfilt.append(hptempfiltered)\n",
    "    qlBkpSigfilt.append(qltempfiltered)\n",
    "    \n",
    "#hpBkpSigfilt = np.array(hpBkpSigfilt)\n",
    "qlBkpSigfilt = np.array(qlBkpSigfilt)\n",
    "\n",
    "#flat_hpBkpSigfilt = hpBkpSigfilt.flatten()\n",
    "flat_qlBkpSigfilt = qlBkpSigfilt.flatten()\n",
    "\n",
    "binsabs = np.linspace(-0.0001,0.0001,50)\n",
    "\n",
    "binsmid=((binsabs[1:]+binsabs[:-1])/2)\n",
    "\n",
    "#thres = 37\n",
    "#n1max = 45\n",
    "\n",
    "n2, bins2, patches2 = plt.hist(flat_qlBkpSigfilt,binsabs,alpha = 0.5,label = \"large img\",density=False)\n",
    "\n",
    "n1, bins1, patches1 = plt.hist(flat_qlfiltered_bkg,binsabs,alpha = 1,histtype='step',color = 'black',label = \"pure bkg\",density=False)\n",
    "\n",
    "plt.plot(binsmid,gauss(binsmid,*params),color='red',lw=2,label='model')\n",
    "\n",
    "thres = 33\n",
    "plt.axvline(binsabs[thres-1],color = 'green',linestyle = '--')\n",
    "#plt.axvline(binsabs[n1max-1],color = 'red',linestyle = '--')\n",
    "\n",
    "plt.legend()\n",
    "\n",
    "plt.ylim(0, 10**3)\n",
    "plt.xlabel('T')\n",
    "plt.ylabel('Counts')\n",
    "plt.grid(True)"
   ]
  },
  {
   "cell_type": "code",
   "execution_count": 23,
   "metadata": {},
   "outputs": [
    {
     "data": {
      "text/plain": [
       "array([       0.,        0.,        0.,        0.,        0.,        0.,\n",
       "              0.,        0.,        0.,        0.,        0.,        0.,\n",
       "              0.,        7.,       44.,      142.,      619.,     4499.,\n",
       "          46708.,   413470.,  2554282., 10577695., 29234371., 53810546.,\n",
       "       65928525., 53803855., 29224012., 10582182.,  2551118.,   413675.,\n",
       "          46893.,     4891.,      967.,      325.,      149.,       94.,\n",
       "            105.,      130.,      155.,      177.,      156.,      112.,\n",
       "             58.,       17.,       13.,        4.,        2.,        1.,\n",
       "              0.])"
      ]
     },
     "execution_count": 23,
     "metadata": {},
     "output_type": "execute_result"
    }
   ],
   "source": [
    "n2"
   ]
  },
  {
   "cell_type": "code",
   "execution_count": 24,
   "metadata": {},
   "outputs": [
    {
     "data": {
      "text/plain": [
       "array([       0.,        0.,        0.,        0.,        0.,        0.,\n",
       "              0.,        0.,        0.,        0.,        0.,        0.,\n",
       "              0.,        0.,        1.,        7.,      120.,     3014.,\n",
       "          42520.,   403447.,  2533342., 10550014., 29225869., 53847302.,\n",
       "       65992820., 53844362., 29218090., 10558000.,  2531578.,   403830.,\n",
       "          42567.,     2981.,      131.,        5.,        0.,        0.,\n",
       "              0.,        0.,        0.,        0.,        0.,        0.,\n",
       "              0.,        0.,        0.,        0.,        0.,        0.,\n",
       "              0.])"
      ]
     },
     "execution_count": 24,
     "metadata": {},
     "output_type": "execute_result"
    }
   ],
   "source": [
    "n1"
   ]
  },
  {
   "cell_type": "code",
   "execution_count": 25,
   "metadata": {},
   "outputs": [
    {
     "data": {
      "text/plain": [
       "array([       0.        ,        0.        ,        0.        ,\n",
       "              0.        ,        0.        ,        0.        ,\n",
       "              0.        ,        0.        ,        0.        ,\n",
       "              0.        ,        0.        ,        0.00000007,\n",
       "              0.00001207,        0.00130697,        0.09416116,\n",
       "              4.51400437,      143.99130009,     3056.29036344,\n",
       "          43165.52746998,   405661.29560325,  2536729.59413426,\n",
       "       10555258.13461923, 29224535.88444601, 53840671.5316563 ,\n",
       "       66002045.35180978, 53837935.93997057, 29221566.2199113 ,\n",
       "       10553649.30944153,  2536214.07845982,   405558.24981335,\n",
       "          43152.36995283,     3055.20351931,      143.93278205,\n",
       "              4.51194062,        0.09411332,        0.00130624,\n",
       "              0.00001206,        0.00000007,        0.        ,\n",
       "              0.        ,        0.        ,        0.        ,\n",
       "              0.        ,        0.        ,        0.        ,\n",
       "              0.        ,        0.        ,        0.        ,\n",
       "              0.        ])"
      ]
     },
     "execution_count": 25,
     "metadata": {},
     "output_type": "execute_result"
    }
   ],
   "source": [
    "gauss(binsmid,*params)"
   ]
  },
  {
   "cell_type": "code",
   "execution_count": 26,
   "metadata": {},
   "outputs": [
    {
     "name": "stdout",
     "output_type": "stream",
     "text": [
      "259199999.0\n",
      "259200000.0\n",
      "[0. 0. 0. 0. 0. 0. 0. 0.]\n",
      "[130. 155. 177. 156. 112.  58.  17.  13.]\n",
      "d.o.f = 7\n"
     ]
    },
    {
     "name": "stderr",
     "output_type": "stream",
     "text": [
      "/tmp/ipykernel_2298481/113468219.py:10: RuntimeWarning: divide by zero encountered in true_divide\n",
      "  np.sum((n2[thres:n1max]-n1[thres:n1max])**2/n1[thres:n1max])\n"
     ]
    },
    {
     "data": {
      "text/plain": [
       "inf"
      ]
     },
     "execution_count": 26,
     "metadata": {},
     "output_type": "execute_result"
    }
   ],
   "source": [
    "print(np.sum(n2))\n",
    "print(np.sum(n1))\n",
    "\n",
    "thres = 37\n",
    "n1max = 45\n",
    "n2max = 50\n",
    "print(n1[thres:n1max])\n",
    "print(n2[thres:n1max])\n",
    "print(\"d.o.f = \"+str(len(n2[thres:n1max])-1))\n",
    "np.sum((n2[thres:n1max]-n1[thres:n1max])**2/n1[thres:n1max])"
   ]
  },
  {
   "cell_type": "markdown",
   "metadata": {},
   "source": [
    "## g = 2"
   ]
  },
  {
   "cell_type": "code",
   "execution_count": 59,
   "metadata": {},
   "outputs": [
    {
     "data": {
      "image/png": "[encoded data removed]",
      "text/plain": [
       "<Figure size 432x288 with 1 Axes>"
      ]
     },
     "metadata": {
      "needs_background": "light"
     },
     "output_type": "display_data"
    }
   ],
   "source": [
    "# FFT on planted signals\n",
    "pathsig = '/afs/crc.nd.edu/user/t/tkim12/Work/CMB_ML/Data/Nside1024/test_img/'\n",
    "\n",
    "PHSsignals = []\n",
    "for batch in range(1,4):\n",
    "    temp = np.load(pathsig+\"sig_larger/100_PHS_720sq_g1_Sig_onLSS_\"+str(batch)+\".npy\")\n",
    "    for evnt in range(len(temp)):\n",
    "        PHSsignals.append(temp[evnt])\n",
    "\n",
    "PHSsignals = np.array(PHSsignals)\n",
    "\n",
    "rescale_val = 2\n",
    "num_select = 1\n",
    "\n",
    "selected_evnts = np.load('selected_rand_list_'+str(num_select)+'PHS.npy')\n",
    "\n",
    "PHSsig = []\n",
    "PHSsig_loc = []\n",
    "for events in range(len(selected_evnts)):\n",
    "    temp = 0\n",
    "    temp_loc = []\n",
    "    for num in range(num_select):\n",
    "        temp += PHSsignals[selected_evnts[events,num]]\n",
    "        test = PHSsignals[selected_evnts[events,num]]\n",
    "        test_loc = np.where((test==test.max()))\n",
    "        test_locx = int(np.mean(test_loc[0]))\n",
    "        test_locy = int(np.mean(test_loc[1]))\n",
    "        temp_loc.append([test_locx,test_locy])\n",
    "    PHSsig.append(temp)\n",
    "    PHSsig_loc.append(temp_loc)\n",
    "    \n",
    "PHSsig = rescale_val * np.array(PHSsig)\n",
    "PHSsig_loc = np.array(PHSsig_loc)\n",
    "\n",
    "\n",
    "#hpBkpSig = hpbkgs+PHSsig\n",
    "qlBkpSig = qlbkgs[:500]+PHSsig\n",
    "\n",
    "\n",
    "#hpBkpSigfilt = []\n",
    "qlBkpSigfilt = []\n",
    "\n",
    "\n",
    "for evnts in range(500):\n",
    "    #hptempfft = np.fft.rfft2(hpBkpSig[evnts])\n",
    "    qltempfft = np.fft.rfft2(qlBkpSig[evnts])\n",
    "    qltempfft[0,0]=0\n",
    "    \n",
    "    fft_power[fft_power<10**-20]=10**20\n",
    "    #hptempfiltered = np.fft.irfft2(hptempfft    *np_rfft_hk/hpfft_power)\n",
    "    #qltempfiltered = np.fft.irfft2(qltempfft    * np.conjugate(np_rfft_hk)/qlfft_power)\n",
    "    qltempfiltered = np.fft.irfft2(qltempfft    * np_rfft_hk/fft_power)\n",
    "    #qltempfiltered = np.fft.irfft2((qltempfft    * np_rfft_hk/qlfft_power)[1:,1:])\n",
    "\n",
    "    #hpBkpSigfilt.append(hptempfiltered)\n",
    "    qlBkpSigfilt.append(qltempfiltered)\n",
    "    \n",
    "#hpBkpSigfilt = np.array(hpBkpSigfilt)\n",
    "qlBkpSigfilt = np.array(qlBkpSigfilt)\n",
    "\n",
    "#flat_hpBkpSigfilt = hpBkpSigfilt.flatten()\n",
    "flat_qlBkpSigfilt = qlBkpSigfilt.flatten()\n",
    "\n",
    "#thres = 37\n",
    "#n1max = 45\n",
    "\n",
    "binsabs = np.linspace(-0.0001,0.0001,50)\n",
    "\n",
    "binsmid=((binsabs[1:]+binsabs[:-1])/2)\n",
    "\n",
    "n2, bins2, patches2 = plt.hist(flat_qlBkpSigfilt,binsabs,alpha = 0.5,label = \"large img\",density=False)\n",
    "\n",
    "n1, bins1, patches1 = plt.hist(flat_qlfiltered_bkg,binsabs,alpha = 1,histtype='step',color = 'black',label = \"pure bkg\",density=False)\n",
    "\n",
    "plt.plot(binsmid,gauss(binsmid,*params),color='red',lw=2,label='model')\n",
    "\n",
    "#plt.axvline(binsabs[thres-1],color = 'red',linestyle = '--')\n",
    "#plt.axvline(binsabs[n1max-1],color = 'red',linestyle = '--')\n",
    "\n",
    "plt.legend()\n",
    "\n",
    "plt.ylim(0, 10**3)\n",
    "plt.xlabel('T')\n",
    "plt.ylabel('Counts')\n",
    "plt.grid(True)"
   ]
  },
  {
   "cell_type": "code",
   "execution_count": 28,
   "metadata": {},
   "outputs": [
    {
     "data": {
      "text/plain": [
       "array([       0.,        0.,        0.,        0.,        0.,        0.,\n",
       "              0.,        0.,        0.,        0.,        0.,        0.,\n",
       "              0.,        0.,        4.,       21.,      218.,     3552.,\n",
       "          44985.,   411752.,  2554350., 10582587., 29240572., 53808152.,\n",
       "       65922308., 53801457., 29227322., 10585817.,  2552356.,   412816.,\n",
       "          45519.,     4016.,      637.,      442.,      425.,      309.,\n",
       "            228.,       81.,       45.,       19.,        1.,        1.,\n",
       "              0.,        3.,        2.,        2.,        0.,        1.,\n",
       "              0.])"
      ]
     },
     "execution_count": 28,
     "metadata": {},
     "output_type": "execute_result"
    }
   ],
   "source": [
    "(n2)"
   ]
  },
  {
   "cell_type": "code",
   "execution_count": 29,
   "metadata": {},
   "outputs": [
    {
     "data": {
      "text/plain": [
       "0.0"
      ]
     },
     "execution_count": 29,
     "metadata": {},
     "output_type": "execute_result"
    }
   ],
   "source": [
    "(n1/500)[34:].sum()"
   ]
  },
  {
   "cell_type": "code",
   "execution_count": 42,
   "metadata": {},
   "outputs": [],
   "source": [
    "#n2, bins2, patches2 = plt.hist(flat_qlBkpSigfilt,binsabs,alpha = 0.5,label = \"large img\")\n",
    "#n1, bins1, patches1 = plt.hist(flat_qlfiltered_bkg,binsabs,alpha = 1,histtype='step',color = 'black',label = \"pure bkg\")\n",
    "\n",
    "#thres = 68\n",
    "#n1max = 45\n",
    "\n",
    "#plt.axvline(binsabs[thres-1],color = 'red',linestyle = '--')\n",
    "#plt.axvline(binsabs[n1max-1],color = 'red',linestyle = '--')\n",
    "\n",
    "#plt.legend()\n",
    "\n",
    "#plt.ylim(0, 1000)\n",
    "#plt.xlabel('T')\n",
    "#plt.ylabel('Counts')\n",
    "#plt.grid(True)"
   ]
  },
  {
   "cell_type": "code",
   "execution_count": 43,
   "metadata": {},
   "outputs": [],
   "source": [
    "#print(np.sum(n2[67:]))\n",
    "#print(np.sum(n1[67:]))"
   ]
  },
  {
   "cell_type": "code",
   "execution_count": 82,
   "metadata": {},
   "outputs": [],
   "source": [
    "evntnum = 3\n",
    "xloc = PHSsig_loc[evntnum][0,0]\n",
    "yloc = PHSsig_loc[evntnum][0,1]"
   ]
  },
  {
   "cell_type": "code",
   "execution_count": 83,
   "metadata": {},
   "outputs": [
    {
     "data": {
      "image/png": "[encoded data removed]",
      "text/plain": [
       "<Figure size 432x288 with 1 Axes>"
      ]
     },
     "metadata": {
      "needs_background": "light"
     },
     "output_type": "display_data"
    }
   ],
   "source": [
    "plt.imshow(PHSsig[evntnum][xloc-30:xloc+30,yloc-30:yloc+30])\n",
    "plt.savefig('filtered_map/eta160_g2_sig_2.pdf',bbox_inches='tight')"
   ]
  },
  {
   "cell_type": "code",
   "execution_count": 84,
   "metadata": {},
   "outputs": [
    {
     "data": {
      "image/png": "[encoded data removed]",
      "text/plain": [
       "<Figure size 432x288 with 1 Axes>"
      ]
     },
     "metadata": {
      "needs_background": "light"
     },
     "output_type": "display_data"
    }
   ],
   "source": [
    "plt.imshow(qlBkpSig[evntnum][xloc-30:xloc+30,yloc-30:yloc+30])\n",
    "plt.savefig('filtered_map/eta160_g2_sigbkg_2.pdf',bbox_inches='tight')"
   ]
  },
  {
   "cell_type": "code",
   "execution_count": 85,
   "metadata": {},
   "outputs": [
    {
     "data": {
      "image/png": "[encoded data removed]",
      "text/plain": [
       "<Figure size 432x288 with 1 Axes>"
      ]
     },
     "metadata": {
      "needs_background": "light"
     },
     "output_type": "display_data"
    }
   ],
   "source": [
    "plt.imshow(qlbkgs[evntnum][xloc-30:xloc+30,yloc-30:yloc+30])\n",
    "plt.savefig('filtered_map/eta160_g2_bkg_2.pdf',bbox_inches='tight')"
   ]
  },
  {
   "cell_type": "code",
   "execution_count": 86,
   "metadata": {},
   "outputs": [
    {
     "data": {
      "image/png": "[encoded data removed]",
      "text/plain": [
       "<Figure size 432x288 with 1 Axes>"
      ]
     },
     "metadata": {
      "needs_background": "light"
     },
     "output_type": "display_data"
    }
   ],
   "source": [
    "plt.imshow(qlBkpSigfilt[evntnum][xloc-30+25:xloc+30+25,yloc-30+25:yloc+30+25],cmap='viridis')\n",
    "plt.savefig('filtered_map/eta160_g2_filtered_2.pdf',bbox_inches='tight')"
   ]
  },
  {
   "cell_type": "code",
   "execution_count": 41,
   "metadata": {},
   "outputs": [
    {
     "name": "stdout",
     "output_type": "stream",
     "text": [
      "259200000.0\n",
      "259200000.0\n",
      "[42567.  2981.   131.     5.     0.     0.     0.     0.     0.     0.]\n",
      "[45519.  4016.   637.   442.   425.   309.   228.    81.    45.    19.]\n",
      "d.o.f = 9\n"
     ]
    },
    {
     "name": "stderr",
     "output_type": "stream",
     "text": [
      "/tmp/ipykernel_2298481/4143925260.py:10: RuntimeWarning: divide by zero encountered in true_divide\n",
      "  np.sum((n2[thres:n1max]-n1[thres:n1max])**2/n1[thres:n1max])\n"
     ]
    },
    {
     "data": {
      "text/plain": [
       "inf"
      ]
     },
     "execution_count": 41,
     "metadata": {},
     "output_type": "execute_result"
    }
   ],
   "source": [
    "print(np.sum(n2))\n",
    "print(np.sum(n1))\n",
    "\n",
    "thres = 30\n",
    "n1max = 40\n",
    "n2max = 50\n",
    "print(n1[thres:n1max])\n",
    "print(n2[thres:n1max])\n",
    "print(\"d.o.f = \"+str(len(n2[thres:n1max])-1))\n",
    "np.sum((n2[thres:n1max]-n1[thres:n1max])**2/n1[thres:n1max])"
   ]
  },
  {
   "cell_type": "code",
   "execution_count": 30,
   "metadata": {},
   "outputs": [
    {
     "name": "stdout",
     "output_type": "stream",
     "text": [
      "123750.0\n",
      "123749.99999999999\n",
      "[0.         0.         0.         0.00477431 0.03914931 0.16423611\n",
      " 0.72473958 2.77291667]\n",
      "[0.         0.         0.         0.00381944 0.03628472 0.17951389\n",
      " 0.73715278 2.84548611]\n",
      "d.o.f = 7\n"
     ]
    },
    {
     "name": "stderr",
     "output_type": "stream",
     "text": [
      "/tmp/ipykernel_121002/2841332956.py:10: RuntimeWarning: invalid value encountered in true_divide\n",
      "  np.sum((n2[thres:n1max]-n1[thres:n1max])**2/n1[thres:n1max])\n"
     ]
    },
    {
     "data": {
      "text/plain": [
       "nan"
      ]
     },
     "execution_count": 30,
     "metadata": {},
     "output_type": "execute_result"
    }
   ],
   "source": [
    "print(np.sum(n2))\n",
    "print(np.sum(n1))\n",
    "\n",
    "thres = 29\n",
    "n1max = 37\n",
    "n2max = 50\n",
    "print(n1[thres:n1max])\n",
    "print(n2[thres:n1max])\n",
    "print(\"d.o.f = \"+str(len(n2[thres:n1max])-1))\n",
    "np.sum((n2[thres:n1max]-n1[thres:n1max])**2/n1[thres:n1max])"
   ]
  },
  {
   "cell_type": "code",
   "execution_count": 102,
   "metadata": {},
   "outputs": [
    {
     "data": {
      "image/png": "[encoded data removed]",
      "text/plain": [
       "<Figure size 432x288 with 1 Axes>"
      ]
     },
     "metadata": {
      "needs_background": "light"
     },
     "output_type": "display_data"
    }
   ],
   "source": [
    "n2, bins2, patches2 = plt.hist(flat_hpBkpSigfilt,binsabs,alpha = 0.5,label = \"large img\",weights = 1/500*np.ones(len(flat_hpBkpSigfilt)))\n",
    "\n",
    "n1, bins1, patches1 = plt.hist(flat_hpfiltered_bkg,binsabs,alpha = 1,histtype='step',color = 'black',label = \"pure bkg\",weights = 1/500*np.ones(len(flat_hpBkpSigfilt)))\n",
    "\n",
    "plt.axvline(binsabs[thres-1],color = 'red',linestyle = '--')\n",
    "plt.axvline(binsabs[n1max-1],color = 'red',linestyle = '--')\n",
    "\n",
    "plt.legend()\n",
    "\n",
    "plt.ylim(0, 10)\n",
    "plt.xlabel('T')\n",
    "plt.ylabel('Counts')\n",
    "plt.grid(True)"
   ]
  },
  {
   "cell_type": "code",
   "execution_count": 103,
   "metadata": {},
   "outputs": [
    {
     "name": "stdout",
     "output_type": "stream",
     "text": [
      "129959.99599989917\n",
      "129959.99599989917\n",
      "[14055.008      17513.04200002 19028.84199999 18009.11599996\n",
      " 14858.38599997 10707.39199997  6765.01199998  3768.76599999]\n",
      "[14020.982      17390.66000002 18855.70599999 17843.30799996\n",
      " 14765.05599997 10693.96199998  6816.47599998  3837.91799999]\n",
      "d.o.f = 7\n"
     ]
    },
    {
     "data": {
      "text/plain": [
       "6.302893776528178"
      ]
     },
     "execution_count": 103,
     "metadata": {},
     "output_type": "execute_result"
    }
   ],
   "source": [
    "print(np.sum(n2))\n",
    "print(np.sum(n1))\n",
    "\n",
    "thres = 21\n",
    "n1max = 29\n",
    "n2max = 50\n",
    "print(n1[thres:n1max])\n",
    "print(n2[thres:n1max])\n",
    "print(\"d.o.f = \"+str(len(n2[thres:n1max])-1))\n",
    "np.sum((n2[thres:n1max]-n1[thres:n1max])**2/n1[thres:n1max])"
   ]
  },
  {
   "cell_type": "code",
   "execution_count": null,
   "metadata": {},
   "outputs": [],
   "source": []
  },
  {
   "cell_type": "markdown",
   "metadata": {},
   "source": [
    "## Pure Signal Only Check"
   ]
  },
  {
   "cell_type": "code",
   "execution_count": null,
   "metadata": {},
   "outputs": [],
   "source": [
    "# FFT on planted signals\n",
    "path2=\"/afs/crc.nd.edu/user/t/tkim12/Work/CMB_ML/Data/Nside1024/test_img/sig_larger/\"\n",
    "\n",
    "PHSsignals = []\n",
    "for batch in range(1,6):\n",
    "    temp = np.load(path2+\"30_PHS_g1_Sig_onLSS_\"+str(batch)+\".npy\")\n",
    "    for evnt in range(len(temp)):\n",
    "        PHSsignals.append(temp[evnt])\n",
    "\n",
    "PHSsignals = np.array(PHSsignals)\n",
    "\n",
    "rescale_val = 2\n",
    "num_select = 1\n",
    "\n",
    "selected_evnts = np.load('selected_rand_list_'+str(num_select)+'PHS.npy')\n",
    "\n",
    "PHSsig = []\n",
    "PHSsig_loc = []\n",
    "for events in range(len(selected_evnts)):\n",
    "    temp = 0\n",
    "    temp_loc = []\n",
    "    for num in range(num_select):\n",
    "        temp += PHSsignals[selected_evnts[events,num]]\n",
    "        test = PHSsignals[selected_evnts[events,num]]\n",
    "        test_loc = np.where((test==test.max()))\n",
    "        test_locx = int(np.mean(test_loc[0]))\n",
    "        test_locy = int(np.mean(test_loc[1]))\n",
    "        temp_loc.append([test_locx,test_locy])\n",
    "    PHSsig.append(temp)\n",
    "    PHSsig_loc.append(temp_loc)\n",
    "    \n",
    "PHSsig = rescale_val * np.array(PHSsig)\n",
    "PHSsig_loc = np.array(PHSsig_loc)\n",
    "\n",
    "\n",
    "#hpBkpSig = hpbkgs+PHSsig\n",
    "qlBkpSig = PHSsig[:,:360,:360]\n",
    "\n",
    "\n",
    "#hpBkpSigfilt = []\n",
    "qlBkpSigfilt = []\n",
    "\n",
    "\n",
    "for evnts in range(500):\n",
    "    #hptempfft = np.fft.rfft2(hpBkpSig[evnts])\n",
    "    qltempfft = np.fft.rfft2(qlBkpSig[evnts])\n",
    "    qltempfft[0,0]=0\n",
    "    \n",
    "    fft_power[fft_power<10**-10]=10**20\n",
    "    #hptempfiltered = np.fft.irfft2(hptempfft    *np_rfft_hk/hpfft_power)\n",
    "    #qltempfiltered = np.fft.irfft2(qltempfft    * np.conjugate(np_rfft_hk)/qlfft_power)\n",
    "    qltempfiltered = np.fft.irfft2(qltempfft    * np_rfft_hk/fft_power)\n",
    "    #qltempfiltered = np.fft.irfft2((qltempfft    * np_rfft_hk/qlfft_power)[1:,1:])\n",
    "\n",
    "    #hpBkpSigfilt.append(hptempfiltered)\n",
    "    qlBkpSigfilt.append(qltempfiltered)\n",
    "    \n",
    "#hpBkpSigfilt = np.array(hpBkpSigfilt)\n",
    "qlBkpSigfilt = np.array(qlBkpSigfilt)\n",
    "\n",
    "#flat_hpBkpSigfilt = hpBkpSigfilt.flatten()\n",
    "flat_qlBkpSigfilt = qlBkpSigfilt.flatten()\n",
    "\n",
    "#thres = 37\n",
    "#n1max = 45\n",
    "\n",
    "n2, bins2, patches2 = plt.hist(flat_qlBkpSigfilt,binsabs,alpha = 0.5,label = \"large img\",density=True)\n",
    "\n",
    "n1, bins1, patches1 = plt.hist(flat_qlfiltered_bkg,binsabs,alpha = 1,histtype='step',color = 'black',label = \"pure bkg\",density=True)\n",
    "\n",
    "#plt.axvline(binsabs[thres-1],color = 'red',linestyle = '--')\n",
    "#plt.axvline(binsabs[n1max-1],color = 'red',linestyle = '--')\n",
    "\n",
    "plt.legend()\n",
    "\n",
    "plt.ylim(0, 10)\n",
    "plt.xlabel('T')\n",
    "plt.ylabel('Counts')\n",
    "plt.grid(True)"
   ]
  },
  {
   "cell_type": "code",
   "execution_count": null,
   "metadata": {},
   "outputs": [],
   "source": [
    "evntnum = 6\n",
    "xloc = PHSsig_loc[evntnum][0,0]\n",
    "yloc = PHSsig_loc[evntnum][0,1]"
   ]
  },
  {
   "cell_type": "code",
   "execution_count": null,
   "metadata": {},
   "outputs": [],
   "source": [
    "plt.imshow(PHSsig[evntnum][xloc-30:xloc+30,yloc-30:yloc+30])"
   ]
  },
  {
   "cell_type": "code",
   "execution_count": null,
   "metadata": {},
   "outputs": [],
   "source": [
    "plt.imshow(qlBkpSigfilt[evntnum][xloc-30+25:xloc+30+25,yloc-30+25:yloc+30+25],cmap='viridis')\n",
    "plt.colorbar()"
   ]
  },
  {
   "cell_type": "code",
   "execution_count": null,
   "metadata": {},
   "outputs": [],
   "source": []
  },
  {
   "cell_type": "code",
   "execution_count": 94,
   "metadata": {},
   "outputs": [
    {
     "data": {
      "text/plain": [
       "'num_select = 25\\nselected_evnts = []\\n\\nfor tries in range(500):\\n    gen_list = np.random.choice(range(0,150), num_select, replace = False).reshape(-1,num_select)\\n    selected_evnts.append(gen_list[0])\\n\\nselected_evnts = np.array(selected_evnts)\\nnp.save(\"selected_rand_list_\"+str(num_select)+\"PHS\",selected_evnts)\\n'"
      ]
     },
     "execution_count": 94,
     "metadata": {},
     "output_type": "execute_result"
    }
   ],
   "source": [
    "'''num_select = 25\n",
    "selected_evnts = []\n",
    "\n",
    "for tries in range(500):\n",
    "    gen_list = np.random.choice(range(0,150), num_select, replace = False).reshape(-1,num_select)\n",
    "    selected_evnts.append(gen_list[0])\n",
    "\n",
    "selected_evnts = np.array(selected_evnts)\n",
    "np.save(\"selected_rand_list_\"+str(num_select)+\"PHS\",selected_evnts)\n",
    "'''"
   ]
  },
  {
   "cell_type": "code",
   "execution_count": null,
   "metadata": {},
   "outputs": [],
   "source": []
  }
 ],
 "metadata": {
  "kernelspec": {
   "display_name": "Python 3 (ipykernel)",
   "language": "python",
   "name": "python3"
  },
  "language_info": {
   "codemirror_mode": {
    "name": "ipython",
    "version": 3
   },
   "file_extension": ".py",
   "mimetype": "text/x-python",
   "name": "python",
   "nbconvert_exporter": "python",
   "pygments_lexer": "ipython3",
   "version": "3.9.7"
  }
 },
 "nbformat": 4,
 "nbformat_minor": 4
}
