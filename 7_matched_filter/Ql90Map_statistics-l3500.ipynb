{
 "cells": [
  {
   "cell_type": "code",
   "execution_count": 1,
   "metadata": {},
   "outputs": [],
   "source": [
    "import numpy as np\n",
    "#import tensorflow as tf\n",
    "from matplotlib import pyplot as plt\n",
    "import glob\n",
    "import random\n",
    "from sklearn.preprocessing import normalize\n"
   ]
  },
  {
   "cell_type": "code",
   "execution_count": 2,
   "metadata": {},
   "outputs": [],
   "source": [
    "def largest_indices(ary, n):\n",
    "    \"\"\"Returns the n largest indices from a numpy array.\"\"\"\n",
    "    flat = ary.flatten()\n",
    "    indices = np.argpartition(flat, -n)[-n:]\n",
    "    indices = indices[np.argsort(-flat[indices])]\n",
    "    return np.unravel_index(indices, ary.shape)\n",
    "\n",
    "def norm_twoarr(arr1,arr2):\n",
    "    min1 = np.min([arr1,arr2])\n",
    "    max1 = np.max([arr1,arr2])\n",
    "    \n",
    "    arr1new = (arr1 - min1)/(max1 - min1)\n",
    "    arr2new = (arr2 - min1)/(max1 - min1)\n",
    "    \n",
    "    return arr1new, arr2new"
   ]
  },
  {
   "cell_type": "markdown",
   "metadata": {},
   "source": [
    "## Eta 160"
   ]
  },
  {
   "cell_type": "code",
   "execution_count": 10,
   "metadata": {},
   "outputs": [],
   "source": [
    "path3=\"/afs/crc.nd.edu/user/t/tkim12/Work/CMB_ML/Eventcode/new_profile_singlePHS_projection/samples/\"\n",
    "hs_profile = np.load(path3+\"Nside1024_singleHS_profile.npy\")\n",
    "\n",
    "# h(x) -> h(k)\n",
    "h_frame = np.zeros( ( 90  ,  90 )) # Frame with zeros\n",
    "h_frame[0:len(hs_profile),0:len(hs_profile)]+= hs_profile\n",
    "np_rfft_hk=np.fft.rfft2(h_frame)\n"
   ]
  },
  {
   "cell_type": "code",
   "execution_count": 11,
   "metadata": {},
   "outputs": [],
   "source": [
    "path = '/afs/crc.nd.edu/user/t/tkim12/Work/CMB_ML/Data/Nside1024/'\n",
    "#tot = np.load(path+\"1PHS6Events_Nside2048_d0_d80_BKG_\"+str(0)+\".npy\")\n",
    "\n",
    "qlbkgs = np.empty((0, 90, 90))\n",
    "for evnts in range(1):\n",
    "    temp = np.load(path+\"quicklens_90x90_uncuts/500_events_90Sqr_lensed_uncutBackgroundlmax3500_\"+str(evnts)+\".npy\")\n",
    "\n",
    "    qlbkgs = np.concatenate((qlbkgs,temp))"
   ]
  },
  {
   "cell_type": "code",
   "execution_count": 12,
   "metadata": {},
   "outputs": [],
   "source": [
    "qlbkgs_power = np.load(path+\"quicklens_90x90_uncuts/500_events_90Sqr_lensed_uncutBackgroundlmax3500_1.npy\")"
   ]
  },
  {
   "cell_type": "code",
   "execution_count": 13,
   "metadata": {},
   "outputs": [
    {
     "name": "stdout",
     "output_type": "stream",
     "text": [
      "(90, 46)\n",
      "500\n"
     ]
    }
   ],
   "source": [
    "# FFT average of multiple Backgrounds\n",
    "fft_power = np.zeros((np_rfft_hk.shape[0],np_rfft_hk.shape[1]))\n",
    "print((np_rfft_hk.shape[0],np_rfft_hk.shape[1]))\n",
    "#fft_power = np.zeros((420,420))\n",
    "for evnt in range(len(qlbkgs_power)):\n",
    "    temp = qlbkgs_power[evnt]\n",
    "    tempfft = np.fft.rfft2(temp)\n",
    "    temppower = tempfft*np.conj(tempfft)\n",
    "    fft_power = fft_power + temppower\n",
    "    if not (evnt+1) % 500:\n",
    "        print(str(evnt+1))\n",
    "        \n",
    "fft_power = np.real(fft_power)/len(qlbkgs)"
   ]
  },
  {
   "cell_type": "markdown",
   "metadata": {},
   "source": [
    "## Event by event analysis (Maximum value based)"
   ]
  },
  {
   "cell_type": "code",
   "execution_count": 16,
   "metadata": {},
   "outputs": [],
   "source": [
    "tot_evnt = 500\n",
    "rescale_val = 2\n",
    "num_select = 1\n",
    "\n",
    "selected_evnts = []\n",
    "\n",
    "for tries in range(tot_evnt):\n",
    "    gen_list = np.random.choice(range(0,150), num_select, replace = False).reshape(-1,num_select)\n",
    "    selected_evnts.append(gen_list[0])\n",
    "\n",
    "selected_evnts = np.array(selected_evnts)"
   ]
  },
  {
   "cell_type": "code",
   "execution_count": 17,
   "metadata": {},
   "outputs": [
    {
     "name": "stdout",
     "output_type": "stream",
     "text": [
      "0.004516707744604083\n",
      "1.0\n"
     ]
    },
    {
     "data": {
      "image/png": "[encoded data removed]",
      "text/plain": [
       "<Figure size 640x480 with 1 Axes>"
      ]
     },
     "metadata": {},
     "output_type": "display_data"
    }
   ],
   "source": [
    "# FFT on planted signals\n",
    "pathsig = '/afs/crc.nd.edu/user/t/tkim12/Work/CMB_ML/Data/Nside1024/'\n",
    "\n",
    "PHSsignals = []\n",
    "for batch in range(1,4):\n",
    "    temp = np.load(pathsig+\"PHS_signal/500_PHS_g1_Sig_\"+str(batch)+\".npy\")\n",
    "    for evnt in range(len(temp)):\n",
    "        PHSsignals.append(temp[evnt])\n",
    "\n",
    "PHSsignals = np.array(PHSsignals)\n",
    "\n",
    "selected_evnts = np.load('selected_rand_list_'+str(num_select)+'PHS.npy')\n",
    "\n",
    "PHSsig = []\n",
    "PHSsig_loc = []\n",
    "for events in range(tot_evnt):\n",
    "    temp = 0\n",
    "    temp_loc = []\n",
    "    for num in range(num_select):\n",
    "        temp += PHSsignals[selected_evnts[events,num]]\n",
    "        test = PHSsignals[selected_evnts[events,num]]\n",
    "        test_loc = np.where((test==test.max()))\n",
    "        test_locx = int(np.mean(test_loc[0]))\n",
    "        test_locy = int(np.mean(test_loc[1]))\n",
    "        temp_loc.append([test_locx,test_locy])\n",
    "    PHSsig.append(temp)\n",
    "    PHSsig_loc.append(temp_loc)\n",
    "\n",
    "PHSsig = rescale_val * np.array(PHSsig)\n",
    "PHSsig_loc = np.array(PHSsig_loc)\n",
    "\n",
    "qlBkpSig = qlbkgs[:tot_evnt]+PHSsig\n",
    "\n",
    "\n",
    "qlBkpSigfilt_max = []\n",
    "qlBkgfilt_max = []\n",
    "\n",
    "for evnts in range(tot_evnt):\n",
    "    qltempfftbkg = np.fft.rfft2(qlbkgs[evnts])\n",
    "    qltempfftspb = np.fft.rfft2(qlBkpSig[evnts])\n",
    "    \n",
    "    qltempfftbkg[0,0]=0\n",
    "    qltempfftspb[0,0]=0\n",
    "    \n",
    "    fft_power[fft_power<10**-20]=10**20\n",
    "    qltempbkgfiltered = np.fft.irfft2(qltempfftbkg  * np_rfft_hk/fft_power)\n",
    "    qltempspbfiltered = np.fft.irfft2(qltempfftspb  * np_rfft_hk/fft_power)\n",
    "    #qltempfiltered = np.fft.irfft2((qltempfft    * np_rfft_hk/qlfft_power)[1:,1:])\n",
    "\n",
    "    #print(np.average(qltempbkgfiltered))\n",
    "    #print(np.average(qltempspbfiltered))\n",
    "    \n",
    "    qlBkgfilt_max.append(np.max(qltempbkgfiltered))\n",
    "    qlBkpSigfilt_max.append(np.max(qltempspbfiltered))\n",
    "    \n",
    "\n",
    "\n",
    "qlBkgfilt_max = np.array(qlBkgfilt_max)\n",
    "qlBkpSigfilt_max = np.array(qlBkpSigfilt_max)\n",
    "\n",
    "print(qlBkpSigfilt_max.max())\n",
    "\n",
    "qlBkgfilt_max, qlBkpSigfilt_max = norm_twoarr(qlBkgfilt_max,qlBkpSigfilt_max)\n",
    "\n",
    "print(qlBkpSigfilt_max.max())\n",
    "binsabs = np.arange(0,1.02,0.04)\n",
    "\n",
    "binsmid=((binsabs[1:]+binsabs[:-1])/2)\n",
    "\n",
    "#thres = 37\n",
    "#n1max = 45\n",
    "\n",
    "n2, bins2, patches2 = plt.hist(qlBkpSigfilt_max,binsabs,alpha = 0.5,color = 'blue',label = \"sig + bkg\",density=False)\n",
    "\n",
    "n1, bins1, patches1 = plt.hist(qlBkgfilt_max,binsabs,alpha = 0.5,color = 'red',label = \"pure bkg\",density=False)\n",
    "\n",
    "#plt.plot(binsmid,gauss(binsmid,*params),color='red',lw=2,label='model')\n",
    "\n",
    "plt.legend()\n",
    "\n",
    "#plt.ylim(0, 10**3)\n",
    "plt.xlabel('normalized $\\psi_{max}$')\n",
    "plt.ylabel('Counts')\n",
    "plt.grid(True)\n",
    "plt.title(f'$\\eta = 160$ Mpc , $g = {rescale_val}$')\n",
    "plt.savefig(f\"MF90sq_result/eta160_g{rescale_val}_dist.pdf\")"
   ]
  },
  {
   "cell_type": "code",
   "execution_count": 18,
   "metadata": {},
   "outputs": [],
   "source": [
    "# Range cuts \n",
    "# g = 3, thre = 5\n",
    "# g = 2, thre = 8\n",
    "# g = 1, thre = 17\n",
    "threshold = 5"
   ]
  },
  {
   "cell_type": "code",
   "execution_count": 51,
   "metadata": {},
   "outputs": [
    {
     "data": {
      "text/plain": [
       "array([77., 76., 32., 22.,  9.,  5.,  5.,  1.,  2.,  0.,  0.,  0.,  0.,\n",
       "        0.,  0.,  0.,  0.,  0.,  0.,  0.])"
      ]
     },
     "execution_count": 51,
     "metadata": {},
     "output_type": "execute_result"
    }
   ],
   "source": [
    "n1[threshold:]"
   ]
  },
  {
   "cell_type": "code",
   "execution_count": 52,
   "metadata": {},
   "outputs": [
    {
     "data": {
      "text/plain": [
       "array([66., 63., 50., 44., 42., 29., 23., 22., 16., 14., 11.,  3.,  5.,\n",
       "        1.,  1.,  2.,  2.,  1.,  0.,  1.])"
      ]
     },
     "execution_count": 52,
     "metadata": {},
     "output_type": "execute_result"
    }
   ],
   "source": [
    "n2[threshold:]"
   ]
  },
  {
   "cell_type": "code",
   "execution_count": 53,
   "metadata": {},
   "outputs": [
    {
     "name": "stdout",
     "output_type": "stream",
     "text": [
      "Fake rate(%) = 45.8\n",
      "Signal efficiency(%) = 79.2\n"
     ]
    }
   ],
   "source": [
    "print(f'Fake rate(%) = {100*n1[threshold:].sum()/tot_evnt}')\n",
    "print(f'Signal efficiency(%) = {100*n2[threshold:].sum()/tot_evnt}')"
   ]
  },
  {
   "cell_type": "code",
   "execution_count": 54,
   "metadata": {},
   "outputs": [
    {
     "data": {
      "text/plain": [
       "8.200000000000001"
      ]
     },
     "execution_count": 54,
     "metadata": {},
     "output_type": "execute_result"
    }
   ],
   "source": [
    "len(qlBkpSigfilt_max[qlBkpSigfilt_max>qlBkgfilt_max.max()])/tot_evnt*100"
   ]
  },
  {
   "cell_type": "code",
   "execution_count": 55,
   "metadata": {},
   "outputs": [],
   "source": [
    "np.save(f\"MF90sq_result/eta160_g{rescale_val}_sigpbkg\",qlBkpSigfilt_max)\n",
    "np.save(f\"MF90sq_result/eta160_g{rescale_val}_bkg\",qlBkgfilt_max)"
   ]
  },
  {
   "cell_type": "markdown",
   "metadata": {},
   "source": [
    "## Eta 100"
   ]
  },
  {
   "cell_type": "code",
   "execution_count": 3,
   "metadata": {},
   "outputs": [],
   "source": [
    "path3=\"/afs/crc.nd.edu/user/t/tkim12/Work/CMB_ML/Eventcode/new_profile_singlePHS_projection/samples/\"\n",
    "hs_profile = np.load(path3+\"Nside1024_singleHS_eta100_profile.npy\")\n",
    "\n",
    "# h(x) -> h(k)\n",
    "h_frame = np.zeros( ( 90  ,  90 )) # Frame with zeros\n",
    "h_frame[0:len(hs_profile),0:len(hs_profile)]+= hs_profile\n",
    "np_rfft_hk=np.fft.rfft2(h_frame)"
   ]
  },
  {
   "cell_type": "code",
   "execution_count": 4,
   "metadata": {},
   "outputs": [],
   "source": [
    "path = '/afs/crc.nd.edu/user/t/tkim12/Work/CMB_ML/Data/Nside1024/'\n",
    "#tot = np.load(path+\"1PHS6Events_Nside2048_d0_d80_BKG_\"+str(0)+\".npy\")\n",
    "\n",
    "qlbkgs = np.empty((0, 90, 90))\n",
    "for evnts in range(1):\n",
    "    temp = np.load(path+\"quicklens_90x90_uncuts/500_events_90Sqr_lensed_uncutBackgroundlmax3500_\"+str(evnts)+\".npy\")\n",
    "\n",
    "    qlbkgs = np.concatenate((qlbkgs,temp))"
   ]
  },
  {
   "cell_type": "code",
   "execution_count": 5,
   "metadata": {},
   "outputs": [],
   "source": [
    "qlbkgs_power = np.load(path+\"quicklens_90x90_uncuts/500_events_90Sqr_lensed_uncutBackgroundlmax3500_1.npy\")"
   ]
  },
  {
   "cell_type": "code",
   "execution_count": 6,
   "metadata": {},
   "outputs": [
    {
     "name": "stdout",
     "output_type": "stream",
     "text": [
      "(90, 46)\n",
      "500\n"
     ]
    }
   ],
   "source": [
    "# FFT average of multiple Backgrounds\n",
    "fft_power = np.zeros((np_rfft_hk.shape[0],np_rfft_hk.shape[1]))\n",
    "print((np_rfft_hk.shape[0],np_rfft_hk.shape[1]))\n",
    "#fft_power = np.zeros((420,420))\n",
    "for evnt in range(len(qlbkgs_power)):\n",
    "    temp = qlbkgs_power[evnt]\n",
    "    tempfft = np.fft.rfft2(temp)\n",
    "    temppower = tempfft*np.conj(tempfft)\n",
    "    fft_power = fft_power + temppower\n",
    "    if not (evnt+1) % 500:\n",
    "        print(str(evnt+1))\n",
    "        \n",
    "fft_power = np.real(fft_power)/len(qlbkgs)"
   ]
  },
  {
   "cell_type": "markdown",
   "metadata": {},
   "source": [
    "## Event by event analysis (Maximum value based)"
   ]
  },
  {
   "cell_type": "code",
   "execution_count": 7,
   "metadata": {},
   "outputs": [],
   "source": [
    "tot_evnt = 500\n",
    "rescale_val = 2\n",
    "num_select = 1\n",
    "\n",
    "selected_evnts = []\n",
    "\n",
    "for tries in range(tot_evnt):\n",
    "    gen_list = np.random.choice(range(0,150), num_select, replace = False).reshape(-1,num_select)\n",
    "    selected_evnts.append(gen_list[0])\n",
    "\n",
    "selected_evnts = np.array(selected_evnts)"
   ]
  },
  {
   "cell_type": "code",
   "execution_count": 9,
   "metadata": {},
   "outputs": [
    {
     "name": "stdout",
     "output_type": "stream",
     "text": [
      "0.002407384094152086\n",
      "1.0\n"
     ]
    },
    {
     "data": {
      "image/png": "[encoded data removed]",
      "text/plain": [
       "<Figure size 640x480 with 1 Axes>"
      ]
     },
     "metadata": {},
     "output_type": "display_data"
    }
   ],
   "source": [
    "# FFT on planted signals\n",
    "pathsig = '/afs/crc.nd.edu/user/t/tkim12/Work/CMB_ML/Data/Nside1024/'\n",
    "\n",
    "PHSsignals = []\n",
    "for batch in range(1,4):\n",
    "    temp = np.load(pathsig+\"PHS_signal/500_eta100PHS_g1_Sig_\"+str(batch)+\".npy\")\n",
    "    for evnt in range(len(temp)):\n",
    "        PHSsignals.append(temp[evnt])\n",
    "\n",
    "PHSsignals = np.array(PHSsignals)\n",
    "\n",
    "#selected_evnts = np.load('selected_rand_list_'+str(num_select)+'PHS.npy')\n",
    "\n",
    "PHSsig = []\n",
    "PHSsig_loc = []\n",
    "for events in range(tot_evnt):\n",
    "    temp = 0\n",
    "    temp_loc = []\n",
    "    for num in range(num_select):\n",
    "        temp += PHSsignals[selected_evnts[events,num]]\n",
    "        test = PHSsignals[selected_evnts[events,num]]\n",
    "        test_loc = np.where((test==test.max()))\n",
    "        test_locx = int(np.mean(test_loc[0]))\n",
    "        test_locy = int(np.mean(test_loc[1]))\n",
    "        temp_loc.append([test_locx,test_locy])\n",
    "    PHSsig.append(temp)\n",
    "    PHSsig_loc.append(temp_loc)\n",
    "\n",
    "PHSsig = rescale_val * np.array(PHSsig)\n",
    "PHSsig_loc = np.array(PHSsig_loc)\n",
    "\n",
    "qlBkpSig = qlbkgs[:tot_evnt]+PHSsig\n",
    "\n",
    "\n",
    "qlBkpSigfilt_max = []\n",
    "qlBkgfilt_max = []\n",
    "\n",
    "for evnts in range(tot_evnt):\n",
    "    qltempfftbkg = np.fft.rfft2(qlbkgs[evnts])\n",
    "    qltempfftspb = np.fft.rfft2(qlBkpSig[evnts])\n",
    "    \n",
    "    qltempfftbkg[0,0]=0\n",
    "    qltempfftspb[0,0]=0\n",
    "    \n",
    "    fft_power[fft_power<10**-20]=10**20\n",
    "    qltempbkgfiltered = np.fft.irfft2(qltempfftbkg  * np_rfft_hk/fft_power)\n",
    "    qltempspbfiltered = np.fft.irfft2(qltempfftspb  * np_rfft_hk/fft_power)\n",
    "    #qltempfiltered = np.fft.irfft2((qltempfft    * np_rfft_hk/qlfft_power)[1:,1:])\n",
    "\n",
    "    #print(np.average(qltempbkgfiltered))\n",
    "    #print(np.average(qltempspbfiltered))\n",
    "    \n",
    "    qlBkgfilt_max.append(np.max(qltempbkgfiltered))\n",
    "    qlBkpSigfilt_max.append(np.max(qltempspbfiltered))\n",
    "    \n",
    "\n",
    "\n",
    "qlBkgfilt_max = np.array(qlBkgfilt_max)\n",
    "qlBkpSigfilt_max = np.array(qlBkpSigfilt_max)\n",
    "\n",
    "print(qlBkpSigfilt_max.max())\n",
    "\n",
    "qlBkgfilt_max, qlBkpSigfilt_max = norm_twoarr(qlBkgfilt_max,qlBkpSigfilt_max)\n",
    "\n",
    "print(qlBkpSigfilt_max.max())\n",
    "binsabs = np.arange(0,1.02,0.04)\n",
    "\n",
    "binsmid=((binsabs[1:]+binsabs[:-1])/2)\n",
    "\n",
    "#thres = 37\n",
    "#n1max = 45\n",
    "\n",
    "n2, bins2, patches2 = plt.hist(qlBkpSigfilt_max,binsabs,alpha = 0.5,color = 'blue',label = \"sig + bkg\",density=False)\n",
    "\n",
    "n1, bins1, patches1 = plt.hist(qlBkgfilt_max,binsabs,alpha = 0.5,color = 'red',label = \"pure bkg\",density=False)\n",
    "\n",
    "#plt.plot(binsmid,gauss(binsmid,*params),color='red',lw=2,label='model')\n",
    "\n",
    "plt.legend()\n",
    "\n",
    "#plt.ylim(0, 10**3)\n",
    "plt.xlabel('normalized $\\psi_{max}$')\n",
    "plt.ylabel('Counts')\n",
    "plt.grid(True)\n",
    "plt.title(f'$\\eta = 100$ Mpc , $g = {rescale_val}$')\n",
    "plt.savefig(f\"MF90sq_result/eta100_g{rescale_val}_dist.pdf\")"
   ]
  },
  {
   "cell_type": "code",
   "execution_count": 78,
   "metadata": {},
   "outputs": [],
   "source": [
    "# Range cuts \n",
    "# g = 3, thre = 4\n",
    "# g = 2, thre = 7\n",
    "# g = 1, thre = 17\n",
    "threshold = 10"
   ]
  },
  {
   "cell_type": "code",
   "execution_count": 79,
   "metadata": {},
   "outputs": [
    {
     "data": {
      "text/plain": [
       "array([0., 0., 0., 0., 0., 0., 0., 0., 0., 0., 0., 0., 0., 0., 0.])"
      ]
     },
     "execution_count": 79,
     "metadata": {},
     "output_type": "execute_result"
    }
   ],
   "source": [
    "n1[threshold:]"
   ]
  },
  {
   "cell_type": "code",
   "execution_count": 80,
   "metadata": {},
   "outputs": [
    {
     "data": {
      "text/plain": [
       "array([21., 14.,  9.,  2.,  2.,  0.,  0.,  0.,  1.,  0.,  0.,  0.,  0.,\n",
       "        0.,  1.])"
      ]
     },
     "execution_count": 80,
     "metadata": {},
     "output_type": "execute_result"
    }
   ],
   "source": [
    "n2[threshold:]"
   ]
  },
  {
   "cell_type": "code",
   "execution_count": 81,
   "metadata": {},
   "outputs": [
    {
     "name": "stdout",
     "output_type": "stream",
     "text": [
      "Fake rate(%) = 0.0\n",
      "Signal efficiency(%) = 10.0\n"
     ]
    }
   ],
   "source": [
    "print(f'Fake rate(%) = {100*n1[threshold:].sum()/tot_evnt}')\n",
    "print(f'Signal efficiency(%) = {100*n2[threshold:].sum()/tot_evnt}')"
   ]
  },
  {
   "cell_type": "code",
   "execution_count": 82,
   "metadata": {},
   "outputs": [
    {
     "data": {
      "text/plain": [
       "93.8"
      ]
     },
     "execution_count": 82,
     "metadata": {},
     "output_type": "execute_result"
    }
   ],
   "source": [
    "len(qlBkpSigfilt_max[qlBkpSigfilt_max>qlBkgfilt_max.max()])/tot_evnt*100"
   ]
  },
  {
   "cell_type": "code",
   "execution_count": 83,
   "metadata": {},
   "outputs": [],
   "source": [
    "np.save(f\"MF90sq_result/eta100_g{rescale_val}_sigpbkg\",qlBkpSigfilt_max)\n",
    "np.save(f\"MF90sq_result/eta100_g{rescale_val}_bkg\",qlBkgfilt_max)"
   ]
  },
  {
   "cell_type": "markdown",
   "metadata": {},
   "source": [
    "## Eta 50"
   ]
  },
  {
   "cell_type": "code",
   "execution_count": 84,
   "metadata": {},
   "outputs": [],
   "source": [
    "path3=\"/afs/crc.nd.edu/user/t/tkim12/Work/CMB_ML/Eventcode/new_profile_singlePHS_projection/samples/\"\n",
    "hs_profile = np.load(path3+\"Nside1024_singleHS_eta50_profile.npy\")\n",
    "\n",
    "# h(x) -> h(k)\n",
    "h_frame = np.zeros( ( 90  ,  90 )) # Frame with zeros\n",
    "h_frame[0:len(hs_profile),0:len(hs_profile)]+= hs_profile\n",
    "np_rfft_hk=np.fft.rfft2(h_frame)\n"
   ]
  },
  {
   "cell_type": "code",
   "execution_count": 85,
   "metadata": {},
   "outputs": [
    {
     "data": {
      "text/plain": [
       "<matplotlib.image.AxesImage at 0x7fe600acce50>"
      ]
     },
     "execution_count": 85,
     "metadata": {},
     "output_type": "execute_result"
    },
    {
     "data": {
      "image/png": "[encoded data removed]",
      "text/plain": [
       "<Figure size 432x288 with 1 Axes>"
      ]
     },
     "metadata": {
      "needs_background": "light"
     },
     "output_type": "display_data"
    }
   ],
   "source": [
    "plt.imshow(hs_profile)"
   ]
  },
  {
   "cell_type": "code",
   "execution_count": 86,
   "metadata": {},
   "outputs": [],
   "source": [
    "path = '/afs/crc.nd.edu/user/t/tkim12/Work/CMB_ML/Data/Nside1024/'\n",
    "#tot = np.load(path+\"1PHS6Events_Nside2048_d0_d80_BKG_\"+str(0)+\".npy\")\n",
    "\n",
    "qlbkgs = np.empty((0, 90, 90))\n",
    "for evnts in range(1):\n",
    "    temp = np.load(path+\"quicklens_90x90_uncuts/500_events_90Sqr_lensed_uncutBackgroundlmax3500_\"+str(evnts)+\".npy\")\n",
    "\n",
    "    qlbkgs = np.concatenate((qlbkgs,temp))"
   ]
  },
  {
   "cell_type": "code",
   "execution_count": 87,
   "metadata": {},
   "outputs": [],
   "source": [
    "qlbkgs_power = np.load(path+\"quicklens_90x90_uncuts/500_events_90Sqr_lensed_uncutBackgroundlmax3500_1.npy\")"
   ]
  },
  {
   "cell_type": "code",
   "execution_count": 88,
   "metadata": {},
   "outputs": [
    {
     "name": "stdout",
     "output_type": "stream",
     "text": [
      "(90, 46)\n",
      "500\n"
     ]
    }
   ],
   "source": [
    "# FFT average of multiple Backgrounds\n",
    "fft_power = np.zeros((np_rfft_hk.shape[0],np_rfft_hk.shape[1]))\n",
    "print((np_rfft_hk.shape[0],np_rfft_hk.shape[1]))\n",
    "#fft_power = np.zeros((420,420))\n",
    "for evnt in range(len(qlbkgs_power)):\n",
    "    temp = qlbkgs_power[evnt]\n",
    "    tempfft = np.fft.rfft2(temp)\n",
    "    temppower = tempfft*np.conj(tempfft)\n",
    "    fft_power = fft_power + temppower\n",
    "    if not (evnt+1) % 500:\n",
    "        print(str(evnt+1))\n",
    "        \n",
    "fft_power = np.real(fft_power)/len(qlbkgs)"
   ]
  },
  {
   "cell_type": "markdown",
   "metadata": {},
   "source": [
    "## Event by event analysis (Maximum value based)"
   ]
  },
  {
   "cell_type": "code",
   "execution_count": 121,
   "metadata": {},
   "outputs": [],
   "source": [
    "tot_evnt = 500\n",
    "rescale_val = 1\n",
    "num_select = 1\n",
    "\n",
    "selected_evnts = []\n",
    "\n",
    "for tries in range(tot_evnt):\n",
    "    gen_list = np.random.choice(range(0,150), num_select, replace = False).reshape(-1,num_select)\n",
    "    selected_evnts.append(gen_list[0])\n",
    "\n",
    "selected_evnts = np.array(selected_evnts)"
   ]
  },
  {
   "cell_type": "code",
   "execution_count": 122,
   "metadata": {},
   "outputs": [
    {
     "name": "stdout",
     "output_type": "stream",
     "text": [
      "0.0008597218804584467\n",
      "0.9918145779663856\n"
     ]
    },
    {
     "data": {
      "image/png": "[encoded data removed]",
      "text/plain": [
       "<Figure size 432x288 with 1 Axes>"
      ]
     },
     "metadata": {
      "needs_background": "light"
     },
     "output_type": "display_data"
    }
   ],
   "source": [
    "# FFT on planted signals\n",
    "pathsig = '/afs/crc.nd.edu/user/t/tkim12/Work/CMB_ML/Data/Nside1024/'\n",
    "\n",
    "PHSsignals = []\n",
    "for batch in range(1,4):\n",
    "    temp = np.load(pathsig+\"PHS_signal/500_eta50PHS_g1_Sig_\"+str(batch)+\".npy\")\n",
    "    for evnt in range(len(temp)):\n",
    "        PHSsignals.append(temp[evnt])\n",
    "\n",
    "PHSsignals = np.array(PHSsignals)\n",
    "\n",
    "#selected_evnts = np.load('selected_rand_list_'+str(num_select)+'PHS.npy')\n",
    "\n",
    "PHSsig = []\n",
    "PHSsig_loc = []\n",
    "for events in range(tot_evnt):\n",
    "    temp = 0\n",
    "    temp_loc = []\n",
    "    for num in range(num_select):\n",
    "        temp += PHSsignals[selected_evnts[events,num]]\n",
    "        test = PHSsignals[selected_evnts[events,num]]\n",
    "        test_loc = np.where((test==test.max()))\n",
    "        test_locx = int(np.mean(test_loc[0]))\n",
    "        test_locy = int(np.mean(test_loc[1]))\n",
    "        temp_loc.append([test_locx,test_locy])\n",
    "    PHSsig.append(temp)\n",
    "    PHSsig_loc.append(temp_loc)\n",
    "\n",
    "PHSsig = rescale_val * np.array(PHSsig)\n",
    "PHSsig_loc = np.array(PHSsig_loc)\n",
    "\n",
    "qlBkpSig = qlbkgs[:tot_evnt]+PHSsig\n",
    "\n",
    "\n",
    "qlBkpSigfilt_max = []\n",
    "qlBkgfilt_max = []\n",
    "\n",
    "for evnts in range(tot_evnt):\n",
    "    qltempfftbkg = np.fft.rfft2(qlbkgs[evnts])\n",
    "    qltempfftspb = np.fft.rfft2(qlBkpSig[evnts])\n",
    "    \n",
    "    qltempfftbkg[0,0]=0\n",
    "    qltempfftspb[0,0]=0\n",
    "    \n",
    "    fft_power[fft_power<10**-20]=10**20\n",
    "    qltempbkgfiltered = np.fft.irfft2(qltempfftbkg  * np_rfft_hk/fft_power)\n",
    "    qltempspbfiltered = np.fft.irfft2(qltempfftspb  * np_rfft_hk/fft_power)\n",
    "    #qltempfiltered = np.fft.irfft2((qltempfft    * np_rfft_hk/qlfft_power)[1:,1:])\n",
    "\n",
    "    #print(np.average(qltempbkgfiltered))\n",
    "    #print(np.average(qltempspbfiltered))\n",
    "    \n",
    "    qlBkgfilt_max.append(np.max(qltempbkgfiltered))\n",
    "    qlBkpSigfilt_max.append(np.max(qltempspbfiltered))\n",
    "    \n",
    "\n",
    "\n",
    "qlBkgfilt_max = np.array(qlBkgfilt_max)\n",
    "qlBkpSigfilt_max = np.array(qlBkpSigfilt_max)\n",
    "\n",
    "print(qlBkpSigfilt_max.max())\n",
    "\n",
    "qlBkgfilt_max, qlBkpSigfilt_max = norm_twoarr(qlBkgfilt_max,qlBkpSigfilt_max)\n",
    "\n",
    "print(qlBkpSigfilt_max.max())\n",
    "binsabs = np.arange(0,1.02,0.04)\n",
    "\n",
    "binsmid=((binsabs[1:]+binsabs[:-1])/2)\n",
    "\n",
    "#thres = 37\n",
    "#n1max = 45\n",
    "\n",
    "n2, bins2, patches2 = plt.hist(qlBkpSigfilt_max,binsabs,alpha = 0.5,color = 'blue',label = \"sig + bkg\",density=False)\n",
    "\n",
    "n1, bins1, patches1 = plt.hist(qlBkgfilt_max,binsabs,alpha = 0.5,color = 'red',label = \"pure bkg\",density=False)\n",
    "\n",
    "#plt.plot(binsmid,gauss(binsmid,*params),color='red',lw=2,label='model')\n",
    "\n",
    "plt.legend()\n",
    "\n",
    "plt.xlabel('normalized $\\psi_{max}$')\n",
    "plt.ylabel('Counts')\n",
    "plt.grid(True)\n",
    "plt.title('$\\eta = 50$ Mpc')\n",
    "plt.savefig(f\"MF90sq_result/eta50_g{rescale_val}_dist.pdf\")"
   ]
  },
  {
   "cell_type": "code",
   "execution_count": 123,
   "metadata": {},
   "outputs": [],
   "source": [
    "# Range cuts \n",
    "# g = 3, thre = 6\n",
    "# g = 2, thre = 8\n",
    "# g = 1, thre = 17\n",
    "threshold = 10"
   ]
  },
  {
   "cell_type": "code",
   "execution_count": 124,
   "metadata": {},
   "outputs": [
    {
     "data": {
      "text/plain": [
       "array([28., 34., 26., 18., 11.,  8.,  6.,  2.,  1.,  3.,  4.,  1.,  1.,\n",
       "        0.,  1.])"
      ]
     },
     "execution_count": 124,
     "metadata": {},
     "output_type": "execute_result"
    }
   ],
   "source": [
    "n1[threshold:]"
   ]
  },
  {
   "cell_type": "code",
   "execution_count": 125,
   "metadata": {},
   "outputs": [
    {
     "data": {
      "text/plain": [
       "array([36., 34., 23., 15., 16.,  6.,  9.,  3.,  3.,  2.,  3.,  3.,  0.,\n",
       "        0.,  1.])"
      ]
     },
     "execution_count": 125,
     "metadata": {},
     "output_type": "execute_result"
    }
   ],
   "source": [
    "n2[threshold:]"
   ]
  },
  {
   "cell_type": "code",
   "execution_count": 126,
   "metadata": {},
   "outputs": [
    {
     "name": "stdout",
     "output_type": "stream",
     "text": [
      "Fake rate(%) = 28.8\n",
      "Signal efficiency(%) = 30.8\n"
     ]
    }
   ],
   "source": [
    "print(f'Fake rate(%) = {100*n1[threshold:].sum()/tot_evnt}')\n",
    "print(f'Signal efficiency(%) = {100*n2[threshold:].sum()/tot_evnt}')"
   ]
  },
  {
   "cell_type": "code",
   "execution_count": 127,
   "metadata": {},
   "outputs": [
    {
     "data": {
      "text/plain": [
       "0.0"
      ]
     },
     "execution_count": 127,
     "metadata": {},
     "output_type": "execute_result"
    }
   ],
   "source": [
    "len(qlBkpSigfilt_max[qlBkpSigfilt_max>qlBkgfilt_max.max()])/tot_evnt*100"
   ]
  },
  {
   "cell_type": "code",
   "execution_count": 128,
   "metadata": {},
   "outputs": [],
   "source": [
    "np.save(f\"MF90sq_result/eta50_g{rescale_val}_sigpbkg\",qlBkpSigfilt_max)\n",
    "np.save(f\"MF90sq_result/eta50_g{rescale_val}_bkg\",qlBkgfilt_max)"
   ]
  },
  {
   "cell_type": "code",
   "execution_count": null,
   "metadata": {},
   "outputs": [],
   "source": []
  },
  {
   "cell_type": "code",
   "execution_count": 230,
   "metadata": {},
   "outputs": [
    {
     "data": {
      "text/plain": [
       "'num_select = 25\\nselected_evnts = []\\n\\nfor tries in range(500):\\n    gen_list = np.random.choice(range(0,150), num_select, replace = False).reshape(-1,num_select)\\n    selected_evnts.append(gen_list[0])\\n\\nselected_evnts = np.array(selected_evnts)\\nnp.save(\"selected_rand_list_\"+str(num_select)+\"PHS\",selected_evnts)\\n'"
      ]
     },
     "execution_count": 230,
     "metadata": {},
     "output_type": "execute_result"
    }
   ],
   "source": [
    "'''num_select = 25\n",
    "selected_evnts = []\n",
    "\n",
    "for tries in range(500):\n",
    "    gen_list = np.random.choice(range(0,150), num_select, replace = False).reshape(-1,num_select)\n",
    "    selected_evnts.append(gen_list[0])\n",
    "\n",
    "selected_evnts = np.array(selected_evnts)\n",
    "np.save(\"selected_rand_list_\"+str(num_select)+\"PHS\",selected_evnts)\n",
    "'''"
   ]
  },
  {
   "cell_type": "markdown",
   "metadata": {},
   "source": [
    "## Event by event analysis (average value based) (Trashed)"
   ]
  },
  {
   "cell_type": "code",
   "execution_count": null,
   "metadata": {},
   "outputs": [],
   "source": [
    "'''tot_evnt = 500\n",
    "rescale_val = 2\n",
    "num_select = 1'''"
   ]
  },
  {
   "cell_type": "code",
   "execution_count": null,
   "metadata": {},
   "outputs": [],
   "source": [
    "'''# FFT on planted signals\n",
    "pathsig = '/afs/crc.nd.edu/user/t/tkim12/Work/CMB_ML/Data/Nside1024/'\n",
    "\n",
    "PHSsignals = []\n",
    "for batch in range(1,4):\n",
    "    temp = np.load(pathsig+\"PHS_signal/500_PHS_g1_Sig_\"+str(batch)+\".npy\")\n",
    "    for evnt in range(len(temp)):\n",
    "        PHSsignals.append(temp[evnt])\n",
    "\n",
    "PHSsignals = np.array(PHSsignals)\n",
    "\n",
    "selected_evnts = np.load('selected_rand_list_'+str(num_select)+'PHS.npy')\n",
    "\n",
    "PHSsig = []\n",
    "PHSsig_loc = []\n",
    "for events in range(tot_evnt):\n",
    "    temp = 0\n",
    "    temp_loc = []\n",
    "    for num in range(num_select):\n",
    "        temp += PHSsignals[selected_evnts[events,num]]\n",
    "        test = PHSsignals[selected_evnts[events,num]]\n",
    "        test_loc = np.where((test==test.max()))\n",
    "        test_locx = int(np.mean(test_loc[0]))\n",
    "        test_locy = int(np.mean(test_loc[1]))\n",
    "        temp_loc.append([test_locx,test_locy])\n",
    "    PHSsig.append(temp)\n",
    "    PHSsig_loc.append(temp_loc)\n",
    "\n",
    "PHSsig = rescale_val * np.array(PHSsig)\n",
    "PHSsig_loc = np.array(PHSsig_loc)\n",
    "\n",
    "qlBkpSig = qlbkgs[:tot_evnt]+PHSsig\n",
    "\n",
    "\n",
    "qlBkpSigfilt_ave = []\n",
    "qlBkgfilt_ave = []\n",
    "\n",
    "for evnts in range(tot_evnt):\n",
    "    qltempfftbkg = np.fft.rfft2(qlbkgs[evnts])\n",
    "    qltempfftspb = np.fft.rfft2(qlBkpSig[evnts])\n",
    "    \n",
    "    qltempfftbkg[0,0]=0\n",
    "    qltempfftspb[0,0]=0\n",
    "    \n",
    "    fft_power[fft_power<10**-20]=10**20\n",
    "    qltempbkgfiltered = np.fft.irfft2(qltempfftbkg  * np_rfft_hk/fft_power)\n",
    "    qltempspbfiltered = np.fft.irfft2(qltempfftspb  * np_rfft_hk/fft_power)\n",
    "    #qltempfiltered = np.fft.irfft2((qltempfft    * np_rfft_hk/qlfft_power)[1:,1:])\n",
    "\n",
    "    #print(np.average(qltempbkgfiltered))\n",
    "    #print(np.average(qltempspbfiltered))\n",
    "    \n",
    "    qlBkgfilt_ave.append(np.average(qltempbkgfiltered))\n",
    "    qlBkpSigfilt_ave.append(np.average(qltempspbfiltered))\n",
    "    \n",
    "\n",
    "\n",
    "qlBkgfilt_ave = np.array(qlBkgfilt_ave)\n",
    "qlBkpSigfilt_ave = np.array(qlBkpSigfilt_ave)\n",
    "\n",
    "print(qlBkgfilt_ave.shape)\n",
    "#binsabs = np.linspace(-0.0001,0.0001,50)\n",
    "\n",
    "#binsmid=((binsabs[1:]+binsabs[:-1])/2)\n",
    "\n",
    "#thres = 37\n",
    "#n1max = 45\n",
    "\n",
    "n2, bins2, patches2 = plt.hist(qlBkpSigfilt_ave,50,alpha = 0.5,color = 'blue',label = \"pure sig\",density=False)\n",
    "\n",
    "n1, bins1, patches1 = plt.hist(qlBkgfilt_ave,bins2,alpha = 0.5,color = 'red',label = \"pure bkg\",density=False)\n",
    "\n",
    "#plt.plot(binsmid,gauss(binsmid,*params),color='red',lw=2,label='model')\n",
    "\n",
    "thres = 33\n",
    "#plt.axvline(binsabs[thres-1],color = 'green',linestyle = '--')\n",
    "#plt.axvline(binsabs[n1max-1],color = 'red',linestyle = '--')\n",
    "\n",
    "plt.legend()\n",
    "\n",
    "#plt.ylim(0, 10**3)\n",
    "plt.xlabel('T')\n",
    "plt.ylabel('Counts')\n",
    "plt.grid(True)'''"
   ]
  }
 ],
 "metadata": {
  "kernelspec": {
   "display_name": "Python 3",
   "language": "python",
   "name": "python3"
  },
  "language_info": {
   "codemirror_mode": {
    "name": "ipython",
    "version": 3
   },
   "file_extension": ".py",
   "mimetype": "text/x-python",
   "name": "python",
   "nbconvert_exporter": "python",
   "pygments_lexer": "ipython3",
   "version": "3.7.3"
  }
 },
 "nbformat": 4,
 "nbformat_minor": 4
}
